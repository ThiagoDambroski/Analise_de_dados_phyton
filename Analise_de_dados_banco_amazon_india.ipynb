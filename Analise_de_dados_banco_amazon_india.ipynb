{
 "cells": [
  {
   "cell_type": "code",
   "execution_count": 7,
   "id": "9e2f9a63",
   "metadata": {
    "scrolled": false
   },
   "outputs": [
    {
     "data": {
      "text/html": [
       "<div>\n",
       "<style scoped>\n",
       "    .dataframe tbody tr th:only-of-type {\n",
       "        vertical-align: middle;\n",
       "    }\n",
       "\n",
       "    .dataframe tbody tr th {\n",
       "        vertical-align: top;\n",
       "    }\n",
       "\n",
       "    .dataframe thead th {\n",
       "        text-align: right;\n",
       "    }\n",
       "</style>\n",
       "<table border=\"1\" class=\"dataframe\">\n",
       "  <thead>\n",
       "    <tr style=\"text-align: right;\">\n",
       "      <th></th>\n",
       "      <th>order_no</th>\n",
       "      <th>order_date</th>\n",
       "      <th>buyer</th>\n",
       "      <th>ship_city</th>\n",
       "      <th>ship_state</th>\n",
       "      <th>sku</th>\n",
       "      <th>description</th>\n",
       "      <th>quantity</th>\n",
       "      <th>item_total</th>\n",
       "      <th>shipping_fee</th>\n",
       "      <th>cod</th>\n",
       "    </tr>\n",
       "  </thead>\n",
       "  <tbody>\n",
       "    <tr>\n",
       "      <th>0</th>\n",
       "      <td>405-9763961-5211537</td>\n",
       "      <td>Sun, 18 Jul, 2021, 10:38 pm IST</td>\n",
       "      <td>Mr.</td>\n",
       "      <td>CHANDIGARH,</td>\n",
       "      <td>CHANDIGARH</td>\n",
       "      <td>SKU:  2X-3C0F-KNJE</td>\n",
       "      <td>100% Leather Elephant Shaped Piggy Coin Bank |...</td>\n",
       "      <td>1</td>\n",
       "      <td>₹449.00</td>\n",
       "      <td>NaN</td>\n",
       "      <td>NaN</td>\n",
       "    </tr>\n",
       "    <tr>\n",
       "      <th>1</th>\n",
       "      <td>404-3964908-7850720</td>\n",
       "      <td>Tue, 19 Oct, 2021, 6:05 pm IST</td>\n",
       "      <td>Minam</td>\n",
       "      <td>PASIGHAT,</td>\n",
       "      <td>ARUNACHAL PRADESH</td>\n",
       "      <td>SKU:  DN-0WDX-VYOT</td>\n",
       "      <td>Women's Set of 5 Multicolor Pure Leather Singl...</td>\n",
       "      <td>1</td>\n",
       "      <td>₹449.00</td>\n",
       "      <td>₹60.18</td>\n",
       "      <td>NaN</td>\n",
       "    </tr>\n",
       "    <tr>\n",
       "      <th>2</th>\n",
       "      <td>171-8103182-4289117</td>\n",
       "      <td>Sun, 28 Nov, 2021, 10:20 pm IST</td>\n",
       "      <td>yatipertin</td>\n",
       "      <td>PASIGHAT,</td>\n",
       "      <td>ARUNACHAL PRADESH</td>\n",
       "      <td>SKU:  DN-0WDX-VYOT</td>\n",
       "      <td>Women's Set of 5 Multicolor Pure Leather Singl...</td>\n",
       "      <td>1</td>\n",
       "      <td>₹449.00</td>\n",
       "      <td>₹60.18</td>\n",
       "      <td>NaN</td>\n",
       "    </tr>\n",
       "    <tr>\n",
       "      <th>3</th>\n",
       "      <td>405-3171677-9557154</td>\n",
       "      <td>Wed, 28 Jul, 2021, 4:06 am IST</td>\n",
       "      <td>aciya</td>\n",
       "      <td>DEVARAKONDA,</td>\n",
       "      <td>TELANGANA</td>\n",
       "      <td>SKU:  AH-J3AO-R7DN</td>\n",
       "      <td>Pure 100% Leather Block Print Rectangular Jewe...</td>\n",
       "      <td>1</td>\n",
       "      <td>NaN</td>\n",
       "      <td>NaN</td>\n",
       "      <td>Cash On Delivery</td>\n",
       "    </tr>\n",
       "    <tr>\n",
       "      <th>4</th>\n",
       "      <td>402-8910771-1215552</td>\n",
       "      <td>Tue, 28 Sept, 2021, 2:50 pm IST</td>\n",
       "      <td>Susmita</td>\n",
       "      <td>MUMBAI,</td>\n",
       "      <td>MAHARASHTRA</td>\n",
       "      <td>SKU:  KL-7WAA-Z82I</td>\n",
       "      <td>Pure Leather Sling Bag with Multiple Pockets a...</td>\n",
       "      <td>1</td>\n",
       "      <td>₹1,099.00</td>\n",
       "      <td>₹84.96</td>\n",
       "      <td>NaN</td>\n",
       "    </tr>\n",
       "    <tr>\n",
       "      <th>...</th>\n",
       "      <td>...</td>\n",
       "      <td>...</td>\n",
       "      <td>...</td>\n",
       "      <td>...</td>\n",
       "      <td>...</td>\n",
       "      <td>...</td>\n",
       "      <td>...</td>\n",
       "      <td>...</td>\n",
       "      <td>...</td>\n",
       "      <td>...</td>\n",
       "      <td>...</td>\n",
       "    </tr>\n",
       "    <tr>\n",
       "      <th>166</th>\n",
       "      <td>171-2829978-1258758</td>\n",
       "      <td>Mon, 13 Dec, 2021, 11:30 am IST</td>\n",
       "      <td>Shahin</td>\n",
       "      <td>MUMBAI,</td>\n",
       "      <td>MAHARASHTRA</td>\n",
       "      <td>SKU:  DN-0WDX-VYOT</td>\n",
       "      <td>Women's Set of 5 Multicolor Pure Leather Singl...</td>\n",
       "      <td>3</td>\n",
       "      <td>₹1,347.00</td>\n",
       "      <td>₹84.96</td>\n",
       "      <td>Cash On Delivery</td>\n",
       "    </tr>\n",
       "    <tr>\n",
       "      <th>167</th>\n",
       "      <td>402-3045457-5360311</td>\n",
       "      <td>Wed, 1 Dec, 2021, 12:18 pm IST</td>\n",
       "      <td>Sharmistha</td>\n",
       "      <td>DEHRADUN,</td>\n",
       "      <td>UTTARAKHAND</td>\n",
       "      <td>SKU:  SB-WDQN-SDN9</td>\n",
       "      <td>Traditional Block-Printed Women's 100% Pure Le...</td>\n",
       "      <td>1</td>\n",
       "      <td>₹1,299.00</td>\n",
       "      <td>₹114.46</td>\n",
       "      <td>NaN</td>\n",
       "    </tr>\n",
       "    <tr>\n",
       "      <th>168</th>\n",
       "      <td>408-2260162-8323567</td>\n",
       "      <td>Thu, 9 Dec, 2021, 6:55 pm IST</td>\n",
       "      <td>shashank</td>\n",
       "      <td>Durg,</td>\n",
       "      <td>CHHATTISGARH</td>\n",
       "      <td>SKU:  SB-WDQN-SDN9</td>\n",
       "      <td>Traditional Block-Printed Women's 100% Pure Le...</td>\n",
       "      <td>1</td>\n",
       "      <td>₹1,299.00</td>\n",
       "      <td>₹105.02</td>\n",
       "      <td>NaN</td>\n",
       "    </tr>\n",
       "    <tr>\n",
       "      <th>169</th>\n",
       "      <td>403-5664951-8941100</td>\n",
       "      <td>Wed, 23 Feb, 2022, 12:43 am IST</td>\n",
       "      <td>Jayeta</td>\n",
       "      <td>KOLKATA,</td>\n",
       "      <td>WEST BENGAL</td>\n",
       "      <td>SKU:  N8-YFZF-P74I</td>\n",
       "      <td>Stylish and Sleek Multiple Pockets 100 Percent...</td>\n",
       "      <td>1</td>\n",
       "      <td>₹1,499.00</td>\n",
       "      <td>₹80.24</td>\n",
       "      <td>Cash On Delivery</td>\n",
       "    </tr>\n",
       "    <tr>\n",
       "      <th>170</th>\n",
       "      <td>402-4845680-8041921</td>\n",
       "      <td>Sun, 26 Dec, 2021, 6:21 pm IST</td>\n",
       "      <td>Varun</td>\n",
       "      <td>MUMBAI,</td>\n",
       "      <td>MAHARASHTRA</td>\n",
       "      <td>SKU:  2X-3C0F-KNJE</td>\n",
       "      <td>100% Leather Elephant Shaped Piggy Coin Bank |...</td>\n",
       "      <td>1</td>\n",
       "      <td>₹449.00</td>\n",
       "      <td>₹84.96</td>\n",
       "      <td>NaN</td>\n",
       "    </tr>\n",
       "  </tbody>\n",
       "</table>\n",
       "<p>171 rows × 11 columns</p>\n",
       "</div>"
      ],
      "text/plain": [
       "                order_no                       order_date       buyer  \\\n",
       "0    405-9763961-5211537  Sun, 18 Jul, 2021, 10:38 pm IST         Mr.   \n",
       "1    404-3964908-7850720   Tue, 19 Oct, 2021, 6:05 pm IST       Minam   \n",
       "2    171-8103182-4289117  Sun, 28 Nov, 2021, 10:20 pm IST  yatipertin   \n",
       "3    405-3171677-9557154   Wed, 28 Jul, 2021, 4:06 am IST       aciya   \n",
       "4    402-8910771-1215552  Tue, 28 Sept, 2021, 2:50 pm IST     Susmita   \n",
       "..                   ...                              ...         ...   \n",
       "166  171-2829978-1258758  Mon, 13 Dec, 2021, 11:30 am IST      Shahin   \n",
       "167  402-3045457-5360311   Wed, 1 Dec, 2021, 12:18 pm IST  Sharmistha   \n",
       "168  408-2260162-8323567    Thu, 9 Dec, 2021, 6:55 pm IST    shashank   \n",
       "169  403-5664951-8941100  Wed, 23 Feb, 2022, 12:43 am IST      Jayeta   \n",
       "170  402-4845680-8041921   Sun, 26 Dec, 2021, 6:21 pm IST       Varun   \n",
       "\n",
       "        ship_city         ship_state                 sku  \\\n",
       "0     CHANDIGARH,         CHANDIGARH  SKU:  2X-3C0F-KNJE   \n",
       "1       PASIGHAT,  ARUNACHAL PRADESH  SKU:  DN-0WDX-VYOT   \n",
       "2       PASIGHAT,  ARUNACHAL PRADESH  SKU:  DN-0WDX-VYOT   \n",
       "3    DEVARAKONDA,          TELANGANA  SKU:  AH-J3AO-R7DN   \n",
       "4         MUMBAI,        MAHARASHTRA  SKU:  KL-7WAA-Z82I   \n",
       "..            ...                ...                 ...   \n",
       "166       MUMBAI,        MAHARASHTRA  SKU:  DN-0WDX-VYOT   \n",
       "167     DEHRADUN,        UTTARAKHAND  SKU:  SB-WDQN-SDN9   \n",
       "168         Durg,       CHHATTISGARH  SKU:  SB-WDQN-SDN9   \n",
       "169      KOLKATA,        WEST BENGAL  SKU:  N8-YFZF-P74I   \n",
       "170       MUMBAI,        MAHARASHTRA  SKU:  2X-3C0F-KNJE   \n",
       "\n",
       "                                           description  quantity item_total  \\\n",
       "0    100% Leather Elephant Shaped Piggy Coin Bank |...         1    ₹449.00   \n",
       "1    Women's Set of 5 Multicolor Pure Leather Singl...         1    ₹449.00   \n",
       "2    Women's Set of 5 Multicolor Pure Leather Singl...         1    ₹449.00   \n",
       "3    Pure 100% Leather Block Print Rectangular Jewe...         1        NaN   \n",
       "4    Pure Leather Sling Bag with Multiple Pockets a...         1  ₹1,099.00   \n",
       "..                                                 ...       ...        ...   \n",
       "166  Women's Set of 5 Multicolor Pure Leather Singl...         3  ₹1,347.00   \n",
       "167  Traditional Block-Printed Women's 100% Pure Le...         1  ₹1,299.00   \n",
       "168  Traditional Block-Printed Women's 100% Pure Le...         1  ₹1,299.00   \n",
       "169  Stylish and Sleek Multiple Pockets 100 Percent...         1  ₹1,499.00   \n",
       "170  100% Leather Elephant Shaped Piggy Coin Bank |...         1    ₹449.00   \n",
       "\n",
       "    shipping_fee               cod  \n",
       "0            NaN               NaN  \n",
       "1         ₹60.18               NaN  \n",
       "2         ₹60.18               NaN  \n",
       "3            NaN  Cash On Delivery  \n",
       "4         ₹84.96               NaN  \n",
       "..           ...               ...  \n",
       "166       ₹84.96  Cash On Delivery  \n",
       "167      ₹114.46               NaN  \n",
       "168      ₹105.02               NaN  \n",
       "169       ₹80.24  Cash On Delivery  \n",
       "170       ₹84.96               NaN  \n",
       "\n",
       "[171 rows x 11 columns]"
      ]
     },
     "metadata": {},
     "output_type": "display_data"
    }
   ],
   "source": [
    "import pandas as pd\n",
    "dados = pd.read_excel(\"orders_data.xlsx\")\n",
    "display(dados)"
   ]
  },
  {
   "cell_type": "code",
   "execution_count": 16,
   "id": "b33cbd02",
   "metadata": {},
   "outputs": [
    {
     "name": "stdout",
     "output_type": "stream",
     "text": [
      "Requirement already satisfied: plotly in c:\\users\\familia\\anaconda3\\lib\\site-packages (5.6.0)\n",
      "Requirement already satisfied: six in c:\\users\\familia\\anaconda3\\lib\\site-packages (from plotly) (1.16.0)\n",
      "Requirement already satisfied: tenacity>=6.2.0 in c:\\users\\familia\\anaconda3\\lib\\site-packages (from plotly) (8.0.1)\n"
     ]
    }
   ],
   "source": [
    "!pip install plotly"
   ]
  },
  {
   "cell_type": "code",
   "execution_count": 30,
   "id": "99cca961",
   "metadata": {
    "scrolled": false
   },
   "outputs": [
    {
     "data": {
      "application/vnd.plotly.v1+json": {
       "config": {
        "plotlyServerURL": "https://plot.ly"
       },
       "data": [
        {
         "alignmentgroup": "True",
         "bingroup": "x",
         "hovertemplate": "ship_state=CHANDIGARH<br>item_total=%{x}<br>count=%{y}<extra></extra>",
         "legendgroup": "CHANDIGARH",
         "marker": {
          "color": "#636efa",
          "pattern": {
           "shape": ""
          }
         },
         "name": "CHANDIGARH",
         "offsetgroup": "CHANDIGARH",
         "orientation": "v",
         "showlegend": true,
         "type": "histogram",
         "x": [
          "₹449.00",
          "₹449.00",
          null
         ],
         "xaxis": "x",
         "yaxis": "y"
        },
        {
         "alignmentgroup": "True",
         "bingroup": "x",
         "hovertemplate": "ship_state=ARUNACHAL PRADESH<br>item_total=%{x}<br>count=%{y}<extra></extra>",
         "legendgroup": "ARUNACHAL PRADESH",
         "marker": {
          "color": "#EF553B",
          "pattern": {
           "shape": ""
          }
         },
         "name": "ARUNACHAL PRADESH",
         "offsetgroup": "ARUNACHAL PRADESH",
         "orientation": "v",
         "showlegend": true,
         "type": "histogram",
         "x": [
          "₹449.00",
          "₹449.00"
         ],
         "xaxis": "x",
         "yaxis": "y"
        },
        {
         "alignmentgroup": "True",
         "bingroup": "x",
         "hovertemplate": "ship_state=TELANGANA<br>item_total=%{x}<br>count=%{y}<extra></extra>",
         "legendgroup": "TELANGANA",
         "marker": {
          "color": "#00cc96",
          "pattern": {
           "shape": ""
          }
         },
         "name": "TELANGANA",
         "offsetgroup": "TELANGANA",
         "orientation": "v",
         "showlegend": true,
         "type": "histogram",
         "x": [
          null,
          "₹399.00",
          "₹449.00",
          "₹549.00",
          "₹649.00",
          "₹175.00",
          "₹349.00",
          "₹399.00",
          "₹399.00",
          "₹399.00",
          null,
          "₹449.00",
          "₹449.00"
         ],
         "xaxis": "x",
         "yaxis": "y"
        },
        {
         "alignmentgroup": "True",
         "bingroup": "x",
         "hovertemplate": "ship_state=MAHARASHTRA<br>item_total=%{x}<br>count=%{y}<extra></extra>",
         "legendgroup": "MAHARASHTRA",
         "marker": {
          "color": "#ab63fa",
          "pattern": {
           "shape": ""
          }
         },
         "name": "MAHARASHTRA",
         "offsetgroup": "MAHARASHTRA",
         "orientation": "v",
         "showlegend": true,
         "type": "histogram",
         "x": [
          "₹1,099.00",
          "₹1,099.00",
          null,
          "₹449.00",
          "₹399.00",
          "₹399.00",
          null,
          "₹449.00",
          "₹449.00",
          "₹449.00",
          "₹399.00",
          "₹449.00",
          "₹175.00",
          "₹399.00",
          "₹175.00",
          "₹399.00",
          "₹399.00",
          "₹399.00",
          "₹449.00",
          "₹898.00",
          "₹399.00",
          "₹499.00",
          "₹1,299.00",
          "₹449.00",
          "₹349.00",
          "₹449.00",
          "₹1,796.00",
          "₹349.00",
          "₹449.00",
          "₹1,347.00",
          "₹449.00"
         ],
         "xaxis": "x",
         "yaxis": "y"
        },
        {
         "alignmentgroup": "True",
         "bingroup": "x",
         "hovertemplate": "ship_state=WEST BENGAL<br>item_total=%{x}<br>count=%{y}<extra></extra>",
         "legendgroup": "WEST BENGAL",
         "marker": {
          "color": "#FFA15A",
          "pattern": {
           "shape": ""
          }
         },
         "name": "WEST BENGAL",
         "offsetgroup": "WEST BENGAL",
         "orientation": "v",
         "showlegend": true,
         "type": "histogram",
         "x": [
          "₹200.00",
          "₹1,099.00",
          "₹250.00",
          null,
          "₹549.00",
          "₹399.00",
          "₹449.00",
          "₹250.00",
          "₹399.00",
          "₹449.00",
          "₹649.00",
          "₹1,299.00",
          "₹3,897.00",
          "₹549.00",
          "₹399.00",
          "₹475.00",
          "₹475.00",
          "₹449.00",
          "₹1,499.00"
         ],
         "xaxis": "x",
         "yaxis": "y"
        },
        {
         "alignmentgroup": "True",
         "bingroup": "x",
         "hovertemplate": "ship_state=UTTAR PRADESH<br>item_total=%{x}<br>count=%{y}<extra></extra>",
         "legendgroup": "UTTAR PRADESH",
         "marker": {
          "color": "#19d3f3",
          "pattern": {
           "shape": ""
          }
         },
         "name": "UTTAR PRADESH",
         "offsetgroup": "UTTAR PRADESH",
         "orientation": "v",
         "showlegend": true,
         "type": "histogram",
         "x": [
          null,
          "₹399.00",
          "₹449.00",
          null,
          null,
          "₹399.00",
          "₹1,299.00",
          "₹449.00",
          "₹449.00",
          "₹449.00",
          "₹349.00",
          "₹449.00"
         ],
         "xaxis": "x",
         "yaxis": "y"
        },
        {
         "alignmentgroup": "True",
         "bingroup": "x",
         "hovertemplate": "ship_state=KARNATAKA<br>item_total=%{x}<br>count=%{y}<extra></extra>",
         "legendgroup": "KARNATAKA",
         "marker": {
          "color": "#FF6692",
          "pattern": {
           "shape": ""
          }
         },
         "name": "KARNATAKA",
         "offsetgroup": "KARNATAKA",
         "orientation": "v",
         "showlegend": true,
         "type": "histogram",
         "x": [
          "₹399.00",
          "₹649.00",
          "₹399.00",
          "₹449.00",
          "₹399.00",
          "₹549.00",
          "₹549.00",
          "₹399.00",
          null,
          "₹349.00",
          "₹899.00",
          "₹549.00",
          "₹449.00",
          null,
          "₹549.00",
          "₹449.00"
         ],
         "xaxis": "x",
         "yaxis": "y"
        },
        {
         "alignmentgroup": "True",
         "bingroup": "x",
         "hovertemplate": "ship_state=CHHATTISGARH<br>item_total=%{x}<br>count=%{y}<extra></extra>",
         "legendgroup": "CHHATTISGARH",
         "marker": {
          "color": "#B6E880",
          "pattern": {
           "shape": ""
          }
         },
         "name": "CHHATTISGARH",
         "offsetgroup": "CHHATTISGARH",
         "orientation": "v",
         "showlegend": true,
         "type": "histogram",
         "x": [
          "₹1,099.00",
          "₹399.00",
          "₹349.00",
          "₹399.00",
          "₹449.00",
          "₹1,299.00"
         ],
         "xaxis": "x",
         "yaxis": "y"
        },
        {
         "alignmentgroup": "True",
         "bingroup": "x",
         "hovertemplate": "ship_state=HARYANA<br>item_total=%{x}<br>count=%{y}<extra></extra>",
         "legendgroup": "HARYANA",
         "marker": {
          "color": "#FF97FF",
          "pattern": {
           "shape": ""
          }
         },
         "name": "HARYANA",
         "offsetgroup": "HARYANA",
         "orientation": "v",
         "showlegend": true,
         "type": "histogram",
         "x": [
          "₹449.00",
          null,
          "₹449.00",
          null,
          "₹399.00",
          "₹1,347.00",
          "₹399.00",
          "₹449.00"
         ],
         "xaxis": "x",
         "yaxis": "y"
        },
        {
         "alignmentgroup": "True",
         "bingroup": "x",
         "hovertemplate": "ship_state=TRIPURA<br>item_total=%{x}<br>count=%{y}<extra></extra>",
         "legendgroup": "TRIPURA",
         "marker": {
          "color": "#FECB52",
          "pattern": {
           "shape": ""
          }
         },
         "name": "TRIPURA",
         "offsetgroup": "TRIPURA",
         "orientation": "v",
         "showlegend": true,
         "type": "histogram",
         "x": [
          "₹449.00"
         ],
         "xaxis": "x",
         "yaxis": "y"
        },
        {
         "alignmentgroup": "True",
         "bingroup": "x",
         "hovertemplate": "ship_state=TAMIL NADU<br>item_total=%{x}<br>count=%{y}<extra></extra>",
         "legendgroup": "TAMIL NADU",
         "marker": {
          "color": "#636efa",
          "pattern": {
           "shape": ""
          }
         },
         "name": "TAMIL NADU",
         "offsetgroup": "TAMIL NADU",
         "orientation": "v",
         "showlegend": true,
         "type": "histogram",
         "x": [
          "₹449.00",
          "₹399.00",
          "₹449.00",
          "₹175.00",
          "₹449.00",
          "₹549.00",
          "₹449.00",
          "₹250.00",
          "₹449.00",
          "₹1,499.00",
          "₹3,897.00",
          "₹475.00",
          "₹399.00",
          "₹399.00",
          "₹449.00",
          "₹449.00",
          null
         ],
         "xaxis": "x",
         "yaxis": "y"
        },
        {
         "alignmentgroup": "True",
         "bingroup": "x",
         "hovertemplate": "ship_state=ODISHA<br>item_total=%{x}<br>count=%{y}<extra></extra>",
         "legendgroup": "ODISHA",
         "marker": {
          "color": "#EF553B",
          "pattern": {
           "shape": ""
          }
         },
         "name": "ODISHA",
         "offsetgroup": "ODISHA",
         "orientation": "v",
         "showlegend": true,
         "type": "histogram",
         "x": [
          "₹449.00",
          "₹649.00"
         ],
         "xaxis": "x",
         "yaxis": "y"
        },
        {
         "alignmentgroup": "True",
         "bingroup": "x",
         "hovertemplate": "ship_state=ANDHRA PRADESH<br>item_total=%{x}<br>count=%{y}<extra></extra>",
         "legendgroup": "ANDHRA PRADESH",
         "marker": {
          "color": "#00cc96",
          "pattern": {
           "shape": ""
          }
         },
         "name": "ANDHRA PRADESH",
         "offsetgroup": "ANDHRA PRADESH",
         "orientation": "v",
         "showlegend": true,
         "type": "histogram",
         "x": [
          "₹250.00",
          "₹399.00",
          "₹475.00"
         ],
         "xaxis": "x",
         "yaxis": "y"
        },
        {
         "alignmentgroup": "True",
         "bingroup": "x",
         "hovertemplate": "ship_state=DELHI<br>item_total=%{x}<br>count=%{y}<extra></extra>",
         "legendgroup": "DELHI",
         "marker": {
          "color": "#ab63fa",
          "pattern": {
           "shape": ""
          }
         },
         "name": "DELHI",
         "offsetgroup": "DELHI",
         "orientation": "v",
         "showlegend": true,
         "type": "histogram",
         "x": [
          "₹399.00",
          null,
          "₹349.00",
          "₹549.00",
          "₹549.00",
          "₹449.00",
          "₹449.00",
          "₹449.00"
         ],
         "xaxis": "x",
         "yaxis": "y"
        },
        {
         "alignmentgroup": "True",
         "bingroup": "x",
         "hovertemplate": "ship_state=GOA<br>item_total=%{x}<br>count=%{y}<extra></extra>",
         "legendgroup": "GOA",
         "marker": {
          "color": "#FFA15A",
          "pattern": {
           "shape": ""
          }
         },
         "name": "GOA",
         "offsetgroup": "GOA",
         "orientation": "v",
         "showlegend": true,
         "type": "histogram",
         "x": [
          "₹449.00",
          "₹449.00"
         ],
         "xaxis": "x",
         "yaxis": "y"
        },
        {
         "alignmentgroup": "True",
         "bingroup": "x",
         "hovertemplate": "ship_state=Odisha<br>item_total=%{x}<br>count=%{y}<extra></extra>",
         "legendgroup": "Odisha",
         "marker": {
          "color": "#19d3f3",
          "pattern": {
           "shape": ""
          }
         },
         "name": "Odisha",
         "offsetgroup": "Odisha",
         "orientation": "v",
         "showlegend": true,
         "type": "histogram",
         "x": [
          "₹449.00"
         ],
         "xaxis": "x",
         "yaxis": "y"
        },
        {
         "alignmentgroup": "True",
         "bingroup": "x",
         "hovertemplate": "ship_state=JAMMU & KASHMIR<br>item_total=%{x}<br>count=%{y}<extra></extra>",
         "legendgroup": "JAMMU & KASHMIR",
         "marker": {
          "color": "#FF6692",
          "pattern": {
           "shape": ""
          }
         },
         "name": "JAMMU & KASHMIR",
         "offsetgroup": "JAMMU & KASHMIR",
         "orientation": "v",
         "showlegend": true,
         "type": "histogram",
         "x": [
          "₹399.00"
         ],
         "xaxis": "x",
         "yaxis": "y"
        },
        {
         "alignmentgroup": "True",
         "bingroup": "x",
         "hovertemplate": "ship_state=GUJARAT<br>item_total=%{x}<br>count=%{y}<extra></extra>",
         "legendgroup": "GUJARAT",
         "marker": {
          "color": "#B6E880",
          "pattern": {
           "shape": ""
          }
         },
         "name": "GUJARAT",
         "offsetgroup": "GUJARAT",
         "orientation": "v",
         "showlegend": true,
         "type": "histogram",
         "x": [
          "₹250.00",
          "₹1,299.00",
          "₹1,099.00",
          "₹449.00",
          "₹349.00",
          "₹399.00"
         ],
         "xaxis": "x",
         "yaxis": "y"
        },
        {
         "alignmentgroup": "True",
         "bingroup": "x",
         "hovertemplate": "ship_state=ASSAM<br>item_total=%{x}<br>count=%{y}<extra></extra>",
         "legendgroup": "ASSAM",
         "marker": {
          "color": "#FF97FF",
          "pattern": {
           "shape": ""
          }
         },
         "name": "ASSAM",
         "offsetgroup": "ASSAM",
         "orientation": "v",
         "showlegend": true,
         "type": "histogram",
         "x": [
          "₹250.00",
          "₹1,099.00",
          null,
          "₹649.00"
         ],
         "xaxis": "x",
         "yaxis": "y"
        },
        {
         "alignmentgroup": "True",
         "bingroup": "x",
         "hovertemplate": "ship_state=KERALA<br>item_total=%{x}<br>count=%{y}<extra></extra>",
         "legendgroup": "KERALA",
         "marker": {
          "color": "#FECB52",
          "pattern": {
           "shape": ""
          }
         },
         "name": "KERALA",
         "offsetgroup": "KERALA",
         "orientation": "v",
         "showlegend": true,
         "type": "histogram",
         "x": [
          "₹1,099.00",
          "₹250.00",
          "₹399.00",
          null
         ],
         "xaxis": "x",
         "yaxis": "y"
        },
        {
         "alignmentgroup": "True",
         "bingroup": "x",
         "hovertemplate": "ship_state=Maharashtra<br>item_total=%{x}<br>count=%{y}<extra></extra>",
         "legendgroup": "Maharashtra",
         "marker": {
          "color": "#636efa",
          "pattern": {
           "shape": ""
          }
         },
         "name": "Maharashtra",
         "offsetgroup": "Maharashtra",
         "orientation": "v",
         "showlegend": true,
         "type": "histogram",
         "x": [
          "₹399.00"
         ],
         "xaxis": "x",
         "yaxis": "y"
        },
        {
         "alignmentgroup": "True",
         "bingroup": "x",
         "hovertemplate": "ship_state=PUNJAB<br>item_total=%{x}<br>count=%{y}<extra></extra>",
         "legendgroup": "PUNJAB",
         "marker": {
          "color": "#EF553B",
          "pattern": {
           "shape": ""
          }
         },
         "name": "PUNJAB",
         "offsetgroup": "PUNJAB",
         "orientation": "v",
         "showlegend": true,
         "type": "histogram",
         "x": [
          "₹449.00"
         ],
         "xaxis": "x",
         "yaxis": "y"
        },
        {
         "alignmentgroup": "True",
         "bingroup": "x",
         "hovertemplate": "ship_state=RAJASTHAN<br>item_total=%{x}<br>count=%{y}<extra></extra>",
         "legendgroup": "RAJASTHAN",
         "marker": {
          "color": "#00cc96",
          "pattern": {
           "shape": ""
          }
         },
         "name": "RAJASTHAN",
         "offsetgroup": "RAJASTHAN",
         "orientation": "v",
         "showlegend": true,
         "type": "histogram",
         "x": [
          "₹1,299.00",
          "₹449.00",
          null
         ],
         "xaxis": "x",
         "yaxis": "y"
        },
        {
         "alignmentgroup": "True",
         "bingroup": "x",
         "hovertemplate": "ship_state=CHANDIGARH,<br>item_total=%{x}<br>count=%{y}<extra></extra>",
         "legendgroup": "CHANDIGARH,",
         "marker": {
          "color": "#ab63fa",
          "pattern": {
           "shape": ""
          }
         },
         "name": "CHANDIGARH,",
         "offsetgroup": "CHANDIGARH,",
         "orientation": "v",
         "showlegend": true,
         "type": "histogram",
         "x": [
          "₹475.00"
         ],
         "xaxis": "x",
         "yaxis": "y"
        },
        {
         "alignmentgroup": "True",
         "bingroup": "x",
         "hovertemplate": "ship_state=BIHAR<br>item_total=%{x}<br>count=%{y}<extra></extra>",
         "legendgroup": "BIHAR",
         "marker": {
          "color": "#FFA15A",
          "pattern": {
           "shape": ""
          }
         },
         "name": "BIHAR",
         "offsetgroup": "BIHAR",
         "orientation": "v",
         "showlegend": true,
         "type": "histogram",
         "x": [
          "₹549.00"
         ],
         "xaxis": "x",
         "yaxis": "y"
        },
        {
         "alignmentgroup": "True",
         "bingroup": "x",
         "hovertemplate": "ship_state=MADHYA Pradesh<br>item_total=%{x}<br>count=%{y}<extra></extra>",
         "legendgroup": "MADHYA Pradesh",
         "marker": {
          "color": "#19d3f3",
          "pattern": {
           "shape": ""
          }
         },
         "name": "MADHYA Pradesh",
         "offsetgroup": "MADHYA Pradesh",
         "orientation": "v",
         "showlegend": true,
         "type": "histogram",
         "x": [
          "₹449.00"
         ],
         "xaxis": "x",
         "yaxis": "y"
        },
        {
         "alignmentgroup": "True",
         "bingroup": "x",
         "hovertemplate": "ship_state=MOHALI,<br>item_total=%{x}<br>count=%{y}<extra></extra>",
         "legendgroup": "MOHALI,",
         "marker": {
          "color": "#FF6692",
          "pattern": {
           "shape": ""
          }
         },
         "name": "MOHALI,",
         "offsetgroup": "MOHALI,",
         "orientation": "v",
         "showlegend": true,
         "type": "histogram",
         "x": [
          "₹449.00"
         ],
         "xaxis": "x",
         "yaxis": "y"
        },
        {
         "alignmentgroup": "True",
         "bingroup": "x",
         "hovertemplate": "ship_state=Andhra Pradesh<br>item_total=%{x}<br>count=%{y}<extra></extra>",
         "legendgroup": "Andhra Pradesh",
         "marker": {
          "color": "#B6E880",
          "pattern": {
           "shape": ""
          }
         },
         "name": "Andhra Pradesh",
         "offsetgroup": "Andhra Pradesh",
         "orientation": "v",
         "showlegend": true,
         "type": "histogram",
         "x": [
          "₹399.00"
         ],
         "xaxis": "x",
         "yaxis": "y"
        },
        {
         "alignmentgroup": "True",
         "bingroup": "x",
         "hovertemplate": "ship_state=Himachal Pradesh<br>item_total=%{x}<br>count=%{y}<extra></extra>",
         "legendgroup": "Himachal Pradesh",
         "marker": {
          "color": "#FF97FF",
          "pattern": {
           "shape": ""
          }
         },
         "name": "Himachal Pradesh",
         "offsetgroup": "Himachal Pradesh",
         "orientation": "v",
         "showlegend": true,
         "type": "histogram",
         "x": [
          "₹399.00"
         ],
         "xaxis": "x",
         "yaxis": "y"
        },
        {
         "alignmentgroup": "True",
         "bingroup": "x",
         "hovertemplate": "ship_state=UTTARAKHAND<br>item_total=%{x}<br>count=%{y}<extra></extra>",
         "legendgroup": "UTTARAKHAND",
         "marker": {
          "color": "#FECB52",
          "pattern": {
           "shape": ""
          }
         },
         "name": "UTTARAKHAND",
         "offsetgroup": "UTTARAKHAND",
         "orientation": "v",
         "showlegend": true,
         "type": "histogram",
         "x": [
          "₹1,299.00"
         ],
         "xaxis": "x",
         "yaxis": "y"
        }
       ],
       "layout": {
        "barmode": "relative",
        "legend": {
         "title": {
          "text": "ship_state"
         },
         "tracegroupgap": 0
        },
        "margin": {
         "t": 60
        },
        "template": {
         "data": {
          "bar": [
           {
            "error_x": {
             "color": "#2a3f5f"
            },
            "error_y": {
             "color": "#2a3f5f"
            },
            "marker": {
             "line": {
              "color": "#E5ECF6",
              "width": 0.5
             },
             "pattern": {
              "fillmode": "overlay",
              "size": 10,
              "solidity": 0.2
             }
            },
            "type": "bar"
           }
          ],
          "barpolar": [
           {
            "marker": {
             "line": {
              "color": "#E5ECF6",
              "width": 0.5
             },
             "pattern": {
              "fillmode": "overlay",
              "size": 10,
              "solidity": 0.2
             }
            },
            "type": "barpolar"
           }
          ],
          "carpet": [
           {
            "aaxis": {
             "endlinecolor": "#2a3f5f",
             "gridcolor": "white",
             "linecolor": "white",
             "minorgridcolor": "white",
             "startlinecolor": "#2a3f5f"
            },
            "baxis": {
             "endlinecolor": "#2a3f5f",
             "gridcolor": "white",
             "linecolor": "white",
             "minorgridcolor": "white",
             "startlinecolor": "#2a3f5f"
            },
            "type": "carpet"
           }
          ],
          "choropleth": [
           {
            "colorbar": {
             "outlinewidth": 0,
             "ticks": ""
            },
            "type": "choropleth"
           }
          ],
          "contour": [
           {
            "colorbar": {
             "outlinewidth": 0,
             "ticks": ""
            },
            "colorscale": [
             [
              0,
              "#0d0887"
             ],
             [
              0.1111111111111111,
              "#46039f"
             ],
             [
              0.2222222222222222,
              "#7201a8"
             ],
             [
              0.3333333333333333,
              "#9c179e"
             ],
             [
              0.4444444444444444,
              "#bd3786"
             ],
             [
              0.5555555555555556,
              "#d8576b"
             ],
             [
              0.6666666666666666,
              "#ed7953"
             ],
             [
              0.7777777777777778,
              "#fb9f3a"
             ],
             [
              0.8888888888888888,
              "#fdca26"
             ],
             [
              1,
              "#f0f921"
             ]
            ],
            "type": "contour"
           }
          ],
          "contourcarpet": [
           {
            "colorbar": {
             "outlinewidth": 0,
             "ticks": ""
            },
            "type": "contourcarpet"
           }
          ],
          "heatmap": [
           {
            "colorbar": {
             "outlinewidth": 0,
             "ticks": ""
            },
            "colorscale": [
             [
              0,
              "#0d0887"
             ],
             [
              0.1111111111111111,
              "#46039f"
             ],
             [
              0.2222222222222222,
              "#7201a8"
             ],
             [
              0.3333333333333333,
              "#9c179e"
             ],
             [
              0.4444444444444444,
              "#bd3786"
             ],
             [
              0.5555555555555556,
              "#d8576b"
             ],
             [
              0.6666666666666666,
              "#ed7953"
             ],
             [
              0.7777777777777778,
              "#fb9f3a"
             ],
             [
              0.8888888888888888,
              "#fdca26"
             ],
             [
              1,
              "#f0f921"
             ]
            ],
            "type": "heatmap"
           }
          ],
          "heatmapgl": [
           {
            "colorbar": {
             "outlinewidth": 0,
             "ticks": ""
            },
            "colorscale": [
             [
              0,
              "#0d0887"
             ],
             [
              0.1111111111111111,
              "#46039f"
             ],
             [
              0.2222222222222222,
              "#7201a8"
             ],
             [
              0.3333333333333333,
              "#9c179e"
             ],
             [
              0.4444444444444444,
              "#bd3786"
             ],
             [
              0.5555555555555556,
              "#d8576b"
             ],
             [
              0.6666666666666666,
              "#ed7953"
             ],
             [
              0.7777777777777778,
              "#fb9f3a"
             ],
             [
              0.8888888888888888,
              "#fdca26"
             ],
             [
              1,
              "#f0f921"
             ]
            ],
            "type": "heatmapgl"
           }
          ],
          "histogram": [
           {
            "marker": {
             "pattern": {
              "fillmode": "overlay",
              "size": 10,
              "solidity": 0.2
             }
            },
            "type": "histogram"
           }
          ],
          "histogram2d": [
           {
            "colorbar": {
             "outlinewidth": 0,
             "ticks": ""
            },
            "colorscale": [
             [
              0,
              "#0d0887"
             ],
             [
              0.1111111111111111,
              "#46039f"
             ],
             [
              0.2222222222222222,
              "#7201a8"
             ],
             [
              0.3333333333333333,
              "#9c179e"
             ],
             [
              0.4444444444444444,
              "#bd3786"
             ],
             [
              0.5555555555555556,
              "#d8576b"
             ],
             [
              0.6666666666666666,
              "#ed7953"
             ],
             [
              0.7777777777777778,
              "#fb9f3a"
             ],
             [
              0.8888888888888888,
              "#fdca26"
             ],
             [
              1,
              "#f0f921"
             ]
            ],
            "type": "histogram2d"
           }
          ],
          "histogram2dcontour": [
           {
            "colorbar": {
             "outlinewidth": 0,
             "ticks": ""
            },
            "colorscale": [
             [
              0,
              "#0d0887"
             ],
             [
              0.1111111111111111,
              "#46039f"
             ],
             [
              0.2222222222222222,
              "#7201a8"
             ],
             [
              0.3333333333333333,
              "#9c179e"
             ],
             [
              0.4444444444444444,
              "#bd3786"
             ],
             [
              0.5555555555555556,
              "#d8576b"
             ],
             [
              0.6666666666666666,
              "#ed7953"
             ],
             [
              0.7777777777777778,
              "#fb9f3a"
             ],
             [
              0.8888888888888888,
              "#fdca26"
             ],
             [
              1,
              "#f0f921"
             ]
            ],
            "type": "histogram2dcontour"
           }
          ],
          "mesh3d": [
           {
            "colorbar": {
             "outlinewidth": 0,
             "ticks": ""
            },
            "type": "mesh3d"
           }
          ],
          "parcoords": [
           {
            "line": {
             "colorbar": {
              "outlinewidth": 0,
              "ticks": ""
             }
            },
            "type": "parcoords"
           }
          ],
          "pie": [
           {
            "automargin": true,
            "type": "pie"
           }
          ],
          "scatter": [
           {
            "marker": {
             "colorbar": {
              "outlinewidth": 0,
              "ticks": ""
             }
            },
            "type": "scatter"
           }
          ],
          "scatter3d": [
           {
            "line": {
             "colorbar": {
              "outlinewidth": 0,
              "ticks": ""
             }
            },
            "marker": {
             "colorbar": {
              "outlinewidth": 0,
              "ticks": ""
             }
            },
            "type": "scatter3d"
           }
          ],
          "scattercarpet": [
           {
            "marker": {
             "colorbar": {
              "outlinewidth": 0,
              "ticks": ""
             }
            },
            "type": "scattercarpet"
           }
          ],
          "scattergeo": [
           {
            "marker": {
             "colorbar": {
              "outlinewidth": 0,
              "ticks": ""
             }
            },
            "type": "scattergeo"
           }
          ],
          "scattergl": [
           {
            "marker": {
             "colorbar": {
              "outlinewidth": 0,
              "ticks": ""
             }
            },
            "type": "scattergl"
           }
          ],
          "scattermapbox": [
           {
            "marker": {
             "colorbar": {
              "outlinewidth": 0,
              "ticks": ""
             }
            },
            "type": "scattermapbox"
           }
          ],
          "scatterpolar": [
           {
            "marker": {
             "colorbar": {
              "outlinewidth": 0,
              "ticks": ""
             }
            },
            "type": "scatterpolar"
           }
          ],
          "scatterpolargl": [
           {
            "marker": {
             "colorbar": {
              "outlinewidth": 0,
              "ticks": ""
             }
            },
            "type": "scatterpolargl"
           }
          ],
          "scatterternary": [
           {
            "marker": {
             "colorbar": {
              "outlinewidth": 0,
              "ticks": ""
             }
            },
            "type": "scatterternary"
           }
          ],
          "surface": [
           {
            "colorbar": {
             "outlinewidth": 0,
             "ticks": ""
            },
            "colorscale": [
             [
              0,
              "#0d0887"
             ],
             [
              0.1111111111111111,
              "#46039f"
             ],
             [
              0.2222222222222222,
              "#7201a8"
             ],
             [
              0.3333333333333333,
              "#9c179e"
             ],
             [
              0.4444444444444444,
              "#bd3786"
             ],
             [
              0.5555555555555556,
              "#d8576b"
             ],
             [
              0.6666666666666666,
              "#ed7953"
             ],
             [
              0.7777777777777778,
              "#fb9f3a"
             ],
             [
              0.8888888888888888,
              "#fdca26"
             ],
             [
              1,
              "#f0f921"
             ]
            ],
            "type": "surface"
           }
          ],
          "table": [
           {
            "cells": {
             "fill": {
              "color": "#EBF0F8"
             },
             "line": {
              "color": "white"
             }
            },
            "header": {
             "fill": {
              "color": "#C8D4E3"
             },
             "line": {
              "color": "white"
             }
            },
            "type": "table"
           }
          ]
         },
         "layout": {
          "annotationdefaults": {
           "arrowcolor": "#2a3f5f",
           "arrowhead": 0,
           "arrowwidth": 1
          },
          "autotypenumbers": "strict",
          "coloraxis": {
           "colorbar": {
            "outlinewidth": 0,
            "ticks": ""
           }
          },
          "colorscale": {
           "diverging": [
            [
             0,
             "#8e0152"
            ],
            [
             0.1,
             "#c51b7d"
            ],
            [
             0.2,
             "#de77ae"
            ],
            [
             0.3,
             "#f1b6da"
            ],
            [
             0.4,
             "#fde0ef"
            ],
            [
             0.5,
             "#f7f7f7"
            ],
            [
             0.6,
             "#e6f5d0"
            ],
            [
             0.7,
             "#b8e186"
            ],
            [
             0.8,
             "#7fbc41"
            ],
            [
             0.9,
             "#4d9221"
            ],
            [
             1,
             "#276419"
            ]
           ],
           "sequential": [
            [
             0,
             "#0d0887"
            ],
            [
             0.1111111111111111,
             "#46039f"
            ],
            [
             0.2222222222222222,
             "#7201a8"
            ],
            [
             0.3333333333333333,
             "#9c179e"
            ],
            [
             0.4444444444444444,
             "#bd3786"
            ],
            [
             0.5555555555555556,
             "#d8576b"
            ],
            [
             0.6666666666666666,
             "#ed7953"
            ],
            [
             0.7777777777777778,
             "#fb9f3a"
            ],
            [
             0.8888888888888888,
             "#fdca26"
            ],
            [
             1,
             "#f0f921"
            ]
           ],
           "sequentialminus": [
            [
             0,
             "#0d0887"
            ],
            [
             0.1111111111111111,
             "#46039f"
            ],
            [
             0.2222222222222222,
             "#7201a8"
            ],
            [
             0.3333333333333333,
             "#9c179e"
            ],
            [
             0.4444444444444444,
             "#bd3786"
            ],
            [
             0.5555555555555556,
             "#d8576b"
            ],
            [
             0.6666666666666666,
             "#ed7953"
            ],
            [
             0.7777777777777778,
             "#fb9f3a"
            ],
            [
             0.8888888888888888,
             "#fdca26"
            ],
            [
             1,
             "#f0f921"
            ]
           ]
          },
          "colorway": [
           "#636efa",
           "#EF553B",
           "#00cc96",
           "#ab63fa",
           "#FFA15A",
           "#19d3f3",
           "#FF6692",
           "#B6E880",
           "#FF97FF",
           "#FECB52"
          ],
          "font": {
           "color": "#2a3f5f"
          },
          "geo": {
           "bgcolor": "white",
           "lakecolor": "white",
           "landcolor": "#E5ECF6",
           "showlakes": true,
           "showland": true,
           "subunitcolor": "white"
          },
          "hoverlabel": {
           "align": "left"
          },
          "hovermode": "closest",
          "mapbox": {
           "style": "light"
          },
          "paper_bgcolor": "white",
          "plot_bgcolor": "#E5ECF6",
          "polar": {
           "angularaxis": {
            "gridcolor": "white",
            "linecolor": "white",
            "ticks": ""
           },
           "bgcolor": "#E5ECF6",
           "radialaxis": {
            "gridcolor": "white",
            "linecolor": "white",
            "ticks": ""
           }
          },
          "scene": {
           "xaxis": {
            "backgroundcolor": "#E5ECF6",
            "gridcolor": "white",
            "gridwidth": 2,
            "linecolor": "white",
            "showbackground": true,
            "ticks": "",
            "zerolinecolor": "white"
           },
           "yaxis": {
            "backgroundcolor": "#E5ECF6",
            "gridcolor": "white",
            "gridwidth": 2,
            "linecolor": "white",
            "showbackground": true,
            "ticks": "",
            "zerolinecolor": "white"
           },
           "zaxis": {
            "backgroundcolor": "#E5ECF6",
            "gridcolor": "white",
            "gridwidth": 2,
            "linecolor": "white",
            "showbackground": true,
            "ticks": "",
            "zerolinecolor": "white"
           }
          },
          "shapedefaults": {
           "line": {
            "color": "#2a3f5f"
           }
          },
          "ternary": {
           "aaxis": {
            "gridcolor": "white",
            "linecolor": "white",
            "ticks": ""
           },
           "baxis": {
            "gridcolor": "white",
            "linecolor": "white",
            "ticks": ""
           },
           "bgcolor": "#E5ECF6",
           "caxis": {
            "gridcolor": "white",
            "linecolor": "white",
            "ticks": ""
           }
          },
          "title": {
           "x": 0.05
          },
          "xaxis": {
           "automargin": true,
           "gridcolor": "white",
           "linecolor": "white",
           "ticks": "",
           "title": {
            "standoff": 15
           },
           "zerolinecolor": "white",
           "zerolinewidth": 2
          },
          "yaxis": {
           "automargin": true,
           "gridcolor": "white",
           "linecolor": "white",
           "ticks": "",
           "title": {
            "standoff": 15
           },
           "zerolinecolor": "white",
           "zerolinewidth": 2
          }
         }
        },
        "xaxis": {
         "anchor": "y",
         "domain": [
          0,
          1
         ],
         "title": {
          "text": "item_total"
         }
        },
        "yaxis": {
         "anchor": "x",
         "domain": [
          0,
          1
         ],
         "title": {
          "text": "count"
         }
        }
       }
      },
      "text/html": [
       "<div>                            <div id=\"d12ab963-6eb5-4e7e-af7f-b9e9d060ddb9\" class=\"plotly-graph-div\" style=\"height:525px; width:100%;\"></div>            <script type=\"text/javascript\">                require([\"plotly\"], function(Plotly) {                    window.PLOTLYENV=window.PLOTLYENV || {};                                    if (document.getElementById(\"d12ab963-6eb5-4e7e-af7f-b9e9d060ddb9\")) {                    Plotly.newPlot(                        \"d12ab963-6eb5-4e7e-af7f-b9e9d060ddb9\",                        [{\"alignmentgroup\":\"True\",\"bingroup\":\"x\",\"hovertemplate\":\"ship_state=CHANDIGARH<br>item_total=%{x}<br>count=%{y}<extra></extra>\",\"legendgroup\":\"CHANDIGARH\",\"marker\":{\"color\":\"#636efa\",\"pattern\":{\"shape\":\"\"}},\"name\":\"CHANDIGARH\",\"offsetgroup\":\"CHANDIGARH\",\"orientation\":\"v\",\"showlegend\":true,\"x\":[\"\\u20b9449.00\",\"\\u20b9449.00\",null],\"xaxis\":\"x\",\"yaxis\":\"y\",\"type\":\"histogram\"},{\"alignmentgroup\":\"True\",\"bingroup\":\"x\",\"hovertemplate\":\"ship_state=ARUNACHAL PRADESH<br>item_total=%{x}<br>count=%{y}<extra></extra>\",\"legendgroup\":\"ARUNACHAL PRADESH\",\"marker\":{\"color\":\"#EF553B\",\"pattern\":{\"shape\":\"\"}},\"name\":\"ARUNACHAL PRADESH\",\"offsetgroup\":\"ARUNACHAL PRADESH\",\"orientation\":\"v\",\"showlegend\":true,\"x\":[\"\\u20b9449.00\",\"\\u20b9449.00\"],\"xaxis\":\"x\",\"yaxis\":\"y\",\"type\":\"histogram\"},{\"alignmentgroup\":\"True\",\"bingroup\":\"x\",\"hovertemplate\":\"ship_state=TELANGANA<br>item_total=%{x}<br>count=%{y}<extra></extra>\",\"legendgroup\":\"TELANGANA\",\"marker\":{\"color\":\"#00cc96\",\"pattern\":{\"shape\":\"\"}},\"name\":\"TELANGANA\",\"offsetgroup\":\"TELANGANA\",\"orientation\":\"v\",\"showlegend\":true,\"x\":[null,\"\\u20b9399.00\",\"\\u20b9449.00\",\"\\u20b9549.00\",\"\\u20b9649.00\",\"\\u20b9175.00\",\"\\u20b9349.00\",\"\\u20b9399.00\",\"\\u20b9399.00\",\"\\u20b9399.00\",null,\"\\u20b9449.00\",\"\\u20b9449.00\"],\"xaxis\":\"x\",\"yaxis\":\"y\",\"type\":\"histogram\"},{\"alignmentgroup\":\"True\",\"bingroup\":\"x\",\"hovertemplate\":\"ship_state=MAHARASHTRA<br>item_total=%{x}<br>count=%{y}<extra></extra>\",\"legendgroup\":\"MAHARASHTRA\",\"marker\":{\"color\":\"#ab63fa\",\"pattern\":{\"shape\":\"\"}},\"name\":\"MAHARASHTRA\",\"offsetgroup\":\"MAHARASHTRA\",\"orientation\":\"v\",\"showlegend\":true,\"x\":[\"\\u20b91,099.00\",\"\\u20b91,099.00\",null,\"\\u20b9449.00\",\"\\u20b9399.00\",\"\\u20b9399.00\",null,\"\\u20b9449.00\",\"\\u20b9449.00\",\"\\u20b9449.00\",\"\\u20b9399.00\",\"\\u20b9449.00\",\"\\u20b9175.00\",\"\\u20b9399.00\",\"\\u20b9175.00\",\"\\u20b9399.00\",\"\\u20b9399.00\",\"\\u20b9399.00\",\"\\u20b9449.00\",\"\\u20b9898.00\",\"\\u20b9399.00\",\"\\u20b9499.00\",\"\\u20b91,299.00\",\"\\u20b9449.00\",\"\\u20b9349.00\",\"\\u20b9449.00\",\"\\u20b91,796.00\",\"\\u20b9349.00\",\"\\u20b9449.00\",\"\\u20b91,347.00\",\"\\u20b9449.00\"],\"xaxis\":\"x\",\"yaxis\":\"y\",\"type\":\"histogram\"},{\"alignmentgroup\":\"True\",\"bingroup\":\"x\",\"hovertemplate\":\"ship_state=WEST BENGAL<br>item_total=%{x}<br>count=%{y}<extra></extra>\",\"legendgroup\":\"WEST BENGAL\",\"marker\":{\"color\":\"#FFA15A\",\"pattern\":{\"shape\":\"\"}},\"name\":\"WEST BENGAL\",\"offsetgroup\":\"WEST BENGAL\",\"orientation\":\"v\",\"showlegend\":true,\"x\":[\"\\u20b9200.00\",\"\\u20b91,099.00\",\"\\u20b9250.00\",null,\"\\u20b9549.00\",\"\\u20b9399.00\",\"\\u20b9449.00\",\"\\u20b9250.00\",\"\\u20b9399.00\",\"\\u20b9449.00\",\"\\u20b9649.00\",\"\\u20b91,299.00\",\"\\u20b93,897.00\",\"\\u20b9549.00\",\"\\u20b9399.00\",\"\\u20b9475.00\",\"\\u20b9475.00\",\"\\u20b9449.00\",\"\\u20b91,499.00\"],\"xaxis\":\"x\",\"yaxis\":\"y\",\"type\":\"histogram\"},{\"alignmentgroup\":\"True\",\"bingroup\":\"x\",\"hovertemplate\":\"ship_state=UTTAR PRADESH<br>item_total=%{x}<br>count=%{y}<extra></extra>\",\"legendgroup\":\"UTTAR PRADESH\",\"marker\":{\"color\":\"#19d3f3\",\"pattern\":{\"shape\":\"\"}},\"name\":\"UTTAR PRADESH\",\"offsetgroup\":\"UTTAR PRADESH\",\"orientation\":\"v\",\"showlegend\":true,\"x\":[null,\"\\u20b9399.00\",\"\\u20b9449.00\",null,null,\"\\u20b9399.00\",\"\\u20b91,299.00\",\"\\u20b9449.00\",\"\\u20b9449.00\",\"\\u20b9449.00\",\"\\u20b9349.00\",\"\\u20b9449.00\"],\"xaxis\":\"x\",\"yaxis\":\"y\",\"type\":\"histogram\"},{\"alignmentgroup\":\"True\",\"bingroup\":\"x\",\"hovertemplate\":\"ship_state=KARNATAKA<br>item_total=%{x}<br>count=%{y}<extra></extra>\",\"legendgroup\":\"KARNATAKA\",\"marker\":{\"color\":\"#FF6692\",\"pattern\":{\"shape\":\"\"}},\"name\":\"KARNATAKA\",\"offsetgroup\":\"KARNATAKA\",\"orientation\":\"v\",\"showlegend\":true,\"x\":[\"\\u20b9399.00\",\"\\u20b9649.00\",\"\\u20b9399.00\",\"\\u20b9449.00\",\"\\u20b9399.00\",\"\\u20b9549.00\",\"\\u20b9549.00\",\"\\u20b9399.00\",null,\"\\u20b9349.00\",\"\\u20b9899.00\",\"\\u20b9549.00\",\"\\u20b9449.00\",null,\"\\u20b9549.00\",\"\\u20b9449.00\"],\"xaxis\":\"x\",\"yaxis\":\"y\",\"type\":\"histogram\"},{\"alignmentgroup\":\"True\",\"bingroup\":\"x\",\"hovertemplate\":\"ship_state=CHHATTISGARH<br>item_total=%{x}<br>count=%{y}<extra></extra>\",\"legendgroup\":\"CHHATTISGARH\",\"marker\":{\"color\":\"#B6E880\",\"pattern\":{\"shape\":\"\"}},\"name\":\"CHHATTISGARH\",\"offsetgroup\":\"CHHATTISGARH\",\"orientation\":\"v\",\"showlegend\":true,\"x\":[\"\\u20b91,099.00\",\"\\u20b9399.00\",\"\\u20b9349.00\",\"\\u20b9399.00\",\"\\u20b9449.00\",\"\\u20b91,299.00\"],\"xaxis\":\"x\",\"yaxis\":\"y\",\"type\":\"histogram\"},{\"alignmentgroup\":\"True\",\"bingroup\":\"x\",\"hovertemplate\":\"ship_state=HARYANA<br>item_total=%{x}<br>count=%{y}<extra></extra>\",\"legendgroup\":\"HARYANA\",\"marker\":{\"color\":\"#FF97FF\",\"pattern\":{\"shape\":\"\"}},\"name\":\"HARYANA\",\"offsetgroup\":\"HARYANA\",\"orientation\":\"v\",\"showlegend\":true,\"x\":[\"\\u20b9449.00\",null,\"\\u20b9449.00\",null,\"\\u20b9399.00\",\"\\u20b91,347.00\",\"\\u20b9399.00\",\"\\u20b9449.00\"],\"xaxis\":\"x\",\"yaxis\":\"y\",\"type\":\"histogram\"},{\"alignmentgroup\":\"True\",\"bingroup\":\"x\",\"hovertemplate\":\"ship_state=TRIPURA<br>item_total=%{x}<br>count=%{y}<extra></extra>\",\"legendgroup\":\"TRIPURA\",\"marker\":{\"color\":\"#FECB52\",\"pattern\":{\"shape\":\"\"}},\"name\":\"TRIPURA\",\"offsetgroup\":\"TRIPURA\",\"orientation\":\"v\",\"showlegend\":true,\"x\":[\"\\u20b9449.00\"],\"xaxis\":\"x\",\"yaxis\":\"y\",\"type\":\"histogram\"},{\"alignmentgroup\":\"True\",\"bingroup\":\"x\",\"hovertemplate\":\"ship_state=TAMIL NADU<br>item_total=%{x}<br>count=%{y}<extra></extra>\",\"legendgroup\":\"TAMIL NADU\",\"marker\":{\"color\":\"#636efa\",\"pattern\":{\"shape\":\"\"}},\"name\":\"TAMIL NADU\",\"offsetgroup\":\"TAMIL NADU\",\"orientation\":\"v\",\"showlegend\":true,\"x\":[\"\\u20b9449.00\",\"\\u20b9399.00\",\"\\u20b9449.00\",\"\\u20b9175.00\",\"\\u20b9449.00\",\"\\u20b9549.00\",\"\\u20b9449.00\",\"\\u20b9250.00\",\"\\u20b9449.00\",\"\\u20b91,499.00\",\"\\u20b93,897.00\",\"\\u20b9475.00\",\"\\u20b9399.00\",\"\\u20b9399.00\",\"\\u20b9449.00\",\"\\u20b9449.00\",null],\"xaxis\":\"x\",\"yaxis\":\"y\",\"type\":\"histogram\"},{\"alignmentgroup\":\"True\",\"bingroup\":\"x\",\"hovertemplate\":\"ship_state=ODISHA<br>item_total=%{x}<br>count=%{y}<extra></extra>\",\"legendgroup\":\"ODISHA\",\"marker\":{\"color\":\"#EF553B\",\"pattern\":{\"shape\":\"\"}},\"name\":\"ODISHA\",\"offsetgroup\":\"ODISHA\",\"orientation\":\"v\",\"showlegend\":true,\"x\":[\"\\u20b9449.00\",\"\\u20b9649.00\"],\"xaxis\":\"x\",\"yaxis\":\"y\",\"type\":\"histogram\"},{\"alignmentgroup\":\"True\",\"bingroup\":\"x\",\"hovertemplate\":\"ship_state=ANDHRA PRADESH<br>item_total=%{x}<br>count=%{y}<extra></extra>\",\"legendgroup\":\"ANDHRA PRADESH\",\"marker\":{\"color\":\"#00cc96\",\"pattern\":{\"shape\":\"\"}},\"name\":\"ANDHRA PRADESH\",\"offsetgroup\":\"ANDHRA PRADESH\",\"orientation\":\"v\",\"showlegend\":true,\"x\":[\"\\u20b9250.00\",\"\\u20b9399.00\",\"\\u20b9475.00\"],\"xaxis\":\"x\",\"yaxis\":\"y\",\"type\":\"histogram\"},{\"alignmentgroup\":\"True\",\"bingroup\":\"x\",\"hovertemplate\":\"ship_state=DELHI<br>item_total=%{x}<br>count=%{y}<extra></extra>\",\"legendgroup\":\"DELHI\",\"marker\":{\"color\":\"#ab63fa\",\"pattern\":{\"shape\":\"\"}},\"name\":\"DELHI\",\"offsetgroup\":\"DELHI\",\"orientation\":\"v\",\"showlegend\":true,\"x\":[\"\\u20b9399.00\",null,\"\\u20b9349.00\",\"\\u20b9549.00\",\"\\u20b9549.00\",\"\\u20b9449.00\",\"\\u20b9449.00\",\"\\u20b9449.00\"],\"xaxis\":\"x\",\"yaxis\":\"y\",\"type\":\"histogram\"},{\"alignmentgroup\":\"True\",\"bingroup\":\"x\",\"hovertemplate\":\"ship_state=GOA<br>item_total=%{x}<br>count=%{y}<extra></extra>\",\"legendgroup\":\"GOA\",\"marker\":{\"color\":\"#FFA15A\",\"pattern\":{\"shape\":\"\"}},\"name\":\"GOA\",\"offsetgroup\":\"GOA\",\"orientation\":\"v\",\"showlegend\":true,\"x\":[\"\\u20b9449.00\",\"\\u20b9449.00\"],\"xaxis\":\"x\",\"yaxis\":\"y\",\"type\":\"histogram\"},{\"alignmentgroup\":\"True\",\"bingroup\":\"x\",\"hovertemplate\":\"ship_state=Odisha<br>item_total=%{x}<br>count=%{y}<extra></extra>\",\"legendgroup\":\"Odisha\",\"marker\":{\"color\":\"#19d3f3\",\"pattern\":{\"shape\":\"\"}},\"name\":\"Odisha\",\"offsetgroup\":\"Odisha\",\"orientation\":\"v\",\"showlegend\":true,\"x\":[\"\\u20b9449.00\"],\"xaxis\":\"x\",\"yaxis\":\"y\",\"type\":\"histogram\"},{\"alignmentgroup\":\"True\",\"bingroup\":\"x\",\"hovertemplate\":\"ship_state=JAMMU & KASHMIR<br>item_total=%{x}<br>count=%{y}<extra></extra>\",\"legendgroup\":\"JAMMU & KASHMIR\",\"marker\":{\"color\":\"#FF6692\",\"pattern\":{\"shape\":\"\"}},\"name\":\"JAMMU & KASHMIR\",\"offsetgroup\":\"JAMMU & KASHMIR\",\"orientation\":\"v\",\"showlegend\":true,\"x\":[\"\\u20b9399.00\"],\"xaxis\":\"x\",\"yaxis\":\"y\",\"type\":\"histogram\"},{\"alignmentgroup\":\"True\",\"bingroup\":\"x\",\"hovertemplate\":\"ship_state=GUJARAT<br>item_total=%{x}<br>count=%{y}<extra></extra>\",\"legendgroup\":\"GUJARAT\",\"marker\":{\"color\":\"#B6E880\",\"pattern\":{\"shape\":\"\"}},\"name\":\"GUJARAT\",\"offsetgroup\":\"GUJARAT\",\"orientation\":\"v\",\"showlegend\":true,\"x\":[\"\\u20b9250.00\",\"\\u20b91,299.00\",\"\\u20b91,099.00\",\"\\u20b9449.00\",\"\\u20b9349.00\",\"\\u20b9399.00\"],\"xaxis\":\"x\",\"yaxis\":\"y\",\"type\":\"histogram\"},{\"alignmentgroup\":\"True\",\"bingroup\":\"x\",\"hovertemplate\":\"ship_state=ASSAM<br>item_total=%{x}<br>count=%{y}<extra></extra>\",\"legendgroup\":\"ASSAM\",\"marker\":{\"color\":\"#FF97FF\",\"pattern\":{\"shape\":\"\"}},\"name\":\"ASSAM\",\"offsetgroup\":\"ASSAM\",\"orientation\":\"v\",\"showlegend\":true,\"x\":[\"\\u20b9250.00\",\"\\u20b91,099.00\",null,\"\\u20b9649.00\"],\"xaxis\":\"x\",\"yaxis\":\"y\",\"type\":\"histogram\"},{\"alignmentgroup\":\"True\",\"bingroup\":\"x\",\"hovertemplate\":\"ship_state=KERALA<br>item_total=%{x}<br>count=%{y}<extra></extra>\",\"legendgroup\":\"KERALA\",\"marker\":{\"color\":\"#FECB52\",\"pattern\":{\"shape\":\"\"}},\"name\":\"KERALA\",\"offsetgroup\":\"KERALA\",\"orientation\":\"v\",\"showlegend\":true,\"x\":[\"\\u20b91,099.00\",\"\\u20b9250.00\",\"\\u20b9399.00\",null],\"xaxis\":\"x\",\"yaxis\":\"y\",\"type\":\"histogram\"},{\"alignmentgroup\":\"True\",\"bingroup\":\"x\",\"hovertemplate\":\"ship_state=Maharashtra<br>item_total=%{x}<br>count=%{y}<extra></extra>\",\"legendgroup\":\"Maharashtra\",\"marker\":{\"color\":\"#636efa\",\"pattern\":{\"shape\":\"\"}},\"name\":\"Maharashtra\",\"offsetgroup\":\"Maharashtra\",\"orientation\":\"v\",\"showlegend\":true,\"x\":[\"\\u20b9399.00\"],\"xaxis\":\"x\",\"yaxis\":\"y\",\"type\":\"histogram\"},{\"alignmentgroup\":\"True\",\"bingroup\":\"x\",\"hovertemplate\":\"ship_state=PUNJAB<br>item_total=%{x}<br>count=%{y}<extra></extra>\",\"legendgroup\":\"PUNJAB\",\"marker\":{\"color\":\"#EF553B\",\"pattern\":{\"shape\":\"\"}},\"name\":\"PUNJAB\",\"offsetgroup\":\"PUNJAB\",\"orientation\":\"v\",\"showlegend\":true,\"x\":[\"\\u20b9449.00\"],\"xaxis\":\"x\",\"yaxis\":\"y\",\"type\":\"histogram\"},{\"alignmentgroup\":\"True\",\"bingroup\":\"x\",\"hovertemplate\":\"ship_state=RAJASTHAN<br>item_total=%{x}<br>count=%{y}<extra></extra>\",\"legendgroup\":\"RAJASTHAN\",\"marker\":{\"color\":\"#00cc96\",\"pattern\":{\"shape\":\"\"}},\"name\":\"RAJASTHAN\",\"offsetgroup\":\"RAJASTHAN\",\"orientation\":\"v\",\"showlegend\":true,\"x\":[\"\\u20b91,299.00\",\"\\u20b9449.00\",null],\"xaxis\":\"x\",\"yaxis\":\"y\",\"type\":\"histogram\"},{\"alignmentgroup\":\"True\",\"bingroup\":\"x\",\"hovertemplate\":\"ship_state=CHANDIGARH,<br>item_total=%{x}<br>count=%{y}<extra></extra>\",\"legendgroup\":\"CHANDIGARH,\",\"marker\":{\"color\":\"#ab63fa\",\"pattern\":{\"shape\":\"\"}},\"name\":\"CHANDIGARH,\",\"offsetgroup\":\"CHANDIGARH,\",\"orientation\":\"v\",\"showlegend\":true,\"x\":[\"\\u20b9475.00\"],\"xaxis\":\"x\",\"yaxis\":\"y\",\"type\":\"histogram\"},{\"alignmentgroup\":\"True\",\"bingroup\":\"x\",\"hovertemplate\":\"ship_state=BIHAR<br>item_total=%{x}<br>count=%{y}<extra></extra>\",\"legendgroup\":\"BIHAR\",\"marker\":{\"color\":\"#FFA15A\",\"pattern\":{\"shape\":\"\"}},\"name\":\"BIHAR\",\"offsetgroup\":\"BIHAR\",\"orientation\":\"v\",\"showlegend\":true,\"x\":[\"\\u20b9549.00\"],\"xaxis\":\"x\",\"yaxis\":\"y\",\"type\":\"histogram\"},{\"alignmentgroup\":\"True\",\"bingroup\":\"x\",\"hovertemplate\":\"ship_state=MADHYA Pradesh<br>item_total=%{x}<br>count=%{y}<extra></extra>\",\"legendgroup\":\"MADHYA Pradesh\",\"marker\":{\"color\":\"#19d3f3\",\"pattern\":{\"shape\":\"\"}},\"name\":\"MADHYA Pradesh\",\"offsetgroup\":\"MADHYA Pradesh\",\"orientation\":\"v\",\"showlegend\":true,\"x\":[\"\\u20b9449.00\"],\"xaxis\":\"x\",\"yaxis\":\"y\",\"type\":\"histogram\"},{\"alignmentgroup\":\"True\",\"bingroup\":\"x\",\"hovertemplate\":\"ship_state=MOHALI,<br>item_total=%{x}<br>count=%{y}<extra></extra>\",\"legendgroup\":\"MOHALI,\",\"marker\":{\"color\":\"#FF6692\",\"pattern\":{\"shape\":\"\"}},\"name\":\"MOHALI,\",\"offsetgroup\":\"MOHALI,\",\"orientation\":\"v\",\"showlegend\":true,\"x\":[\"\\u20b9449.00\"],\"xaxis\":\"x\",\"yaxis\":\"y\",\"type\":\"histogram\"},{\"alignmentgroup\":\"True\",\"bingroup\":\"x\",\"hovertemplate\":\"ship_state=Andhra Pradesh<br>item_total=%{x}<br>count=%{y}<extra></extra>\",\"legendgroup\":\"Andhra Pradesh\",\"marker\":{\"color\":\"#B6E880\",\"pattern\":{\"shape\":\"\"}},\"name\":\"Andhra Pradesh\",\"offsetgroup\":\"Andhra Pradesh\",\"orientation\":\"v\",\"showlegend\":true,\"x\":[\"\\u20b9399.00\"],\"xaxis\":\"x\",\"yaxis\":\"y\",\"type\":\"histogram\"},{\"alignmentgroup\":\"True\",\"bingroup\":\"x\",\"hovertemplate\":\"ship_state=Himachal Pradesh<br>item_total=%{x}<br>count=%{y}<extra></extra>\",\"legendgroup\":\"Himachal Pradesh\",\"marker\":{\"color\":\"#FF97FF\",\"pattern\":{\"shape\":\"\"}},\"name\":\"Himachal Pradesh\",\"offsetgroup\":\"Himachal Pradesh\",\"orientation\":\"v\",\"showlegend\":true,\"x\":[\"\\u20b9399.00\"],\"xaxis\":\"x\",\"yaxis\":\"y\",\"type\":\"histogram\"},{\"alignmentgroup\":\"True\",\"bingroup\":\"x\",\"hovertemplate\":\"ship_state=UTTARAKHAND<br>item_total=%{x}<br>count=%{y}<extra></extra>\",\"legendgroup\":\"UTTARAKHAND\",\"marker\":{\"color\":\"#FECB52\",\"pattern\":{\"shape\":\"\"}},\"name\":\"UTTARAKHAND\",\"offsetgroup\":\"UTTARAKHAND\",\"orientation\":\"v\",\"showlegend\":true,\"x\":[\"\\u20b91,299.00\"],\"xaxis\":\"x\",\"yaxis\":\"y\",\"type\":\"histogram\"}],                        {\"template\":{\"data\":{\"bar\":[{\"error_x\":{\"color\":\"#2a3f5f\"},\"error_y\":{\"color\":\"#2a3f5f\"},\"marker\":{\"line\":{\"color\":\"#E5ECF6\",\"width\":0.5},\"pattern\":{\"fillmode\":\"overlay\",\"size\":10,\"solidity\":0.2}},\"type\":\"bar\"}],\"barpolar\":[{\"marker\":{\"line\":{\"color\":\"#E5ECF6\",\"width\":0.5},\"pattern\":{\"fillmode\":\"overlay\",\"size\":10,\"solidity\":0.2}},\"type\":\"barpolar\"}],\"carpet\":[{\"aaxis\":{\"endlinecolor\":\"#2a3f5f\",\"gridcolor\":\"white\",\"linecolor\":\"white\",\"minorgridcolor\":\"white\",\"startlinecolor\":\"#2a3f5f\"},\"baxis\":{\"endlinecolor\":\"#2a3f5f\",\"gridcolor\":\"white\",\"linecolor\":\"white\",\"minorgridcolor\":\"white\",\"startlinecolor\":\"#2a3f5f\"},\"type\":\"carpet\"}],\"choropleth\":[{\"colorbar\":{\"outlinewidth\":0,\"ticks\":\"\"},\"type\":\"choropleth\"}],\"contour\":[{\"colorbar\":{\"outlinewidth\":0,\"ticks\":\"\"},\"colorscale\":[[0.0,\"#0d0887\"],[0.1111111111111111,\"#46039f\"],[0.2222222222222222,\"#7201a8\"],[0.3333333333333333,\"#9c179e\"],[0.4444444444444444,\"#bd3786\"],[0.5555555555555556,\"#d8576b\"],[0.6666666666666666,\"#ed7953\"],[0.7777777777777778,\"#fb9f3a\"],[0.8888888888888888,\"#fdca26\"],[1.0,\"#f0f921\"]],\"type\":\"contour\"}],\"contourcarpet\":[{\"colorbar\":{\"outlinewidth\":0,\"ticks\":\"\"},\"type\":\"contourcarpet\"}],\"heatmap\":[{\"colorbar\":{\"outlinewidth\":0,\"ticks\":\"\"},\"colorscale\":[[0.0,\"#0d0887\"],[0.1111111111111111,\"#46039f\"],[0.2222222222222222,\"#7201a8\"],[0.3333333333333333,\"#9c179e\"],[0.4444444444444444,\"#bd3786\"],[0.5555555555555556,\"#d8576b\"],[0.6666666666666666,\"#ed7953\"],[0.7777777777777778,\"#fb9f3a\"],[0.8888888888888888,\"#fdca26\"],[1.0,\"#f0f921\"]],\"type\":\"heatmap\"}],\"heatmapgl\":[{\"colorbar\":{\"outlinewidth\":0,\"ticks\":\"\"},\"colorscale\":[[0.0,\"#0d0887\"],[0.1111111111111111,\"#46039f\"],[0.2222222222222222,\"#7201a8\"],[0.3333333333333333,\"#9c179e\"],[0.4444444444444444,\"#bd3786\"],[0.5555555555555556,\"#d8576b\"],[0.6666666666666666,\"#ed7953\"],[0.7777777777777778,\"#fb9f3a\"],[0.8888888888888888,\"#fdca26\"],[1.0,\"#f0f921\"]],\"type\":\"heatmapgl\"}],\"histogram\":[{\"marker\":{\"pattern\":{\"fillmode\":\"overlay\",\"size\":10,\"solidity\":0.2}},\"type\":\"histogram\"}],\"histogram2d\":[{\"colorbar\":{\"outlinewidth\":0,\"ticks\":\"\"},\"colorscale\":[[0.0,\"#0d0887\"],[0.1111111111111111,\"#46039f\"],[0.2222222222222222,\"#7201a8\"],[0.3333333333333333,\"#9c179e\"],[0.4444444444444444,\"#bd3786\"],[0.5555555555555556,\"#d8576b\"],[0.6666666666666666,\"#ed7953\"],[0.7777777777777778,\"#fb9f3a\"],[0.8888888888888888,\"#fdca26\"],[1.0,\"#f0f921\"]],\"type\":\"histogram2d\"}],\"histogram2dcontour\":[{\"colorbar\":{\"outlinewidth\":0,\"ticks\":\"\"},\"colorscale\":[[0.0,\"#0d0887\"],[0.1111111111111111,\"#46039f\"],[0.2222222222222222,\"#7201a8\"],[0.3333333333333333,\"#9c179e\"],[0.4444444444444444,\"#bd3786\"],[0.5555555555555556,\"#d8576b\"],[0.6666666666666666,\"#ed7953\"],[0.7777777777777778,\"#fb9f3a\"],[0.8888888888888888,\"#fdca26\"],[1.0,\"#f0f921\"]],\"type\":\"histogram2dcontour\"}],\"mesh3d\":[{\"colorbar\":{\"outlinewidth\":0,\"ticks\":\"\"},\"type\":\"mesh3d\"}],\"parcoords\":[{\"line\":{\"colorbar\":{\"outlinewidth\":0,\"ticks\":\"\"}},\"type\":\"parcoords\"}],\"pie\":[{\"automargin\":true,\"type\":\"pie\"}],\"scatter\":[{\"marker\":{\"colorbar\":{\"outlinewidth\":0,\"ticks\":\"\"}},\"type\":\"scatter\"}],\"scatter3d\":[{\"line\":{\"colorbar\":{\"outlinewidth\":0,\"ticks\":\"\"}},\"marker\":{\"colorbar\":{\"outlinewidth\":0,\"ticks\":\"\"}},\"type\":\"scatter3d\"}],\"scattercarpet\":[{\"marker\":{\"colorbar\":{\"outlinewidth\":0,\"ticks\":\"\"}},\"type\":\"scattercarpet\"}],\"scattergeo\":[{\"marker\":{\"colorbar\":{\"outlinewidth\":0,\"ticks\":\"\"}},\"type\":\"scattergeo\"}],\"scattergl\":[{\"marker\":{\"colorbar\":{\"outlinewidth\":0,\"ticks\":\"\"}},\"type\":\"scattergl\"}],\"scattermapbox\":[{\"marker\":{\"colorbar\":{\"outlinewidth\":0,\"ticks\":\"\"}},\"type\":\"scattermapbox\"}],\"scatterpolar\":[{\"marker\":{\"colorbar\":{\"outlinewidth\":0,\"ticks\":\"\"}},\"type\":\"scatterpolar\"}],\"scatterpolargl\":[{\"marker\":{\"colorbar\":{\"outlinewidth\":0,\"ticks\":\"\"}},\"type\":\"scatterpolargl\"}],\"scatterternary\":[{\"marker\":{\"colorbar\":{\"outlinewidth\":0,\"ticks\":\"\"}},\"type\":\"scatterternary\"}],\"surface\":[{\"colorbar\":{\"outlinewidth\":0,\"ticks\":\"\"},\"colorscale\":[[0.0,\"#0d0887\"],[0.1111111111111111,\"#46039f\"],[0.2222222222222222,\"#7201a8\"],[0.3333333333333333,\"#9c179e\"],[0.4444444444444444,\"#bd3786\"],[0.5555555555555556,\"#d8576b\"],[0.6666666666666666,\"#ed7953\"],[0.7777777777777778,\"#fb9f3a\"],[0.8888888888888888,\"#fdca26\"],[1.0,\"#f0f921\"]],\"type\":\"surface\"}],\"table\":[{\"cells\":{\"fill\":{\"color\":\"#EBF0F8\"},\"line\":{\"color\":\"white\"}},\"header\":{\"fill\":{\"color\":\"#C8D4E3\"},\"line\":{\"color\":\"white\"}},\"type\":\"table\"}]},\"layout\":{\"annotationdefaults\":{\"arrowcolor\":\"#2a3f5f\",\"arrowhead\":0,\"arrowwidth\":1},\"autotypenumbers\":\"strict\",\"coloraxis\":{\"colorbar\":{\"outlinewidth\":0,\"ticks\":\"\"}},\"colorscale\":{\"diverging\":[[0,\"#8e0152\"],[0.1,\"#c51b7d\"],[0.2,\"#de77ae\"],[0.3,\"#f1b6da\"],[0.4,\"#fde0ef\"],[0.5,\"#f7f7f7\"],[0.6,\"#e6f5d0\"],[0.7,\"#b8e186\"],[0.8,\"#7fbc41\"],[0.9,\"#4d9221\"],[1,\"#276419\"]],\"sequential\":[[0.0,\"#0d0887\"],[0.1111111111111111,\"#46039f\"],[0.2222222222222222,\"#7201a8\"],[0.3333333333333333,\"#9c179e\"],[0.4444444444444444,\"#bd3786\"],[0.5555555555555556,\"#d8576b\"],[0.6666666666666666,\"#ed7953\"],[0.7777777777777778,\"#fb9f3a\"],[0.8888888888888888,\"#fdca26\"],[1.0,\"#f0f921\"]],\"sequentialminus\":[[0.0,\"#0d0887\"],[0.1111111111111111,\"#46039f\"],[0.2222222222222222,\"#7201a8\"],[0.3333333333333333,\"#9c179e\"],[0.4444444444444444,\"#bd3786\"],[0.5555555555555556,\"#d8576b\"],[0.6666666666666666,\"#ed7953\"],[0.7777777777777778,\"#fb9f3a\"],[0.8888888888888888,\"#fdca26\"],[1.0,\"#f0f921\"]]},\"colorway\":[\"#636efa\",\"#EF553B\",\"#00cc96\",\"#ab63fa\",\"#FFA15A\",\"#19d3f3\",\"#FF6692\",\"#B6E880\",\"#FF97FF\",\"#FECB52\"],\"font\":{\"color\":\"#2a3f5f\"},\"geo\":{\"bgcolor\":\"white\",\"lakecolor\":\"white\",\"landcolor\":\"#E5ECF6\",\"showlakes\":true,\"showland\":true,\"subunitcolor\":\"white\"},\"hoverlabel\":{\"align\":\"left\"},\"hovermode\":\"closest\",\"mapbox\":{\"style\":\"light\"},\"paper_bgcolor\":\"white\",\"plot_bgcolor\":\"#E5ECF6\",\"polar\":{\"angularaxis\":{\"gridcolor\":\"white\",\"linecolor\":\"white\",\"ticks\":\"\"},\"bgcolor\":\"#E5ECF6\",\"radialaxis\":{\"gridcolor\":\"white\",\"linecolor\":\"white\",\"ticks\":\"\"}},\"scene\":{\"xaxis\":{\"backgroundcolor\":\"#E5ECF6\",\"gridcolor\":\"white\",\"gridwidth\":2,\"linecolor\":\"white\",\"showbackground\":true,\"ticks\":\"\",\"zerolinecolor\":\"white\"},\"yaxis\":{\"backgroundcolor\":\"#E5ECF6\",\"gridcolor\":\"white\",\"gridwidth\":2,\"linecolor\":\"white\",\"showbackground\":true,\"ticks\":\"\",\"zerolinecolor\":\"white\"},\"zaxis\":{\"backgroundcolor\":\"#E5ECF6\",\"gridcolor\":\"white\",\"gridwidth\":2,\"linecolor\":\"white\",\"showbackground\":true,\"ticks\":\"\",\"zerolinecolor\":\"white\"}},\"shapedefaults\":{\"line\":{\"color\":\"#2a3f5f\"}},\"ternary\":{\"aaxis\":{\"gridcolor\":\"white\",\"linecolor\":\"white\",\"ticks\":\"\"},\"baxis\":{\"gridcolor\":\"white\",\"linecolor\":\"white\",\"ticks\":\"\"},\"bgcolor\":\"#E5ECF6\",\"caxis\":{\"gridcolor\":\"white\",\"linecolor\":\"white\",\"ticks\":\"\"}},\"title\":{\"x\":0.05},\"xaxis\":{\"automargin\":true,\"gridcolor\":\"white\",\"linecolor\":\"white\",\"ticks\":\"\",\"title\":{\"standoff\":15},\"zerolinecolor\":\"white\",\"zerolinewidth\":2},\"yaxis\":{\"automargin\":true,\"gridcolor\":\"white\",\"linecolor\":\"white\",\"ticks\":\"\",\"title\":{\"standoff\":15},\"zerolinecolor\":\"white\",\"zerolinewidth\":2}}},\"xaxis\":{\"anchor\":\"y\",\"domain\":[0.0,1.0],\"title\":{\"text\":\"item_total\"}},\"yaxis\":{\"anchor\":\"x\",\"domain\":[0.0,1.0],\"title\":{\"text\":\"count\"}},\"legend\":{\"title\":{\"text\":\"ship_state\"},\"tracegroupgap\":0},\"margin\":{\"t\":60},\"barmode\":\"relative\"},                        {\"responsive\": true}                    ).then(function(){\n",
       "                            \n",
       "var gd = document.getElementById('d12ab963-6eb5-4e7e-af7f-b9e9d060ddb9');\n",
       "var x = new MutationObserver(function (mutations, observer) {{\n",
       "        var display = window.getComputedStyle(gd).display;\n",
       "        if (!display || display === 'none') {{\n",
       "            console.log([gd, 'removed!']);\n",
       "            Plotly.purge(gd);\n",
       "            observer.disconnect();\n",
       "        }}\n",
       "}});\n",
       "\n",
       "// Listen for the removal of the full notebook cells\n",
       "var notebookContainer = gd.closest('#notebook-container');\n",
       "if (notebookContainer) {{\n",
       "    x.observe(notebookContainer, {childList: true});\n",
       "}}\n",
       "\n",
       "// Listen for the clearing of the current output cell\n",
       "var outputEl = gd.closest('.output');\n",
       "if (outputEl) {{\n",
       "    x.observe(outputEl, {childList: true});\n",
       "}}\n",
       "\n",
       "                        })                };                });            </script>        </div>"
      ]
     },
     "metadata": {},
     "output_type": "display_data"
    },
    {
     "data": {
      "application/vnd.plotly.v1+json": {
       "config": {
        "plotlyServerURL": "https://plot.ly"
       },
       "data": [
        {
         "alignmentgroup": "True",
         "bingroup": "x",
         "hovertemplate": "ship_state=CHANDIGARH<br>quantity=%{x}<br>count=%{y}<extra></extra>",
         "legendgroup": "CHANDIGARH",
         "marker": {
          "color": "#636efa",
          "pattern": {
           "shape": ""
          }
         },
         "name": "CHANDIGARH",
         "offsetgroup": "CHANDIGARH",
         "orientation": "v",
         "showlegend": true,
         "type": "histogram",
         "x": [
          1,
          1,
          1
         ],
         "xaxis": "x",
         "yaxis": "y"
        },
        {
         "alignmentgroup": "True",
         "bingroup": "x",
         "hovertemplate": "ship_state=ARUNACHAL PRADESH<br>quantity=%{x}<br>count=%{y}<extra></extra>",
         "legendgroup": "ARUNACHAL PRADESH",
         "marker": {
          "color": "#EF553B",
          "pattern": {
           "shape": ""
          }
         },
         "name": "ARUNACHAL PRADESH",
         "offsetgroup": "ARUNACHAL PRADESH",
         "orientation": "v",
         "showlegend": true,
         "type": "histogram",
         "x": [
          1,
          1
         ],
         "xaxis": "x",
         "yaxis": "y"
        },
        {
         "alignmentgroup": "True",
         "bingroup": "x",
         "hovertemplate": "ship_state=TELANGANA<br>quantity=%{x}<br>count=%{y}<extra></extra>",
         "legendgroup": "TELANGANA",
         "marker": {
          "color": "#00cc96",
          "pattern": {
           "shape": ""
          }
         },
         "name": "TELANGANA",
         "offsetgroup": "TELANGANA",
         "orientation": "v",
         "showlegend": true,
         "type": "histogram",
         "x": [
          1,
          1,
          1,
          1,
          1,
          1,
          1,
          1,
          1,
          1,
          1,
          1,
          1
         ],
         "xaxis": "x",
         "yaxis": "y"
        },
        {
         "alignmentgroup": "True",
         "bingroup": "x",
         "hovertemplate": "ship_state=MAHARASHTRA<br>quantity=%{x}<br>count=%{y}<extra></extra>",
         "legendgroup": "MAHARASHTRA",
         "marker": {
          "color": "#ab63fa",
          "pattern": {
           "shape": ""
          }
         },
         "name": "MAHARASHTRA",
         "offsetgroup": "MAHARASHTRA",
         "orientation": "v",
         "showlegend": true,
         "type": "histogram",
         "x": [
          1,
          1,
          1,
          1,
          1,
          1,
          1,
          1,
          1,
          1,
          1,
          1,
          1,
          1,
          1,
          1,
          1,
          1,
          1,
          2,
          1,
          1,
          1,
          1,
          1,
          1,
          4,
          1,
          1,
          3,
          1
         ],
         "xaxis": "x",
         "yaxis": "y"
        },
        {
         "alignmentgroup": "True",
         "bingroup": "x",
         "hovertemplate": "ship_state=WEST BENGAL<br>quantity=%{x}<br>count=%{y}<extra></extra>",
         "legendgroup": "WEST BENGAL",
         "marker": {
          "color": "#FFA15A",
          "pattern": {
           "shape": ""
          }
         },
         "name": "WEST BENGAL",
         "offsetgroup": "WEST BENGAL",
         "orientation": "v",
         "showlegend": true,
         "type": "histogram",
         "x": [
          1,
          1,
          1,
          1,
          1,
          1,
          1,
          1,
          1,
          1,
          1,
          1,
          3,
          1,
          1,
          1,
          1,
          1,
          1
         ],
         "xaxis": "x",
         "yaxis": "y"
        },
        {
         "alignmentgroup": "True",
         "bingroup": "x",
         "hovertemplate": "ship_state=UTTAR PRADESH<br>quantity=%{x}<br>count=%{y}<extra></extra>",
         "legendgroup": "UTTAR PRADESH",
         "marker": {
          "color": "#19d3f3",
          "pattern": {
           "shape": ""
          }
         },
         "name": "UTTAR PRADESH",
         "offsetgroup": "UTTAR PRADESH",
         "orientation": "v",
         "showlegend": true,
         "type": "histogram",
         "x": [
          1,
          1,
          1,
          1,
          1,
          1,
          1,
          1,
          1,
          1,
          1,
          1
         ],
         "xaxis": "x",
         "yaxis": "y"
        },
        {
         "alignmentgroup": "True",
         "bingroup": "x",
         "hovertemplate": "ship_state=KARNATAKA<br>quantity=%{x}<br>count=%{y}<extra></extra>",
         "legendgroup": "KARNATAKA",
         "marker": {
          "color": "#FF6692",
          "pattern": {
           "shape": ""
          }
         },
         "name": "KARNATAKA",
         "offsetgroup": "KARNATAKA",
         "orientation": "v",
         "showlegend": true,
         "type": "histogram",
         "x": [
          1,
          1,
          1,
          1,
          1,
          1,
          1,
          1,
          1,
          1,
          1,
          1,
          1,
          1,
          1,
          1
         ],
         "xaxis": "x",
         "yaxis": "y"
        },
        {
         "alignmentgroup": "True",
         "bingroup": "x",
         "hovertemplate": "ship_state=CHHATTISGARH<br>quantity=%{x}<br>count=%{y}<extra></extra>",
         "legendgroup": "CHHATTISGARH",
         "marker": {
          "color": "#B6E880",
          "pattern": {
           "shape": ""
          }
         },
         "name": "CHHATTISGARH",
         "offsetgroup": "CHHATTISGARH",
         "orientation": "v",
         "showlegend": true,
         "type": "histogram",
         "x": [
          1,
          1,
          1,
          1,
          1,
          1
         ],
         "xaxis": "x",
         "yaxis": "y"
        },
        {
         "alignmentgroup": "True",
         "bingroup": "x",
         "hovertemplate": "ship_state=HARYANA<br>quantity=%{x}<br>count=%{y}<extra></extra>",
         "legendgroup": "HARYANA",
         "marker": {
          "color": "#FF97FF",
          "pattern": {
           "shape": ""
          }
         },
         "name": "HARYANA",
         "offsetgroup": "HARYANA",
         "orientation": "v",
         "showlegend": true,
         "type": "histogram",
         "x": [
          1,
          1,
          1,
          1,
          1,
          3,
          1,
          1
         ],
         "xaxis": "x",
         "yaxis": "y"
        },
        {
         "alignmentgroup": "True",
         "bingroup": "x",
         "hovertemplate": "ship_state=TRIPURA<br>quantity=%{x}<br>count=%{y}<extra></extra>",
         "legendgroup": "TRIPURA",
         "marker": {
          "color": "#FECB52",
          "pattern": {
           "shape": ""
          }
         },
         "name": "TRIPURA",
         "offsetgroup": "TRIPURA",
         "orientation": "v",
         "showlegend": true,
         "type": "histogram",
         "x": [
          1
         ],
         "xaxis": "x",
         "yaxis": "y"
        },
        {
         "alignmentgroup": "True",
         "bingroup": "x",
         "hovertemplate": "ship_state=TAMIL NADU<br>quantity=%{x}<br>count=%{y}<extra></extra>",
         "legendgroup": "TAMIL NADU",
         "marker": {
          "color": "#636efa",
          "pattern": {
           "shape": ""
          }
         },
         "name": "TAMIL NADU",
         "offsetgroup": "TAMIL NADU",
         "orientation": "v",
         "showlegend": true,
         "type": "histogram",
         "x": [
          1,
          1,
          1,
          1,
          1,
          1,
          1,
          1,
          1,
          1,
          3,
          1,
          1,
          1,
          1,
          1,
          1
         ],
         "xaxis": "x",
         "yaxis": "y"
        },
        {
         "alignmentgroup": "True",
         "bingroup": "x",
         "hovertemplate": "ship_state=ODISHA<br>quantity=%{x}<br>count=%{y}<extra></extra>",
         "legendgroup": "ODISHA",
         "marker": {
          "color": "#EF553B",
          "pattern": {
           "shape": ""
          }
         },
         "name": "ODISHA",
         "offsetgroup": "ODISHA",
         "orientation": "v",
         "showlegend": true,
         "type": "histogram",
         "x": [
          1,
          1
         ],
         "xaxis": "x",
         "yaxis": "y"
        },
        {
         "alignmentgroup": "True",
         "bingroup": "x",
         "hovertemplate": "ship_state=ANDHRA PRADESH<br>quantity=%{x}<br>count=%{y}<extra></extra>",
         "legendgroup": "ANDHRA PRADESH",
         "marker": {
          "color": "#00cc96",
          "pattern": {
           "shape": ""
          }
         },
         "name": "ANDHRA PRADESH",
         "offsetgroup": "ANDHRA PRADESH",
         "orientation": "v",
         "showlegend": true,
         "type": "histogram",
         "x": [
          1,
          1,
          1
         ],
         "xaxis": "x",
         "yaxis": "y"
        },
        {
         "alignmentgroup": "True",
         "bingroup": "x",
         "hovertemplate": "ship_state=DELHI<br>quantity=%{x}<br>count=%{y}<extra></extra>",
         "legendgroup": "DELHI",
         "marker": {
          "color": "#ab63fa",
          "pattern": {
           "shape": ""
          }
         },
         "name": "DELHI",
         "offsetgroup": "DELHI",
         "orientation": "v",
         "showlegend": true,
         "type": "histogram",
         "x": [
          1,
          4,
          1,
          1,
          1,
          1,
          1,
          1
         ],
         "xaxis": "x",
         "yaxis": "y"
        },
        {
         "alignmentgroup": "True",
         "bingroup": "x",
         "hovertemplate": "ship_state=GOA<br>quantity=%{x}<br>count=%{y}<extra></extra>",
         "legendgroup": "GOA",
         "marker": {
          "color": "#FFA15A",
          "pattern": {
           "shape": ""
          }
         },
         "name": "GOA",
         "offsetgroup": "GOA",
         "orientation": "v",
         "showlegend": true,
         "type": "histogram",
         "x": [
          1,
          1
         ],
         "xaxis": "x",
         "yaxis": "y"
        },
        {
         "alignmentgroup": "True",
         "bingroup": "x",
         "hovertemplate": "ship_state=Odisha<br>quantity=%{x}<br>count=%{y}<extra></extra>",
         "legendgroup": "Odisha",
         "marker": {
          "color": "#19d3f3",
          "pattern": {
           "shape": ""
          }
         },
         "name": "Odisha",
         "offsetgroup": "Odisha",
         "orientation": "v",
         "showlegend": true,
         "type": "histogram",
         "x": [
          1
         ],
         "xaxis": "x",
         "yaxis": "y"
        },
        {
         "alignmentgroup": "True",
         "bingroup": "x",
         "hovertemplate": "ship_state=JAMMU & KASHMIR<br>quantity=%{x}<br>count=%{y}<extra></extra>",
         "legendgroup": "JAMMU & KASHMIR",
         "marker": {
          "color": "#FF6692",
          "pattern": {
           "shape": ""
          }
         },
         "name": "JAMMU & KASHMIR",
         "offsetgroup": "JAMMU & KASHMIR",
         "orientation": "v",
         "showlegend": true,
         "type": "histogram",
         "x": [
          1
         ],
         "xaxis": "x",
         "yaxis": "y"
        },
        {
         "alignmentgroup": "True",
         "bingroup": "x",
         "hovertemplate": "ship_state=GUJARAT<br>quantity=%{x}<br>count=%{y}<extra></extra>",
         "legendgroup": "GUJARAT",
         "marker": {
          "color": "#B6E880",
          "pattern": {
           "shape": ""
          }
         },
         "name": "GUJARAT",
         "offsetgroup": "GUJARAT",
         "orientation": "v",
         "showlegend": true,
         "type": "histogram",
         "x": [
          1,
          1,
          1,
          1,
          1,
          1
         ],
         "xaxis": "x",
         "yaxis": "y"
        },
        {
         "alignmentgroup": "True",
         "bingroup": "x",
         "hovertemplate": "ship_state=ASSAM<br>quantity=%{x}<br>count=%{y}<extra></extra>",
         "legendgroup": "ASSAM",
         "marker": {
          "color": "#FF97FF",
          "pattern": {
           "shape": ""
          }
         },
         "name": "ASSAM",
         "offsetgroup": "ASSAM",
         "orientation": "v",
         "showlegend": true,
         "type": "histogram",
         "x": [
          1,
          1,
          1,
          1
         ],
         "xaxis": "x",
         "yaxis": "y"
        },
        {
         "alignmentgroup": "True",
         "bingroup": "x",
         "hovertemplate": "ship_state=KERALA<br>quantity=%{x}<br>count=%{y}<extra></extra>",
         "legendgroup": "KERALA",
         "marker": {
          "color": "#FECB52",
          "pattern": {
           "shape": ""
          }
         },
         "name": "KERALA",
         "offsetgroup": "KERALA",
         "orientation": "v",
         "showlegend": true,
         "type": "histogram",
         "x": [
          1,
          1,
          1,
          1
         ],
         "xaxis": "x",
         "yaxis": "y"
        },
        {
         "alignmentgroup": "True",
         "bingroup": "x",
         "hovertemplate": "ship_state=Maharashtra<br>quantity=%{x}<br>count=%{y}<extra></extra>",
         "legendgroup": "Maharashtra",
         "marker": {
          "color": "#636efa",
          "pattern": {
           "shape": ""
          }
         },
         "name": "Maharashtra",
         "offsetgroup": "Maharashtra",
         "orientation": "v",
         "showlegend": true,
         "type": "histogram",
         "x": [
          1
         ],
         "xaxis": "x",
         "yaxis": "y"
        },
        {
         "alignmentgroup": "True",
         "bingroup": "x",
         "hovertemplate": "ship_state=PUNJAB<br>quantity=%{x}<br>count=%{y}<extra></extra>",
         "legendgroup": "PUNJAB",
         "marker": {
          "color": "#EF553B",
          "pattern": {
           "shape": ""
          }
         },
         "name": "PUNJAB",
         "offsetgroup": "PUNJAB",
         "orientation": "v",
         "showlegend": true,
         "type": "histogram",
         "x": [
          1
         ],
         "xaxis": "x",
         "yaxis": "y"
        },
        {
         "alignmentgroup": "True",
         "bingroup": "x",
         "hovertemplate": "ship_state=RAJASTHAN<br>quantity=%{x}<br>count=%{y}<extra></extra>",
         "legendgroup": "RAJASTHAN",
         "marker": {
          "color": "#00cc96",
          "pattern": {
           "shape": ""
          }
         },
         "name": "RAJASTHAN",
         "offsetgroup": "RAJASTHAN",
         "orientation": "v",
         "showlegend": true,
         "type": "histogram",
         "x": [
          1,
          1,
          1
         ],
         "xaxis": "x",
         "yaxis": "y"
        },
        {
         "alignmentgroup": "True",
         "bingroup": "x",
         "hovertemplate": "ship_state=CHANDIGARH,<br>quantity=%{x}<br>count=%{y}<extra></extra>",
         "legendgroup": "CHANDIGARH,",
         "marker": {
          "color": "#ab63fa",
          "pattern": {
           "shape": ""
          }
         },
         "name": "CHANDIGARH,",
         "offsetgroup": "CHANDIGARH,",
         "orientation": "v",
         "showlegend": true,
         "type": "histogram",
         "x": [
          1
         ],
         "xaxis": "x",
         "yaxis": "y"
        },
        {
         "alignmentgroup": "True",
         "bingroup": "x",
         "hovertemplate": "ship_state=BIHAR<br>quantity=%{x}<br>count=%{y}<extra></extra>",
         "legendgroup": "BIHAR",
         "marker": {
          "color": "#FFA15A",
          "pattern": {
           "shape": ""
          }
         },
         "name": "BIHAR",
         "offsetgroup": "BIHAR",
         "orientation": "v",
         "showlegend": true,
         "type": "histogram",
         "x": [
          1
         ],
         "xaxis": "x",
         "yaxis": "y"
        },
        {
         "alignmentgroup": "True",
         "bingroup": "x",
         "hovertemplate": "ship_state=MADHYA Pradesh<br>quantity=%{x}<br>count=%{y}<extra></extra>",
         "legendgroup": "MADHYA Pradesh",
         "marker": {
          "color": "#19d3f3",
          "pattern": {
           "shape": ""
          }
         },
         "name": "MADHYA Pradesh",
         "offsetgroup": "MADHYA Pradesh",
         "orientation": "v",
         "showlegend": true,
         "type": "histogram",
         "x": [
          1
         ],
         "xaxis": "x",
         "yaxis": "y"
        },
        {
         "alignmentgroup": "True",
         "bingroup": "x",
         "hovertemplate": "ship_state=MOHALI,<br>quantity=%{x}<br>count=%{y}<extra></extra>",
         "legendgroup": "MOHALI,",
         "marker": {
          "color": "#FF6692",
          "pattern": {
           "shape": ""
          }
         },
         "name": "MOHALI,",
         "offsetgroup": "MOHALI,",
         "orientation": "v",
         "showlegend": true,
         "type": "histogram",
         "x": [
          1
         ],
         "xaxis": "x",
         "yaxis": "y"
        },
        {
         "alignmentgroup": "True",
         "bingroup": "x",
         "hovertemplate": "ship_state=Andhra Pradesh<br>quantity=%{x}<br>count=%{y}<extra></extra>",
         "legendgroup": "Andhra Pradesh",
         "marker": {
          "color": "#B6E880",
          "pattern": {
           "shape": ""
          }
         },
         "name": "Andhra Pradesh",
         "offsetgroup": "Andhra Pradesh",
         "orientation": "v",
         "showlegend": true,
         "type": "histogram",
         "x": [
          1
         ],
         "xaxis": "x",
         "yaxis": "y"
        },
        {
         "alignmentgroup": "True",
         "bingroup": "x",
         "hovertemplate": "ship_state=Himachal Pradesh<br>quantity=%{x}<br>count=%{y}<extra></extra>",
         "legendgroup": "Himachal Pradesh",
         "marker": {
          "color": "#FF97FF",
          "pattern": {
           "shape": ""
          }
         },
         "name": "Himachal Pradesh",
         "offsetgroup": "Himachal Pradesh",
         "orientation": "v",
         "showlegend": true,
         "type": "histogram",
         "x": [
          1
         ],
         "xaxis": "x",
         "yaxis": "y"
        },
        {
         "alignmentgroup": "True",
         "bingroup": "x",
         "hovertemplate": "ship_state=UTTARAKHAND<br>quantity=%{x}<br>count=%{y}<extra></extra>",
         "legendgroup": "UTTARAKHAND",
         "marker": {
          "color": "#FECB52",
          "pattern": {
           "shape": ""
          }
         },
         "name": "UTTARAKHAND",
         "offsetgroup": "UTTARAKHAND",
         "orientation": "v",
         "showlegend": true,
         "type": "histogram",
         "x": [
          1
         ],
         "xaxis": "x",
         "yaxis": "y"
        }
       ],
       "layout": {
        "barmode": "relative",
        "legend": {
         "title": {
          "text": "ship_state"
         },
         "tracegroupgap": 0
        },
        "margin": {
         "t": 60
        },
        "template": {
         "data": {
          "bar": [
           {
            "error_x": {
             "color": "#2a3f5f"
            },
            "error_y": {
             "color": "#2a3f5f"
            },
            "marker": {
             "line": {
              "color": "#E5ECF6",
              "width": 0.5
             },
             "pattern": {
              "fillmode": "overlay",
              "size": 10,
              "solidity": 0.2
             }
            },
            "type": "bar"
           }
          ],
          "barpolar": [
           {
            "marker": {
             "line": {
              "color": "#E5ECF6",
              "width": 0.5
             },
             "pattern": {
              "fillmode": "overlay",
              "size": 10,
              "solidity": 0.2
             }
            },
            "type": "barpolar"
           }
          ],
          "carpet": [
           {
            "aaxis": {
             "endlinecolor": "#2a3f5f",
             "gridcolor": "white",
             "linecolor": "white",
             "minorgridcolor": "white",
             "startlinecolor": "#2a3f5f"
            },
            "baxis": {
             "endlinecolor": "#2a3f5f",
             "gridcolor": "white",
             "linecolor": "white",
             "minorgridcolor": "white",
             "startlinecolor": "#2a3f5f"
            },
            "type": "carpet"
           }
          ],
          "choropleth": [
           {
            "colorbar": {
             "outlinewidth": 0,
             "ticks": ""
            },
            "type": "choropleth"
           }
          ],
          "contour": [
           {
            "colorbar": {
             "outlinewidth": 0,
             "ticks": ""
            },
            "colorscale": [
             [
              0,
              "#0d0887"
             ],
             [
              0.1111111111111111,
              "#46039f"
             ],
             [
              0.2222222222222222,
              "#7201a8"
             ],
             [
              0.3333333333333333,
              "#9c179e"
             ],
             [
              0.4444444444444444,
              "#bd3786"
             ],
             [
              0.5555555555555556,
              "#d8576b"
             ],
             [
              0.6666666666666666,
              "#ed7953"
             ],
             [
              0.7777777777777778,
              "#fb9f3a"
             ],
             [
              0.8888888888888888,
              "#fdca26"
             ],
             [
              1,
              "#f0f921"
             ]
            ],
            "type": "contour"
           }
          ],
          "contourcarpet": [
           {
            "colorbar": {
             "outlinewidth": 0,
             "ticks": ""
            },
            "type": "contourcarpet"
           }
          ],
          "heatmap": [
           {
            "colorbar": {
             "outlinewidth": 0,
             "ticks": ""
            },
            "colorscale": [
             [
              0,
              "#0d0887"
             ],
             [
              0.1111111111111111,
              "#46039f"
             ],
             [
              0.2222222222222222,
              "#7201a8"
             ],
             [
              0.3333333333333333,
              "#9c179e"
             ],
             [
              0.4444444444444444,
              "#bd3786"
             ],
             [
              0.5555555555555556,
              "#d8576b"
             ],
             [
              0.6666666666666666,
              "#ed7953"
             ],
             [
              0.7777777777777778,
              "#fb9f3a"
             ],
             [
              0.8888888888888888,
              "#fdca26"
             ],
             [
              1,
              "#f0f921"
             ]
            ],
            "type": "heatmap"
           }
          ],
          "heatmapgl": [
           {
            "colorbar": {
             "outlinewidth": 0,
             "ticks": ""
            },
            "colorscale": [
             [
              0,
              "#0d0887"
             ],
             [
              0.1111111111111111,
              "#46039f"
             ],
             [
              0.2222222222222222,
              "#7201a8"
             ],
             [
              0.3333333333333333,
              "#9c179e"
             ],
             [
              0.4444444444444444,
              "#bd3786"
             ],
             [
              0.5555555555555556,
              "#d8576b"
             ],
             [
              0.6666666666666666,
              "#ed7953"
             ],
             [
              0.7777777777777778,
              "#fb9f3a"
             ],
             [
              0.8888888888888888,
              "#fdca26"
             ],
             [
              1,
              "#f0f921"
             ]
            ],
            "type": "heatmapgl"
           }
          ],
          "histogram": [
           {
            "marker": {
             "pattern": {
              "fillmode": "overlay",
              "size": 10,
              "solidity": 0.2
             }
            },
            "type": "histogram"
           }
          ],
          "histogram2d": [
           {
            "colorbar": {
             "outlinewidth": 0,
             "ticks": ""
            },
            "colorscale": [
             [
              0,
              "#0d0887"
             ],
             [
              0.1111111111111111,
              "#46039f"
             ],
             [
              0.2222222222222222,
              "#7201a8"
             ],
             [
              0.3333333333333333,
              "#9c179e"
             ],
             [
              0.4444444444444444,
              "#bd3786"
             ],
             [
              0.5555555555555556,
              "#d8576b"
             ],
             [
              0.6666666666666666,
              "#ed7953"
             ],
             [
              0.7777777777777778,
              "#fb9f3a"
             ],
             [
              0.8888888888888888,
              "#fdca26"
             ],
             [
              1,
              "#f0f921"
             ]
            ],
            "type": "histogram2d"
           }
          ],
          "histogram2dcontour": [
           {
            "colorbar": {
             "outlinewidth": 0,
             "ticks": ""
            },
            "colorscale": [
             [
              0,
              "#0d0887"
             ],
             [
              0.1111111111111111,
              "#46039f"
             ],
             [
              0.2222222222222222,
              "#7201a8"
             ],
             [
              0.3333333333333333,
              "#9c179e"
             ],
             [
              0.4444444444444444,
              "#bd3786"
             ],
             [
              0.5555555555555556,
              "#d8576b"
             ],
             [
              0.6666666666666666,
              "#ed7953"
             ],
             [
              0.7777777777777778,
              "#fb9f3a"
             ],
             [
              0.8888888888888888,
              "#fdca26"
             ],
             [
              1,
              "#f0f921"
             ]
            ],
            "type": "histogram2dcontour"
           }
          ],
          "mesh3d": [
           {
            "colorbar": {
             "outlinewidth": 0,
             "ticks": ""
            },
            "type": "mesh3d"
           }
          ],
          "parcoords": [
           {
            "line": {
             "colorbar": {
              "outlinewidth": 0,
              "ticks": ""
             }
            },
            "type": "parcoords"
           }
          ],
          "pie": [
           {
            "automargin": true,
            "type": "pie"
           }
          ],
          "scatter": [
           {
            "marker": {
             "colorbar": {
              "outlinewidth": 0,
              "ticks": ""
             }
            },
            "type": "scatter"
           }
          ],
          "scatter3d": [
           {
            "line": {
             "colorbar": {
              "outlinewidth": 0,
              "ticks": ""
             }
            },
            "marker": {
             "colorbar": {
              "outlinewidth": 0,
              "ticks": ""
             }
            },
            "type": "scatter3d"
           }
          ],
          "scattercarpet": [
           {
            "marker": {
             "colorbar": {
              "outlinewidth": 0,
              "ticks": ""
             }
            },
            "type": "scattercarpet"
           }
          ],
          "scattergeo": [
           {
            "marker": {
             "colorbar": {
              "outlinewidth": 0,
              "ticks": ""
             }
            },
            "type": "scattergeo"
           }
          ],
          "scattergl": [
           {
            "marker": {
             "colorbar": {
              "outlinewidth": 0,
              "ticks": ""
             }
            },
            "type": "scattergl"
           }
          ],
          "scattermapbox": [
           {
            "marker": {
             "colorbar": {
              "outlinewidth": 0,
              "ticks": ""
             }
            },
            "type": "scattermapbox"
           }
          ],
          "scatterpolar": [
           {
            "marker": {
             "colorbar": {
              "outlinewidth": 0,
              "ticks": ""
             }
            },
            "type": "scatterpolar"
           }
          ],
          "scatterpolargl": [
           {
            "marker": {
             "colorbar": {
              "outlinewidth": 0,
              "ticks": ""
             }
            },
            "type": "scatterpolargl"
           }
          ],
          "scatterternary": [
           {
            "marker": {
             "colorbar": {
              "outlinewidth": 0,
              "ticks": ""
             }
            },
            "type": "scatterternary"
           }
          ],
          "surface": [
           {
            "colorbar": {
             "outlinewidth": 0,
             "ticks": ""
            },
            "colorscale": [
             [
              0,
              "#0d0887"
             ],
             [
              0.1111111111111111,
              "#46039f"
             ],
             [
              0.2222222222222222,
              "#7201a8"
             ],
             [
              0.3333333333333333,
              "#9c179e"
             ],
             [
              0.4444444444444444,
              "#bd3786"
             ],
             [
              0.5555555555555556,
              "#d8576b"
             ],
             [
              0.6666666666666666,
              "#ed7953"
             ],
             [
              0.7777777777777778,
              "#fb9f3a"
             ],
             [
              0.8888888888888888,
              "#fdca26"
             ],
             [
              1,
              "#f0f921"
             ]
            ],
            "type": "surface"
           }
          ],
          "table": [
           {
            "cells": {
             "fill": {
              "color": "#EBF0F8"
             },
             "line": {
              "color": "white"
             }
            },
            "header": {
             "fill": {
              "color": "#C8D4E3"
             },
             "line": {
              "color": "white"
             }
            },
            "type": "table"
           }
          ]
         },
         "layout": {
          "annotationdefaults": {
           "arrowcolor": "#2a3f5f",
           "arrowhead": 0,
           "arrowwidth": 1
          },
          "autotypenumbers": "strict",
          "coloraxis": {
           "colorbar": {
            "outlinewidth": 0,
            "ticks": ""
           }
          },
          "colorscale": {
           "diverging": [
            [
             0,
             "#8e0152"
            ],
            [
             0.1,
             "#c51b7d"
            ],
            [
             0.2,
             "#de77ae"
            ],
            [
             0.3,
             "#f1b6da"
            ],
            [
             0.4,
             "#fde0ef"
            ],
            [
             0.5,
             "#f7f7f7"
            ],
            [
             0.6,
             "#e6f5d0"
            ],
            [
             0.7,
             "#b8e186"
            ],
            [
             0.8,
             "#7fbc41"
            ],
            [
             0.9,
             "#4d9221"
            ],
            [
             1,
             "#276419"
            ]
           ],
           "sequential": [
            [
             0,
             "#0d0887"
            ],
            [
             0.1111111111111111,
             "#46039f"
            ],
            [
             0.2222222222222222,
             "#7201a8"
            ],
            [
             0.3333333333333333,
             "#9c179e"
            ],
            [
             0.4444444444444444,
             "#bd3786"
            ],
            [
             0.5555555555555556,
             "#d8576b"
            ],
            [
             0.6666666666666666,
             "#ed7953"
            ],
            [
             0.7777777777777778,
             "#fb9f3a"
            ],
            [
             0.8888888888888888,
             "#fdca26"
            ],
            [
             1,
             "#f0f921"
            ]
           ],
           "sequentialminus": [
            [
             0,
             "#0d0887"
            ],
            [
             0.1111111111111111,
             "#46039f"
            ],
            [
             0.2222222222222222,
             "#7201a8"
            ],
            [
             0.3333333333333333,
             "#9c179e"
            ],
            [
             0.4444444444444444,
             "#bd3786"
            ],
            [
             0.5555555555555556,
             "#d8576b"
            ],
            [
             0.6666666666666666,
             "#ed7953"
            ],
            [
             0.7777777777777778,
             "#fb9f3a"
            ],
            [
             0.8888888888888888,
             "#fdca26"
            ],
            [
             1,
             "#f0f921"
            ]
           ]
          },
          "colorway": [
           "#636efa",
           "#EF553B",
           "#00cc96",
           "#ab63fa",
           "#FFA15A",
           "#19d3f3",
           "#FF6692",
           "#B6E880",
           "#FF97FF",
           "#FECB52"
          ],
          "font": {
           "color": "#2a3f5f"
          },
          "geo": {
           "bgcolor": "white",
           "lakecolor": "white",
           "landcolor": "#E5ECF6",
           "showlakes": true,
           "showland": true,
           "subunitcolor": "white"
          },
          "hoverlabel": {
           "align": "left"
          },
          "hovermode": "closest",
          "mapbox": {
           "style": "light"
          },
          "paper_bgcolor": "white",
          "plot_bgcolor": "#E5ECF6",
          "polar": {
           "angularaxis": {
            "gridcolor": "white",
            "linecolor": "white",
            "ticks": ""
           },
           "bgcolor": "#E5ECF6",
           "radialaxis": {
            "gridcolor": "white",
            "linecolor": "white",
            "ticks": ""
           }
          },
          "scene": {
           "xaxis": {
            "backgroundcolor": "#E5ECF6",
            "gridcolor": "white",
            "gridwidth": 2,
            "linecolor": "white",
            "showbackground": true,
            "ticks": "",
            "zerolinecolor": "white"
           },
           "yaxis": {
            "backgroundcolor": "#E5ECF6",
            "gridcolor": "white",
            "gridwidth": 2,
            "linecolor": "white",
            "showbackground": true,
            "ticks": "",
            "zerolinecolor": "white"
           },
           "zaxis": {
            "backgroundcolor": "#E5ECF6",
            "gridcolor": "white",
            "gridwidth": 2,
            "linecolor": "white",
            "showbackground": true,
            "ticks": "",
            "zerolinecolor": "white"
           }
          },
          "shapedefaults": {
           "line": {
            "color": "#2a3f5f"
           }
          },
          "ternary": {
           "aaxis": {
            "gridcolor": "white",
            "linecolor": "white",
            "ticks": ""
           },
           "baxis": {
            "gridcolor": "white",
            "linecolor": "white",
            "ticks": ""
           },
           "bgcolor": "#E5ECF6",
           "caxis": {
            "gridcolor": "white",
            "linecolor": "white",
            "ticks": ""
           }
          },
          "title": {
           "x": 0.05
          },
          "xaxis": {
           "automargin": true,
           "gridcolor": "white",
           "linecolor": "white",
           "ticks": "",
           "title": {
            "standoff": 15
           },
           "zerolinecolor": "white",
           "zerolinewidth": 2
          },
          "yaxis": {
           "automargin": true,
           "gridcolor": "white",
           "linecolor": "white",
           "ticks": "",
           "title": {
            "standoff": 15
           },
           "zerolinecolor": "white",
           "zerolinewidth": 2
          }
         }
        },
        "xaxis": {
         "anchor": "y",
         "domain": [
          0,
          1
         ],
         "title": {
          "text": "quantity"
         }
        },
        "yaxis": {
         "anchor": "x",
         "domain": [
          0,
          1
         ],
         "title": {
          "text": "count"
         }
        }
       }
      },
      "text/html": [
       "<div>                            <div id=\"8225a470-6728-4baf-900e-05ddca4bc1d2\" class=\"plotly-graph-div\" style=\"height:525px; width:100%;\"></div>            <script type=\"text/javascript\">                require([\"plotly\"], function(Plotly) {                    window.PLOTLYENV=window.PLOTLYENV || {};                                    if (document.getElementById(\"8225a470-6728-4baf-900e-05ddca4bc1d2\")) {                    Plotly.newPlot(                        \"8225a470-6728-4baf-900e-05ddca4bc1d2\",                        [{\"alignmentgroup\":\"True\",\"bingroup\":\"x\",\"hovertemplate\":\"ship_state=CHANDIGARH<br>quantity=%{x}<br>count=%{y}<extra></extra>\",\"legendgroup\":\"CHANDIGARH\",\"marker\":{\"color\":\"#636efa\",\"pattern\":{\"shape\":\"\"}},\"name\":\"CHANDIGARH\",\"offsetgroup\":\"CHANDIGARH\",\"orientation\":\"v\",\"showlegend\":true,\"x\":[1,1,1],\"xaxis\":\"x\",\"yaxis\":\"y\",\"type\":\"histogram\"},{\"alignmentgroup\":\"True\",\"bingroup\":\"x\",\"hovertemplate\":\"ship_state=ARUNACHAL PRADESH<br>quantity=%{x}<br>count=%{y}<extra></extra>\",\"legendgroup\":\"ARUNACHAL PRADESH\",\"marker\":{\"color\":\"#EF553B\",\"pattern\":{\"shape\":\"\"}},\"name\":\"ARUNACHAL PRADESH\",\"offsetgroup\":\"ARUNACHAL PRADESH\",\"orientation\":\"v\",\"showlegend\":true,\"x\":[1,1],\"xaxis\":\"x\",\"yaxis\":\"y\",\"type\":\"histogram\"},{\"alignmentgroup\":\"True\",\"bingroup\":\"x\",\"hovertemplate\":\"ship_state=TELANGANA<br>quantity=%{x}<br>count=%{y}<extra></extra>\",\"legendgroup\":\"TELANGANA\",\"marker\":{\"color\":\"#00cc96\",\"pattern\":{\"shape\":\"\"}},\"name\":\"TELANGANA\",\"offsetgroup\":\"TELANGANA\",\"orientation\":\"v\",\"showlegend\":true,\"x\":[1,1,1,1,1,1,1,1,1,1,1,1,1],\"xaxis\":\"x\",\"yaxis\":\"y\",\"type\":\"histogram\"},{\"alignmentgroup\":\"True\",\"bingroup\":\"x\",\"hovertemplate\":\"ship_state=MAHARASHTRA<br>quantity=%{x}<br>count=%{y}<extra></extra>\",\"legendgroup\":\"MAHARASHTRA\",\"marker\":{\"color\":\"#ab63fa\",\"pattern\":{\"shape\":\"\"}},\"name\":\"MAHARASHTRA\",\"offsetgroup\":\"MAHARASHTRA\",\"orientation\":\"v\",\"showlegend\":true,\"x\":[1,1,1,1,1,1,1,1,1,1,1,1,1,1,1,1,1,1,1,2,1,1,1,1,1,1,4,1,1,3,1],\"xaxis\":\"x\",\"yaxis\":\"y\",\"type\":\"histogram\"},{\"alignmentgroup\":\"True\",\"bingroup\":\"x\",\"hovertemplate\":\"ship_state=WEST BENGAL<br>quantity=%{x}<br>count=%{y}<extra></extra>\",\"legendgroup\":\"WEST BENGAL\",\"marker\":{\"color\":\"#FFA15A\",\"pattern\":{\"shape\":\"\"}},\"name\":\"WEST BENGAL\",\"offsetgroup\":\"WEST BENGAL\",\"orientation\":\"v\",\"showlegend\":true,\"x\":[1,1,1,1,1,1,1,1,1,1,1,1,3,1,1,1,1,1,1],\"xaxis\":\"x\",\"yaxis\":\"y\",\"type\":\"histogram\"},{\"alignmentgroup\":\"True\",\"bingroup\":\"x\",\"hovertemplate\":\"ship_state=UTTAR PRADESH<br>quantity=%{x}<br>count=%{y}<extra></extra>\",\"legendgroup\":\"UTTAR PRADESH\",\"marker\":{\"color\":\"#19d3f3\",\"pattern\":{\"shape\":\"\"}},\"name\":\"UTTAR PRADESH\",\"offsetgroup\":\"UTTAR PRADESH\",\"orientation\":\"v\",\"showlegend\":true,\"x\":[1,1,1,1,1,1,1,1,1,1,1,1],\"xaxis\":\"x\",\"yaxis\":\"y\",\"type\":\"histogram\"},{\"alignmentgroup\":\"True\",\"bingroup\":\"x\",\"hovertemplate\":\"ship_state=KARNATAKA<br>quantity=%{x}<br>count=%{y}<extra></extra>\",\"legendgroup\":\"KARNATAKA\",\"marker\":{\"color\":\"#FF6692\",\"pattern\":{\"shape\":\"\"}},\"name\":\"KARNATAKA\",\"offsetgroup\":\"KARNATAKA\",\"orientation\":\"v\",\"showlegend\":true,\"x\":[1,1,1,1,1,1,1,1,1,1,1,1,1,1,1,1],\"xaxis\":\"x\",\"yaxis\":\"y\",\"type\":\"histogram\"},{\"alignmentgroup\":\"True\",\"bingroup\":\"x\",\"hovertemplate\":\"ship_state=CHHATTISGARH<br>quantity=%{x}<br>count=%{y}<extra></extra>\",\"legendgroup\":\"CHHATTISGARH\",\"marker\":{\"color\":\"#B6E880\",\"pattern\":{\"shape\":\"\"}},\"name\":\"CHHATTISGARH\",\"offsetgroup\":\"CHHATTISGARH\",\"orientation\":\"v\",\"showlegend\":true,\"x\":[1,1,1,1,1,1],\"xaxis\":\"x\",\"yaxis\":\"y\",\"type\":\"histogram\"},{\"alignmentgroup\":\"True\",\"bingroup\":\"x\",\"hovertemplate\":\"ship_state=HARYANA<br>quantity=%{x}<br>count=%{y}<extra></extra>\",\"legendgroup\":\"HARYANA\",\"marker\":{\"color\":\"#FF97FF\",\"pattern\":{\"shape\":\"\"}},\"name\":\"HARYANA\",\"offsetgroup\":\"HARYANA\",\"orientation\":\"v\",\"showlegend\":true,\"x\":[1,1,1,1,1,3,1,1],\"xaxis\":\"x\",\"yaxis\":\"y\",\"type\":\"histogram\"},{\"alignmentgroup\":\"True\",\"bingroup\":\"x\",\"hovertemplate\":\"ship_state=TRIPURA<br>quantity=%{x}<br>count=%{y}<extra></extra>\",\"legendgroup\":\"TRIPURA\",\"marker\":{\"color\":\"#FECB52\",\"pattern\":{\"shape\":\"\"}},\"name\":\"TRIPURA\",\"offsetgroup\":\"TRIPURA\",\"orientation\":\"v\",\"showlegend\":true,\"x\":[1],\"xaxis\":\"x\",\"yaxis\":\"y\",\"type\":\"histogram\"},{\"alignmentgroup\":\"True\",\"bingroup\":\"x\",\"hovertemplate\":\"ship_state=TAMIL NADU<br>quantity=%{x}<br>count=%{y}<extra></extra>\",\"legendgroup\":\"TAMIL NADU\",\"marker\":{\"color\":\"#636efa\",\"pattern\":{\"shape\":\"\"}},\"name\":\"TAMIL NADU\",\"offsetgroup\":\"TAMIL NADU\",\"orientation\":\"v\",\"showlegend\":true,\"x\":[1,1,1,1,1,1,1,1,1,1,3,1,1,1,1,1,1],\"xaxis\":\"x\",\"yaxis\":\"y\",\"type\":\"histogram\"},{\"alignmentgroup\":\"True\",\"bingroup\":\"x\",\"hovertemplate\":\"ship_state=ODISHA<br>quantity=%{x}<br>count=%{y}<extra></extra>\",\"legendgroup\":\"ODISHA\",\"marker\":{\"color\":\"#EF553B\",\"pattern\":{\"shape\":\"\"}},\"name\":\"ODISHA\",\"offsetgroup\":\"ODISHA\",\"orientation\":\"v\",\"showlegend\":true,\"x\":[1,1],\"xaxis\":\"x\",\"yaxis\":\"y\",\"type\":\"histogram\"},{\"alignmentgroup\":\"True\",\"bingroup\":\"x\",\"hovertemplate\":\"ship_state=ANDHRA PRADESH<br>quantity=%{x}<br>count=%{y}<extra></extra>\",\"legendgroup\":\"ANDHRA PRADESH\",\"marker\":{\"color\":\"#00cc96\",\"pattern\":{\"shape\":\"\"}},\"name\":\"ANDHRA PRADESH\",\"offsetgroup\":\"ANDHRA PRADESH\",\"orientation\":\"v\",\"showlegend\":true,\"x\":[1,1,1],\"xaxis\":\"x\",\"yaxis\":\"y\",\"type\":\"histogram\"},{\"alignmentgroup\":\"True\",\"bingroup\":\"x\",\"hovertemplate\":\"ship_state=DELHI<br>quantity=%{x}<br>count=%{y}<extra></extra>\",\"legendgroup\":\"DELHI\",\"marker\":{\"color\":\"#ab63fa\",\"pattern\":{\"shape\":\"\"}},\"name\":\"DELHI\",\"offsetgroup\":\"DELHI\",\"orientation\":\"v\",\"showlegend\":true,\"x\":[1,4,1,1,1,1,1,1],\"xaxis\":\"x\",\"yaxis\":\"y\",\"type\":\"histogram\"},{\"alignmentgroup\":\"True\",\"bingroup\":\"x\",\"hovertemplate\":\"ship_state=GOA<br>quantity=%{x}<br>count=%{y}<extra></extra>\",\"legendgroup\":\"GOA\",\"marker\":{\"color\":\"#FFA15A\",\"pattern\":{\"shape\":\"\"}},\"name\":\"GOA\",\"offsetgroup\":\"GOA\",\"orientation\":\"v\",\"showlegend\":true,\"x\":[1,1],\"xaxis\":\"x\",\"yaxis\":\"y\",\"type\":\"histogram\"},{\"alignmentgroup\":\"True\",\"bingroup\":\"x\",\"hovertemplate\":\"ship_state=Odisha<br>quantity=%{x}<br>count=%{y}<extra></extra>\",\"legendgroup\":\"Odisha\",\"marker\":{\"color\":\"#19d3f3\",\"pattern\":{\"shape\":\"\"}},\"name\":\"Odisha\",\"offsetgroup\":\"Odisha\",\"orientation\":\"v\",\"showlegend\":true,\"x\":[1],\"xaxis\":\"x\",\"yaxis\":\"y\",\"type\":\"histogram\"},{\"alignmentgroup\":\"True\",\"bingroup\":\"x\",\"hovertemplate\":\"ship_state=JAMMU & KASHMIR<br>quantity=%{x}<br>count=%{y}<extra></extra>\",\"legendgroup\":\"JAMMU & KASHMIR\",\"marker\":{\"color\":\"#FF6692\",\"pattern\":{\"shape\":\"\"}},\"name\":\"JAMMU & KASHMIR\",\"offsetgroup\":\"JAMMU & KASHMIR\",\"orientation\":\"v\",\"showlegend\":true,\"x\":[1],\"xaxis\":\"x\",\"yaxis\":\"y\",\"type\":\"histogram\"},{\"alignmentgroup\":\"True\",\"bingroup\":\"x\",\"hovertemplate\":\"ship_state=GUJARAT<br>quantity=%{x}<br>count=%{y}<extra></extra>\",\"legendgroup\":\"GUJARAT\",\"marker\":{\"color\":\"#B6E880\",\"pattern\":{\"shape\":\"\"}},\"name\":\"GUJARAT\",\"offsetgroup\":\"GUJARAT\",\"orientation\":\"v\",\"showlegend\":true,\"x\":[1,1,1,1,1,1],\"xaxis\":\"x\",\"yaxis\":\"y\",\"type\":\"histogram\"},{\"alignmentgroup\":\"True\",\"bingroup\":\"x\",\"hovertemplate\":\"ship_state=ASSAM<br>quantity=%{x}<br>count=%{y}<extra></extra>\",\"legendgroup\":\"ASSAM\",\"marker\":{\"color\":\"#FF97FF\",\"pattern\":{\"shape\":\"\"}},\"name\":\"ASSAM\",\"offsetgroup\":\"ASSAM\",\"orientation\":\"v\",\"showlegend\":true,\"x\":[1,1,1,1],\"xaxis\":\"x\",\"yaxis\":\"y\",\"type\":\"histogram\"},{\"alignmentgroup\":\"True\",\"bingroup\":\"x\",\"hovertemplate\":\"ship_state=KERALA<br>quantity=%{x}<br>count=%{y}<extra></extra>\",\"legendgroup\":\"KERALA\",\"marker\":{\"color\":\"#FECB52\",\"pattern\":{\"shape\":\"\"}},\"name\":\"KERALA\",\"offsetgroup\":\"KERALA\",\"orientation\":\"v\",\"showlegend\":true,\"x\":[1,1,1,1],\"xaxis\":\"x\",\"yaxis\":\"y\",\"type\":\"histogram\"},{\"alignmentgroup\":\"True\",\"bingroup\":\"x\",\"hovertemplate\":\"ship_state=Maharashtra<br>quantity=%{x}<br>count=%{y}<extra></extra>\",\"legendgroup\":\"Maharashtra\",\"marker\":{\"color\":\"#636efa\",\"pattern\":{\"shape\":\"\"}},\"name\":\"Maharashtra\",\"offsetgroup\":\"Maharashtra\",\"orientation\":\"v\",\"showlegend\":true,\"x\":[1],\"xaxis\":\"x\",\"yaxis\":\"y\",\"type\":\"histogram\"},{\"alignmentgroup\":\"True\",\"bingroup\":\"x\",\"hovertemplate\":\"ship_state=PUNJAB<br>quantity=%{x}<br>count=%{y}<extra></extra>\",\"legendgroup\":\"PUNJAB\",\"marker\":{\"color\":\"#EF553B\",\"pattern\":{\"shape\":\"\"}},\"name\":\"PUNJAB\",\"offsetgroup\":\"PUNJAB\",\"orientation\":\"v\",\"showlegend\":true,\"x\":[1],\"xaxis\":\"x\",\"yaxis\":\"y\",\"type\":\"histogram\"},{\"alignmentgroup\":\"True\",\"bingroup\":\"x\",\"hovertemplate\":\"ship_state=RAJASTHAN<br>quantity=%{x}<br>count=%{y}<extra></extra>\",\"legendgroup\":\"RAJASTHAN\",\"marker\":{\"color\":\"#00cc96\",\"pattern\":{\"shape\":\"\"}},\"name\":\"RAJASTHAN\",\"offsetgroup\":\"RAJASTHAN\",\"orientation\":\"v\",\"showlegend\":true,\"x\":[1,1,1],\"xaxis\":\"x\",\"yaxis\":\"y\",\"type\":\"histogram\"},{\"alignmentgroup\":\"True\",\"bingroup\":\"x\",\"hovertemplate\":\"ship_state=CHANDIGARH,<br>quantity=%{x}<br>count=%{y}<extra></extra>\",\"legendgroup\":\"CHANDIGARH,\",\"marker\":{\"color\":\"#ab63fa\",\"pattern\":{\"shape\":\"\"}},\"name\":\"CHANDIGARH,\",\"offsetgroup\":\"CHANDIGARH,\",\"orientation\":\"v\",\"showlegend\":true,\"x\":[1],\"xaxis\":\"x\",\"yaxis\":\"y\",\"type\":\"histogram\"},{\"alignmentgroup\":\"True\",\"bingroup\":\"x\",\"hovertemplate\":\"ship_state=BIHAR<br>quantity=%{x}<br>count=%{y}<extra></extra>\",\"legendgroup\":\"BIHAR\",\"marker\":{\"color\":\"#FFA15A\",\"pattern\":{\"shape\":\"\"}},\"name\":\"BIHAR\",\"offsetgroup\":\"BIHAR\",\"orientation\":\"v\",\"showlegend\":true,\"x\":[1],\"xaxis\":\"x\",\"yaxis\":\"y\",\"type\":\"histogram\"},{\"alignmentgroup\":\"True\",\"bingroup\":\"x\",\"hovertemplate\":\"ship_state=MADHYA Pradesh<br>quantity=%{x}<br>count=%{y}<extra></extra>\",\"legendgroup\":\"MADHYA Pradesh\",\"marker\":{\"color\":\"#19d3f3\",\"pattern\":{\"shape\":\"\"}},\"name\":\"MADHYA Pradesh\",\"offsetgroup\":\"MADHYA Pradesh\",\"orientation\":\"v\",\"showlegend\":true,\"x\":[1],\"xaxis\":\"x\",\"yaxis\":\"y\",\"type\":\"histogram\"},{\"alignmentgroup\":\"True\",\"bingroup\":\"x\",\"hovertemplate\":\"ship_state=MOHALI,<br>quantity=%{x}<br>count=%{y}<extra></extra>\",\"legendgroup\":\"MOHALI,\",\"marker\":{\"color\":\"#FF6692\",\"pattern\":{\"shape\":\"\"}},\"name\":\"MOHALI,\",\"offsetgroup\":\"MOHALI,\",\"orientation\":\"v\",\"showlegend\":true,\"x\":[1],\"xaxis\":\"x\",\"yaxis\":\"y\",\"type\":\"histogram\"},{\"alignmentgroup\":\"True\",\"bingroup\":\"x\",\"hovertemplate\":\"ship_state=Andhra Pradesh<br>quantity=%{x}<br>count=%{y}<extra></extra>\",\"legendgroup\":\"Andhra Pradesh\",\"marker\":{\"color\":\"#B6E880\",\"pattern\":{\"shape\":\"\"}},\"name\":\"Andhra Pradesh\",\"offsetgroup\":\"Andhra Pradesh\",\"orientation\":\"v\",\"showlegend\":true,\"x\":[1],\"xaxis\":\"x\",\"yaxis\":\"y\",\"type\":\"histogram\"},{\"alignmentgroup\":\"True\",\"bingroup\":\"x\",\"hovertemplate\":\"ship_state=Himachal Pradesh<br>quantity=%{x}<br>count=%{y}<extra></extra>\",\"legendgroup\":\"Himachal Pradesh\",\"marker\":{\"color\":\"#FF97FF\",\"pattern\":{\"shape\":\"\"}},\"name\":\"Himachal Pradesh\",\"offsetgroup\":\"Himachal Pradesh\",\"orientation\":\"v\",\"showlegend\":true,\"x\":[1],\"xaxis\":\"x\",\"yaxis\":\"y\",\"type\":\"histogram\"},{\"alignmentgroup\":\"True\",\"bingroup\":\"x\",\"hovertemplate\":\"ship_state=UTTARAKHAND<br>quantity=%{x}<br>count=%{y}<extra></extra>\",\"legendgroup\":\"UTTARAKHAND\",\"marker\":{\"color\":\"#FECB52\",\"pattern\":{\"shape\":\"\"}},\"name\":\"UTTARAKHAND\",\"offsetgroup\":\"UTTARAKHAND\",\"orientation\":\"v\",\"showlegend\":true,\"x\":[1],\"xaxis\":\"x\",\"yaxis\":\"y\",\"type\":\"histogram\"}],                        {\"template\":{\"data\":{\"bar\":[{\"error_x\":{\"color\":\"#2a3f5f\"},\"error_y\":{\"color\":\"#2a3f5f\"},\"marker\":{\"line\":{\"color\":\"#E5ECF6\",\"width\":0.5},\"pattern\":{\"fillmode\":\"overlay\",\"size\":10,\"solidity\":0.2}},\"type\":\"bar\"}],\"barpolar\":[{\"marker\":{\"line\":{\"color\":\"#E5ECF6\",\"width\":0.5},\"pattern\":{\"fillmode\":\"overlay\",\"size\":10,\"solidity\":0.2}},\"type\":\"barpolar\"}],\"carpet\":[{\"aaxis\":{\"endlinecolor\":\"#2a3f5f\",\"gridcolor\":\"white\",\"linecolor\":\"white\",\"minorgridcolor\":\"white\",\"startlinecolor\":\"#2a3f5f\"},\"baxis\":{\"endlinecolor\":\"#2a3f5f\",\"gridcolor\":\"white\",\"linecolor\":\"white\",\"minorgridcolor\":\"white\",\"startlinecolor\":\"#2a3f5f\"},\"type\":\"carpet\"}],\"choropleth\":[{\"colorbar\":{\"outlinewidth\":0,\"ticks\":\"\"},\"type\":\"choropleth\"}],\"contour\":[{\"colorbar\":{\"outlinewidth\":0,\"ticks\":\"\"},\"colorscale\":[[0.0,\"#0d0887\"],[0.1111111111111111,\"#46039f\"],[0.2222222222222222,\"#7201a8\"],[0.3333333333333333,\"#9c179e\"],[0.4444444444444444,\"#bd3786\"],[0.5555555555555556,\"#d8576b\"],[0.6666666666666666,\"#ed7953\"],[0.7777777777777778,\"#fb9f3a\"],[0.8888888888888888,\"#fdca26\"],[1.0,\"#f0f921\"]],\"type\":\"contour\"}],\"contourcarpet\":[{\"colorbar\":{\"outlinewidth\":0,\"ticks\":\"\"},\"type\":\"contourcarpet\"}],\"heatmap\":[{\"colorbar\":{\"outlinewidth\":0,\"ticks\":\"\"},\"colorscale\":[[0.0,\"#0d0887\"],[0.1111111111111111,\"#46039f\"],[0.2222222222222222,\"#7201a8\"],[0.3333333333333333,\"#9c179e\"],[0.4444444444444444,\"#bd3786\"],[0.5555555555555556,\"#d8576b\"],[0.6666666666666666,\"#ed7953\"],[0.7777777777777778,\"#fb9f3a\"],[0.8888888888888888,\"#fdca26\"],[1.0,\"#f0f921\"]],\"type\":\"heatmap\"}],\"heatmapgl\":[{\"colorbar\":{\"outlinewidth\":0,\"ticks\":\"\"},\"colorscale\":[[0.0,\"#0d0887\"],[0.1111111111111111,\"#46039f\"],[0.2222222222222222,\"#7201a8\"],[0.3333333333333333,\"#9c179e\"],[0.4444444444444444,\"#bd3786\"],[0.5555555555555556,\"#d8576b\"],[0.6666666666666666,\"#ed7953\"],[0.7777777777777778,\"#fb9f3a\"],[0.8888888888888888,\"#fdca26\"],[1.0,\"#f0f921\"]],\"type\":\"heatmapgl\"}],\"histogram\":[{\"marker\":{\"pattern\":{\"fillmode\":\"overlay\",\"size\":10,\"solidity\":0.2}},\"type\":\"histogram\"}],\"histogram2d\":[{\"colorbar\":{\"outlinewidth\":0,\"ticks\":\"\"},\"colorscale\":[[0.0,\"#0d0887\"],[0.1111111111111111,\"#46039f\"],[0.2222222222222222,\"#7201a8\"],[0.3333333333333333,\"#9c179e\"],[0.4444444444444444,\"#bd3786\"],[0.5555555555555556,\"#d8576b\"],[0.6666666666666666,\"#ed7953\"],[0.7777777777777778,\"#fb9f3a\"],[0.8888888888888888,\"#fdca26\"],[1.0,\"#f0f921\"]],\"type\":\"histogram2d\"}],\"histogram2dcontour\":[{\"colorbar\":{\"outlinewidth\":0,\"ticks\":\"\"},\"colorscale\":[[0.0,\"#0d0887\"],[0.1111111111111111,\"#46039f\"],[0.2222222222222222,\"#7201a8\"],[0.3333333333333333,\"#9c179e\"],[0.4444444444444444,\"#bd3786\"],[0.5555555555555556,\"#d8576b\"],[0.6666666666666666,\"#ed7953\"],[0.7777777777777778,\"#fb9f3a\"],[0.8888888888888888,\"#fdca26\"],[1.0,\"#f0f921\"]],\"type\":\"histogram2dcontour\"}],\"mesh3d\":[{\"colorbar\":{\"outlinewidth\":0,\"ticks\":\"\"},\"type\":\"mesh3d\"}],\"parcoords\":[{\"line\":{\"colorbar\":{\"outlinewidth\":0,\"ticks\":\"\"}},\"type\":\"parcoords\"}],\"pie\":[{\"automargin\":true,\"type\":\"pie\"}],\"scatter\":[{\"marker\":{\"colorbar\":{\"outlinewidth\":0,\"ticks\":\"\"}},\"type\":\"scatter\"}],\"scatter3d\":[{\"line\":{\"colorbar\":{\"outlinewidth\":0,\"ticks\":\"\"}},\"marker\":{\"colorbar\":{\"outlinewidth\":0,\"ticks\":\"\"}},\"type\":\"scatter3d\"}],\"scattercarpet\":[{\"marker\":{\"colorbar\":{\"outlinewidth\":0,\"ticks\":\"\"}},\"type\":\"scattercarpet\"}],\"scattergeo\":[{\"marker\":{\"colorbar\":{\"outlinewidth\":0,\"ticks\":\"\"}},\"type\":\"scattergeo\"}],\"scattergl\":[{\"marker\":{\"colorbar\":{\"outlinewidth\":0,\"ticks\":\"\"}},\"type\":\"scattergl\"}],\"scattermapbox\":[{\"marker\":{\"colorbar\":{\"outlinewidth\":0,\"ticks\":\"\"}},\"type\":\"scattermapbox\"}],\"scatterpolar\":[{\"marker\":{\"colorbar\":{\"outlinewidth\":0,\"ticks\":\"\"}},\"type\":\"scatterpolar\"}],\"scatterpolargl\":[{\"marker\":{\"colorbar\":{\"outlinewidth\":0,\"ticks\":\"\"}},\"type\":\"scatterpolargl\"}],\"scatterternary\":[{\"marker\":{\"colorbar\":{\"outlinewidth\":0,\"ticks\":\"\"}},\"type\":\"scatterternary\"}],\"surface\":[{\"colorbar\":{\"outlinewidth\":0,\"ticks\":\"\"},\"colorscale\":[[0.0,\"#0d0887\"],[0.1111111111111111,\"#46039f\"],[0.2222222222222222,\"#7201a8\"],[0.3333333333333333,\"#9c179e\"],[0.4444444444444444,\"#bd3786\"],[0.5555555555555556,\"#d8576b\"],[0.6666666666666666,\"#ed7953\"],[0.7777777777777778,\"#fb9f3a\"],[0.8888888888888888,\"#fdca26\"],[1.0,\"#f0f921\"]],\"type\":\"surface\"}],\"table\":[{\"cells\":{\"fill\":{\"color\":\"#EBF0F8\"},\"line\":{\"color\":\"white\"}},\"header\":{\"fill\":{\"color\":\"#C8D4E3\"},\"line\":{\"color\":\"white\"}},\"type\":\"table\"}]},\"layout\":{\"annotationdefaults\":{\"arrowcolor\":\"#2a3f5f\",\"arrowhead\":0,\"arrowwidth\":1},\"autotypenumbers\":\"strict\",\"coloraxis\":{\"colorbar\":{\"outlinewidth\":0,\"ticks\":\"\"}},\"colorscale\":{\"diverging\":[[0,\"#8e0152\"],[0.1,\"#c51b7d\"],[0.2,\"#de77ae\"],[0.3,\"#f1b6da\"],[0.4,\"#fde0ef\"],[0.5,\"#f7f7f7\"],[0.6,\"#e6f5d0\"],[0.7,\"#b8e186\"],[0.8,\"#7fbc41\"],[0.9,\"#4d9221\"],[1,\"#276419\"]],\"sequential\":[[0.0,\"#0d0887\"],[0.1111111111111111,\"#46039f\"],[0.2222222222222222,\"#7201a8\"],[0.3333333333333333,\"#9c179e\"],[0.4444444444444444,\"#bd3786\"],[0.5555555555555556,\"#d8576b\"],[0.6666666666666666,\"#ed7953\"],[0.7777777777777778,\"#fb9f3a\"],[0.8888888888888888,\"#fdca26\"],[1.0,\"#f0f921\"]],\"sequentialminus\":[[0.0,\"#0d0887\"],[0.1111111111111111,\"#46039f\"],[0.2222222222222222,\"#7201a8\"],[0.3333333333333333,\"#9c179e\"],[0.4444444444444444,\"#bd3786\"],[0.5555555555555556,\"#d8576b\"],[0.6666666666666666,\"#ed7953\"],[0.7777777777777778,\"#fb9f3a\"],[0.8888888888888888,\"#fdca26\"],[1.0,\"#f0f921\"]]},\"colorway\":[\"#636efa\",\"#EF553B\",\"#00cc96\",\"#ab63fa\",\"#FFA15A\",\"#19d3f3\",\"#FF6692\",\"#B6E880\",\"#FF97FF\",\"#FECB52\"],\"font\":{\"color\":\"#2a3f5f\"},\"geo\":{\"bgcolor\":\"white\",\"lakecolor\":\"white\",\"landcolor\":\"#E5ECF6\",\"showlakes\":true,\"showland\":true,\"subunitcolor\":\"white\"},\"hoverlabel\":{\"align\":\"left\"},\"hovermode\":\"closest\",\"mapbox\":{\"style\":\"light\"},\"paper_bgcolor\":\"white\",\"plot_bgcolor\":\"#E5ECF6\",\"polar\":{\"angularaxis\":{\"gridcolor\":\"white\",\"linecolor\":\"white\",\"ticks\":\"\"},\"bgcolor\":\"#E5ECF6\",\"radialaxis\":{\"gridcolor\":\"white\",\"linecolor\":\"white\",\"ticks\":\"\"}},\"scene\":{\"xaxis\":{\"backgroundcolor\":\"#E5ECF6\",\"gridcolor\":\"white\",\"gridwidth\":2,\"linecolor\":\"white\",\"showbackground\":true,\"ticks\":\"\",\"zerolinecolor\":\"white\"},\"yaxis\":{\"backgroundcolor\":\"#E5ECF6\",\"gridcolor\":\"white\",\"gridwidth\":2,\"linecolor\":\"white\",\"showbackground\":true,\"ticks\":\"\",\"zerolinecolor\":\"white\"},\"zaxis\":{\"backgroundcolor\":\"#E5ECF6\",\"gridcolor\":\"white\",\"gridwidth\":2,\"linecolor\":\"white\",\"showbackground\":true,\"ticks\":\"\",\"zerolinecolor\":\"white\"}},\"shapedefaults\":{\"line\":{\"color\":\"#2a3f5f\"}},\"ternary\":{\"aaxis\":{\"gridcolor\":\"white\",\"linecolor\":\"white\",\"ticks\":\"\"},\"baxis\":{\"gridcolor\":\"white\",\"linecolor\":\"white\",\"ticks\":\"\"},\"bgcolor\":\"#E5ECF6\",\"caxis\":{\"gridcolor\":\"white\",\"linecolor\":\"white\",\"ticks\":\"\"}},\"title\":{\"x\":0.05},\"xaxis\":{\"automargin\":true,\"gridcolor\":\"white\",\"linecolor\":\"white\",\"ticks\":\"\",\"title\":{\"standoff\":15},\"zerolinecolor\":\"white\",\"zerolinewidth\":2},\"yaxis\":{\"automargin\":true,\"gridcolor\":\"white\",\"linecolor\":\"white\",\"ticks\":\"\",\"title\":{\"standoff\":15},\"zerolinecolor\":\"white\",\"zerolinewidth\":2}}},\"xaxis\":{\"anchor\":\"y\",\"domain\":[0.0,1.0],\"title\":{\"text\":\"quantity\"}},\"yaxis\":{\"anchor\":\"x\",\"domain\":[0.0,1.0],\"title\":{\"text\":\"count\"}},\"legend\":{\"title\":{\"text\":\"ship_state\"},\"tracegroupgap\":0},\"margin\":{\"t\":60},\"barmode\":\"relative\"},                        {\"responsive\": true}                    ).then(function(){\n",
       "                            \n",
       "var gd = document.getElementById('8225a470-6728-4baf-900e-05ddca4bc1d2');\n",
       "var x = new MutationObserver(function (mutations, observer) {{\n",
       "        var display = window.getComputedStyle(gd).display;\n",
       "        if (!display || display === 'none') {{\n",
       "            console.log([gd, 'removed!']);\n",
       "            Plotly.purge(gd);\n",
       "            observer.disconnect();\n",
       "        }}\n",
       "}});\n",
       "\n",
       "// Listen for the removal of the full notebook cells\n",
       "var notebookContainer = gd.closest('#notebook-container');\n",
       "if (notebookContainer) {{\n",
       "    x.observe(notebookContainer, {childList: true});\n",
       "}}\n",
       "\n",
       "// Listen for the clearing of the current output cell\n",
       "var outputEl = gd.closest('.output');\n",
       "if (outputEl) {{\n",
       "    x.observe(outputEl, {childList: true});\n",
       "}}\n",
       "\n",
       "                        })                };                });            </script>        </div>"
      ]
     },
     "metadata": {},
     "output_type": "display_data"
    },
    {
     "data": {
      "application/vnd.plotly.v1+json": {
       "config": {
        "plotlyServerURL": "https://plot.ly"
       },
       "data": [
        {
         "alignmentgroup": "True",
         "bingroup": "x",
         "hovertemplate": "ship_state=CHANDIGARH<br>sku=%{x}<br>count=%{y}<extra></extra>",
         "legendgroup": "CHANDIGARH",
         "marker": {
          "color": "#636efa",
          "pattern": {
           "shape": ""
          }
         },
         "name": "CHANDIGARH",
         "offsetgroup": "CHANDIGARH",
         "orientation": "v",
         "showlegend": true,
         "type": "histogram",
         "x": [
          "SKU:  2X-3C0F-KNJE",
          "SKU:  2X-3C0F-KNJE",
          "SKU:  DN-0WDX-VYOT"
         ],
         "xaxis": "x",
         "yaxis": "y"
        },
        {
         "alignmentgroup": "True",
         "bingroup": "x",
         "hovertemplate": "ship_state=ARUNACHAL PRADESH<br>sku=%{x}<br>count=%{y}<extra></extra>",
         "legendgroup": "ARUNACHAL PRADESH",
         "marker": {
          "color": "#EF553B",
          "pattern": {
           "shape": ""
          }
         },
         "name": "ARUNACHAL PRADESH",
         "offsetgroup": "ARUNACHAL PRADESH",
         "orientation": "v",
         "showlegend": true,
         "type": "histogram",
         "x": [
          "SKU:  DN-0WDX-VYOT",
          "SKU:  DN-0WDX-VYOT"
         ],
         "xaxis": "x",
         "yaxis": "y"
        },
        {
         "alignmentgroup": "True",
         "bingroup": "x",
         "hovertemplate": "ship_state=TELANGANA<br>sku=%{x}<br>count=%{y}<extra></extra>",
         "legendgroup": "TELANGANA",
         "marker": {
          "color": "#00cc96",
          "pattern": {
           "shape": ""
          }
         },
         "name": "TELANGANA",
         "offsetgroup": "TELANGANA",
         "orientation": "v",
         "showlegend": true,
         "type": "histogram",
         "x": [
          "SKU:  AH-J3AO-R7DN",
          "SKU:  O9-OVS7-G9XK",
          "SKU:  DN-0WDX-VYOT",
          "SKU:  D4-UD68-TMXH",
          "SKU:  TQ-OE6K-9DIK",
          "SKU:  5B-NW9K-L3AO",
          "SKU:  5B-NW9K-L3AO",
          "SKU:  54-D265-B74K",
          "SKU:  G4-B5GQ-8V30",
          "SKU:  W4-JQ2J-ZUF2",
          "SKU:  2X-3C0F-KNJE",
          "SKU:  8V-OQ14-I63T",
          "SKU:  CR-6E69-UXFW"
         ],
         "xaxis": "x",
         "yaxis": "y"
        },
        {
         "alignmentgroup": "True",
         "bingroup": "x",
         "hovertemplate": "ship_state=MAHARASHTRA<br>sku=%{x}<br>count=%{y}<extra></extra>",
         "legendgroup": "MAHARASHTRA",
         "marker": {
          "color": "#ab63fa",
          "pattern": {
           "shape": ""
          }
         },
         "name": "MAHARASHTRA",
         "offsetgroup": "MAHARASHTRA",
         "orientation": "v",
         "showlegend": true,
         "type": "histogram",
         "x": [
          "SKU:  KL-7WAA-Z82I",
          "SKU:  FL-4CMG-CU48",
          "SKU:  YJ-5CCT-M3PP",
          "SKU:  PG-WS6J-89DG",
          "SKU:  S1-A92Q-JU3X",
          "SKU:  AY-Z7BT-BMVM",
          "SKU:  3O-GBSM-TYZE",
          "SKU:  DN-0WDX-VYOT",
          "SKU:  CR-6E69-UXFW",
          "SKU:  DN-0WDX-VYOT",
          "SKU:  W4-JQ2J-ZUF2",
          "SKU:  DN-0WDX-VYOT",
          "SKU:  3O-GBSM-TYZE",
          "SKU:  0M-RFE6-443C",
          "SKU:  3O-GBSM-TYZE",
          "SKU:  H6-A9OJ-C0Q1",
          "SKU:  1T-RAUZ-UZKO",
          "SKU:  TY-4GPW-U54J",
          "SKU:  PG-WS6J-89DG",
          "SKU:  DN-0WDX-VYOT",
          "SKU:  O9-OVS7-G9XK",
          "SKU:  UR-WJJ0-I3TN",
          "SKU:  SB-WDQN-SDN9",
          "SKU:  DN-0WDX-VYOT",
          "SKU:  4V-I7XD-JQVR",
          "SKU:  DN-0WDX-VYOT",
          "SKU:  DN-0WDX-VYOT",
          "SKU:  5B-NW9K-L3AO",
          "SKU:  WR-ANCX-U28C",
          "SKU:  DN-0WDX-VYOT",
          "SKU:  2X-3C0F-KNJE"
         ],
         "xaxis": "x",
         "yaxis": "y"
        },
        {
         "alignmentgroup": "True",
         "bingroup": "x",
         "hovertemplate": "ship_state=WEST BENGAL<br>sku=%{x}<br>count=%{y}<extra></extra>",
         "legendgroup": "WEST BENGAL",
         "marker": {
          "color": "#FFA15A",
          "pattern": {
           "shape": ""
          }
         },
         "name": "WEST BENGAL",
         "offsetgroup": "WEST BENGAL",
         "orientation": "v",
         "showlegend": true,
         "type": "histogram",
         "x": [
          "SKU:  HH-FOWV-5YWO",
          "SKU:  KL-7WAA-Z82I",
          "SKU:  9S-GE8P-RIR4",
          "SKU:  S1-A92Q-JU3X",
          "SKU:  86-JXO3-EJ7K",
          "SKU:  0M-RFE6-443C",
          "SKU:  DN-0WDX-VYOT",
          "SKU:  UR-WJJ0-I3TN",
          "SKU:  G4-B5GQ-8V30",
          "SKU:  P1-LF2X-L3ZC",
          "SKU:  TQ-OE6K-9DIK",
          "SKU:  NT-6I2C-2TWX",
          "SKU:  SB-WDQN-SDN9",
          "SKU:  NV-1DWM-41VX",
          "SKU:  W4-JQ2J-ZUF2",
          "SKU:  3F-4R9N-Z8NJ",
          "SKU:  3F-4R9N-Z8NJ",
          "SKU:  78-ZYA1-UMZH",
          "SKU:  N8-YFZF-P74I"
         ],
         "xaxis": "x",
         "yaxis": "y"
        },
        {
         "alignmentgroup": "True",
         "bingroup": "x",
         "hovertemplate": "ship_state=UTTAR PRADESH<br>sku=%{x}<br>count=%{y}<extra></extra>",
         "legendgroup": "UTTAR PRADESH",
         "marker": {
          "color": "#19d3f3",
          "pattern": {
           "shape": ""
          }
         },
         "name": "UTTAR PRADESH",
         "offsetgroup": "UTTAR PRADESH",
         "orientation": "v",
         "showlegend": true,
         "type": "histogram",
         "x": [
          "SKU:  TQ-OE6K-9DIK",
          "SKU:  S1-A92Q-JU3X",
          "SKU:  DN-0WDX-VYOT",
          "SKU:  UR-WJJ0-I3TN",
          "SKU:  0M-RFE6-443C",
          "SKU:  7K-6YIU-KO0R",
          "SKU:  SB-WDQN-SDN9",
          "SKU:  NN-AGEZ-5DUM",
          "SKU:  CR-6E69-UXFW",
          "SKU:  PG-WS6J-89DG",
          "SKU:  4V-I7XD-JQVR",
          "SKU:  DN-0WDX-VYOT"
         ],
         "xaxis": "x",
         "yaxis": "y"
        },
        {
         "alignmentgroup": "True",
         "bingroup": "x",
         "hovertemplate": "ship_state=KARNATAKA<br>sku=%{x}<br>count=%{y}<extra></extra>",
         "legendgroup": "KARNATAKA",
         "marker": {
          "color": "#FF6692",
          "pattern": {
           "shape": ""
          }
         },
         "name": "KARNATAKA",
         "offsetgroup": "KARNATAKA",
         "orientation": "v",
         "showlegend": true,
         "type": "histogram",
         "x": [
          "SKU:  3F-4R9N-Z8NJ",
          "SKU:  TQ-OE6K-9DIK",
          "SKU:  AY-Z7BT-BMVM",
          "SKU:  DN-0WDX-VYOT",
          "SKU:  3F-4R9N-Z8NJ",
          "SKU:  D9-CVL3-8JF6",
          "SKU:  NV-1DWM-41VX",
          "SKU:  54-D265-B74K",
          "SKU:  PG-WS6J-89DG",
          "SKU:  4V-I7XD-JQVR",
          "SKU:  ST-27BR-VEMQ",
          "SKU:  NV-1DWM-41VX",
          "SKU:  NN-AGEZ-5DUM",
          "SKU:  DN-0WDX-VYOT",
          "SKU:  V6-VUWR-856W",
          "SKU:  DN-0WDX-VYOT"
         ],
         "xaxis": "x",
         "yaxis": "y"
        },
        {
         "alignmentgroup": "True",
         "bingroup": "x",
         "hovertemplate": "ship_state=CHHATTISGARH<br>sku=%{x}<br>count=%{y}<extra></extra>",
         "legendgroup": "CHHATTISGARH",
         "marker": {
          "color": "#B6E880",
          "pattern": {
           "shape": ""
          }
         },
         "name": "CHHATTISGARH",
         "offsetgroup": "CHHATTISGARH",
         "orientation": "v",
         "showlegend": true,
         "type": "histogram",
         "x": [
          "SKU:  NU-CKZ5-4O49",
          "SKU:  TY-4GPW-U54J",
          "SKU:  3O-GBSM-TYZE",
          "SKU:  0M-RFE6-443C",
          "SKU:  DN-0WDX-VYOT",
          "SKU:  SB-WDQN-SDN9"
         ],
         "xaxis": "x",
         "yaxis": "y"
        },
        {
         "alignmentgroup": "True",
         "bingroup": "x",
         "hovertemplate": "ship_state=HARYANA<br>sku=%{x}<br>count=%{y}<extra></extra>",
         "legendgroup": "HARYANA",
         "marker": {
          "color": "#FF97FF",
          "pattern": {
           "shape": ""
          }
         },
         "name": "HARYANA",
         "offsetgroup": "HARYANA",
         "orientation": "v",
         "showlegend": true,
         "type": "histogram",
         "x": [
          "SKU:  2X-3C0F-KNJE",
          "SKU:  DN-0WDX-VYOT",
          "SKU:  DN-0WDX-VYOT",
          "SKU:  DN-0WDX-VYOT",
          "SKU:  0M-RFE6-443C",
          "SKU:  DN-0WDX-VYOT",
          "SKU:  54-D265-B74K",
          "SKU:  DN-0WDX-VYOT"
         ],
         "xaxis": "x",
         "yaxis": "y"
        },
        {
         "alignmentgroup": "True",
         "bingroup": "x",
         "hovertemplate": "ship_state=TRIPURA<br>sku=%{x}<br>count=%{y}<extra></extra>",
         "legendgroup": "TRIPURA",
         "marker": {
          "color": "#FECB52",
          "pattern": {
           "shape": ""
          }
         },
         "name": "TRIPURA",
         "offsetgroup": "TRIPURA",
         "orientation": "v",
         "showlegend": true,
         "type": "histogram",
         "x": [
          "SKU:  DN-0WDX-VYOT"
         ],
         "xaxis": "x",
         "yaxis": "y"
        },
        {
         "alignmentgroup": "True",
         "bingroup": "x",
         "hovertemplate": "ship_state=TAMIL NADU<br>sku=%{x}<br>count=%{y}<extra></extra>",
         "legendgroup": "TAMIL NADU",
         "marker": {
          "color": "#636efa",
          "pattern": {
           "shape": ""
          }
         },
         "name": "TAMIL NADU",
         "offsetgroup": "TAMIL NADU",
         "orientation": "v",
         "showlegend": true,
         "type": "histogram",
         "x": [
          "SKU:  94-TSV3-EIW6",
          "SKU:  0M-RFE6-443C",
          "SKU:  WR-ANCX-U28C",
          "SKU:  QV-PHXY-LGY8",
          "SKU:  CR-6E69-UXFW",
          "SKU:  GP-RMI4-GJ6L",
          "SKU:  U1-8YOK-510E",
          "SKU:  9W-AS6W-6O9X",
          "SKU:  QD-RNE2-2FH8",
          "SKU:  4H-Y62P-R483",
          "SKU:  SB-WDQN-SDN9",
          "SKU:  3F-4R9N-Z8NJ",
          "SKU:  AY-Z7BT-BMVM",
          "SKU:  G4-B5GQ-8V30",
          "SKU:  DN-0WDX-VYOT",
          "SKU:  CR-6E69-UXFW",
          "SKU:  CR-6E69-UXFW"
         ],
         "xaxis": "x",
         "yaxis": "y"
        },
        {
         "alignmentgroup": "True",
         "bingroup": "x",
         "hovertemplate": "ship_state=ODISHA<br>sku=%{x}<br>count=%{y}<extra></extra>",
         "legendgroup": "ODISHA",
         "marker": {
          "color": "#EF553B",
          "pattern": {
           "shape": ""
          }
         },
         "name": "ODISHA",
         "offsetgroup": "ODISHA",
         "orientation": "v",
         "showlegend": true,
         "type": "histogram",
         "x": [
          "SKU:  DN-0WDX-VYOT",
          "SKU:  TQ-OE6K-9DIK"
         ],
         "xaxis": "x",
         "yaxis": "y"
        },
        {
         "alignmentgroup": "True",
         "bingroup": "x",
         "hovertemplate": "ship_state=ANDHRA PRADESH<br>sku=%{x}<br>count=%{y}<extra></extra>",
         "legendgroup": "ANDHRA PRADESH",
         "marker": {
          "color": "#00cc96",
          "pattern": {
           "shape": ""
          }
         },
         "name": "ANDHRA PRADESH",
         "offsetgroup": "ANDHRA PRADESH",
         "orientation": "v",
         "showlegend": true,
         "type": "histogram",
         "x": [
          "SKU:  AH-J3AO-R7DN",
          "SKU:  W4-JQ2J-ZUF2",
          "SKU:  0M-RFE6-443C"
         ],
         "xaxis": "x",
         "yaxis": "y"
        },
        {
         "alignmentgroup": "True",
         "bingroup": "x",
         "hovertemplate": "ship_state=DELHI<br>sku=%{x}<br>count=%{y}<extra></extra>",
         "legendgroup": "DELHI",
         "marker": {
          "color": "#ab63fa",
          "pattern": {
           "shape": ""
          }
         },
         "name": "DELHI",
         "offsetgroup": "DELHI",
         "orientation": "v",
         "showlegend": true,
         "type": "histogram",
         "x": [
          "SKU:  0M-RFE6-443C",
          "SKU:  54-D265-B74K",
          "SKU:  RG-29TH-MROF",
          "SKU:  D9-CVL3-8JF6",
          "SKU:  GP-RMI4-GJ6L",
          "SKU:  94-TSV3-EIW6",
          "SKU:  U1-8YOK-510E",
          "SKU:  2X-3C0F-KNJE"
         ],
         "xaxis": "x",
         "yaxis": "y"
        },
        {
         "alignmentgroup": "True",
         "bingroup": "x",
         "hovertemplate": "ship_state=GOA<br>sku=%{x}<br>count=%{y}<extra></extra>",
         "legendgroup": "GOA",
         "marker": {
          "color": "#FFA15A",
          "pattern": {
           "shape": ""
          }
         },
         "name": "GOA",
         "offsetgroup": "GOA",
         "orientation": "v",
         "showlegend": true,
         "type": "histogram",
         "x": [
          "SKU:  DN-0WDX-VYOT",
          "SKU:  CR-6E69-UXFW"
         ],
         "xaxis": "x",
         "yaxis": "y"
        },
        {
         "alignmentgroup": "True",
         "bingroup": "x",
         "hovertemplate": "ship_state=Odisha<br>sku=%{x}<br>count=%{y}<extra></extra>",
         "legendgroup": "Odisha",
         "marker": {
          "color": "#19d3f3",
          "pattern": {
           "shape": ""
          }
         },
         "name": "Odisha",
         "offsetgroup": "Odisha",
         "orientation": "v",
         "showlegend": true,
         "type": "histogram",
         "x": [
          "SKU:  DN-0WDX-VYOT"
         ],
         "xaxis": "x",
         "yaxis": "y"
        },
        {
         "alignmentgroup": "True",
         "bingroup": "x",
         "hovertemplate": "ship_state=JAMMU & KASHMIR<br>sku=%{x}<br>count=%{y}<extra></extra>",
         "legendgroup": "JAMMU & KASHMIR",
         "marker": {
          "color": "#FF6692",
          "pattern": {
           "shape": ""
          }
         },
         "name": "JAMMU & KASHMIR",
         "offsetgroup": "JAMMU & KASHMIR",
         "orientation": "v",
         "showlegend": true,
         "type": "histogram",
         "x": [
          "SKU:  0M-RFE6-443C"
         ],
         "xaxis": "x",
         "yaxis": "y"
        },
        {
         "alignmentgroup": "True",
         "bingroup": "x",
         "hovertemplate": "ship_state=GUJARAT<br>sku=%{x}<br>count=%{y}<extra></extra>",
         "legendgroup": "GUJARAT",
         "marker": {
          "color": "#B6E880",
          "pattern": {
           "shape": ""
          }
         },
         "name": "GUJARAT",
         "offsetgroup": "GUJARAT",
         "orientation": "v",
         "showlegend": true,
         "type": "histogram",
         "x": [
          "SKU:  9S-GE8P-RIR4",
          "SKU:  SB-WDQN-SDN9",
          "SKU:  3V-FKXN-C4QJ",
          "SKU:  2X-3C0F-KNJE",
          "SKU:  5B-NW9K-L3AO",
          "SKU:  S1-A92Q-JU3X"
         ],
         "xaxis": "x",
         "yaxis": "y"
        },
        {
         "alignmentgroup": "True",
         "bingroup": "x",
         "hovertemplate": "ship_state=ASSAM<br>sku=%{x}<br>count=%{y}<extra></extra>",
         "legendgroup": "ASSAM",
         "marker": {
          "color": "#FF97FF",
          "pattern": {
           "shape": ""
          }
         },
         "name": "ASSAM",
         "offsetgroup": "ASSAM",
         "orientation": "v",
         "showlegend": true,
         "type": "histogram",
         "x": [
          "SKU:  9S-GE8P-RIR4",
          "SKU:  KL-7WAA-Z82I",
          "SKU:  I1-AWVT-2QOL",
          "SKU:  TQ-OE6K-9DIK"
         ],
         "xaxis": "x",
         "yaxis": "y"
        },
        {
         "alignmentgroup": "True",
         "bingroup": "x",
         "hovertemplate": "ship_state=KERALA<br>sku=%{x}<br>count=%{y}<extra></extra>",
         "legendgroup": "KERALA",
         "marker": {
          "color": "#FECB52",
          "pattern": {
           "shape": ""
          }
         },
         "name": "KERALA",
         "offsetgroup": "KERALA",
         "orientation": "v",
         "showlegend": true,
         "type": "histogram",
         "x": [
          "SKU:  NU-CKZ5-4O49",
          "SKU:  9S-GE8P-RIR4",
          "SKU:  S1-A92Q-JU3X",
          "SKU:  V6-KQJX-XGP2"
         ],
         "xaxis": "x",
         "yaxis": "y"
        },
        {
         "alignmentgroup": "True",
         "bingroup": "x",
         "hovertemplate": "ship_state=Maharashtra<br>sku=%{x}<br>count=%{y}<extra></extra>",
         "legendgroup": "Maharashtra",
         "marker": {
          "color": "#636efa",
          "pattern": {
           "shape": ""
          }
         },
         "name": "Maharashtra",
         "offsetgroup": "Maharashtra",
         "orientation": "v",
         "showlegend": true,
         "type": "histogram",
         "x": [
          "SKU:  0M-RFE6-443C"
         ],
         "xaxis": "x",
         "yaxis": "y"
        },
        {
         "alignmentgroup": "True",
         "bingroup": "x",
         "hovertemplate": "ship_state=PUNJAB<br>sku=%{x}<br>count=%{y}<extra></extra>",
         "legendgroup": "PUNJAB",
         "marker": {
          "color": "#EF553B",
          "pattern": {
           "shape": ""
          }
         },
         "name": "PUNJAB",
         "offsetgroup": "PUNJAB",
         "orientation": "v",
         "showlegend": true,
         "type": "histogram",
         "x": [
          "SKU:  DN-0WDX-VYOT"
         ],
         "xaxis": "x",
         "yaxis": "y"
        },
        {
         "alignmentgroup": "True",
         "bingroup": "x",
         "hovertemplate": "ship_state=RAJASTHAN<br>sku=%{x}<br>count=%{y}<extra></extra>",
         "legendgroup": "RAJASTHAN",
         "marker": {
          "color": "#00cc96",
          "pattern": {
           "shape": ""
          }
         },
         "name": "RAJASTHAN",
         "offsetgroup": "RAJASTHAN",
         "orientation": "v",
         "showlegend": true,
         "type": "histogram",
         "x": [
          "SKU:  SB-WDQN-SDN9",
          "SKU:  DN-0WDX-VYOT",
          "SKU:  DN-0WDX-VYOT"
         ],
         "xaxis": "x",
         "yaxis": "y"
        },
        {
         "alignmentgroup": "True",
         "bingroup": "x",
         "hovertemplate": "ship_state=CHANDIGARH,<br>sku=%{x}<br>count=%{y}<extra></extra>",
         "legendgroup": "CHANDIGARH,",
         "marker": {
          "color": "#ab63fa",
          "pattern": {
           "shape": ""
          }
         },
         "name": "CHANDIGARH,",
         "offsetgroup": "CHANDIGARH,",
         "orientation": "v",
         "showlegend": true,
         "type": "histogram",
         "x": [
          "SKU:  54-D265-B74K"
         ],
         "xaxis": "x",
         "yaxis": "y"
        },
        {
         "alignmentgroup": "True",
         "bingroup": "x",
         "hovertemplate": "ship_state=BIHAR<br>sku=%{x}<br>count=%{y}<extra></extra>",
         "legendgroup": "BIHAR",
         "marker": {
          "color": "#FFA15A",
          "pattern": {
           "shape": ""
          }
         },
         "name": "BIHAR",
         "offsetgroup": "BIHAR",
         "orientation": "v",
         "showlegend": true,
         "type": "histogram",
         "x": [
          "SKU:  X2-PMD5-PL2D"
         ],
         "xaxis": "x",
         "yaxis": "y"
        },
        {
         "alignmentgroup": "True",
         "bingroup": "x",
         "hovertemplate": "ship_state=MADHYA Pradesh<br>sku=%{x}<br>count=%{y}<extra></extra>",
         "legendgroup": "MADHYA Pradesh",
         "marker": {
          "color": "#19d3f3",
          "pattern": {
           "shape": ""
          }
         },
         "name": "MADHYA Pradesh",
         "offsetgroup": "MADHYA Pradesh",
         "orientation": "v",
         "showlegend": true,
         "type": "histogram",
         "x": [
          "SKU:  CR-6E69-UXFW"
         ],
         "xaxis": "x",
         "yaxis": "y"
        },
        {
         "alignmentgroup": "True",
         "bingroup": "x",
         "hovertemplate": "ship_state=MOHALI,<br>sku=%{x}<br>count=%{y}<extra></extra>",
         "legendgroup": "MOHALI,",
         "marker": {
          "color": "#FF6692",
          "pattern": {
           "shape": ""
          }
         },
         "name": "MOHALI,",
         "offsetgroup": "MOHALI,",
         "orientation": "v",
         "showlegend": true,
         "type": "histogram",
         "x": [
          "SKU:  DN-0WDX-VYOT"
         ],
         "xaxis": "x",
         "yaxis": "y"
        },
        {
         "alignmentgroup": "True",
         "bingroup": "x",
         "hovertemplate": "ship_state=Andhra Pradesh<br>sku=%{x}<br>count=%{y}<extra></extra>",
         "legendgroup": "Andhra Pradesh",
         "marker": {
          "color": "#B6E880",
          "pattern": {
           "shape": ""
          }
         },
         "name": "Andhra Pradesh",
         "offsetgroup": "Andhra Pradesh",
         "orientation": "v",
         "showlegend": true,
         "type": "histogram",
         "x": [
          "SKU:  3F-4R9N-Z8NJ"
         ],
         "xaxis": "x",
         "yaxis": "y"
        },
        {
         "alignmentgroup": "True",
         "bingroup": "x",
         "hovertemplate": "ship_state=Himachal Pradesh<br>sku=%{x}<br>count=%{y}<extra></extra>",
         "legendgroup": "Himachal Pradesh",
         "marker": {
          "color": "#FF97FF",
          "pattern": {
           "shape": ""
          }
         },
         "name": "Himachal Pradesh",
         "offsetgroup": "Himachal Pradesh",
         "orientation": "v",
         "showlegend": true,
         "type": "histogram",
         "x": [
          "SKU:  S1-A92Q-JU3X"
         ],
         "xaxis": "x",
         "yaxis": "y"
        },
        {
         "alignmentgroup": "True",
         "bingroup": "x",
         "hovertemplate": "ship_state=UTTARAKHAND<br>sku=%{x}<br>count=%{y}<extra></extra>",
         "legendgroup": "UTTARAKHAND",
         "marker": {
          "color": "#FECB52",
          "pattern": {
           "shape": ""
          }
         },
         "name": "UTTARAKHAND",
         "offsetgroup": "UTTARAKHAND",
         "orientation": "v",
         "showlegend": true,
         "type": "histogram",
         "x": [
          "SKU:  SB-WDQN-SDN9"
         ],
         "xaxis": "x",
         "yaxis": "y"
        }
       ],
       "layout": {
        "barmode": "relative",
        "legend": {
         "title": {
          "text": "ship_state"
         },
         "tracegroupgap": 0
        },
        "margin": {
         "t": 60
        },
        "template": {
         "data": {
          "bar": [
           {
            "error_x": {
             "color": "#2a3f5f"
            },
            "error_y": {
             "color": "#2a3f5f"
            },
            "marker": {
             "line": {
              "color": "#E5ECF6",
              "width": 0.5
             },
             "pattern": {
              "fillmode": "overlay",
              "size": 10,
              "solidity": 0.2
             }
            },
            "type": "bar"
           }
          ],
          "barpolar": [
           {
            "marker": {
             "line": {
              "color": "#E5ECF6",
              "width": 0.5
             },
             "pattern": {
              "fillmode": "overlay",
              "size": 10,
              "solidity": 0.2
             }
            },
            "type": "barpolar"
           }
          ],
          "carpet": [
           {
            "aaxis": {
             "endlinecolor": "#2a3f5f",
             "gridcolor": "white",
             "linecolor": "white",
             "minorgridcolor": "white",
             "startlinecolor": "#2a3f5f"
            },
            "baxis": {
             "endlinecolor": "#2a3f5f",
             "gridcolor": "white",
             "linecolor": "white",
             "minorgridcolor": "white",
             "startlinecolor": "#2a3f5f"
            },
            "type": "carpet"
           }
          ],
          "choropleth": [
           {
            "colorbar": {
             "outlinewidth": 0,
             "ticks": ""
            },
            "type": "choropleth"
           }
          ],
          "contour": [
           {
            "colorbar": {
             "outlinewidth": 0,
             "ticks": ""
            },
            "colorscale": [
             [
              0,
              "#0d0887"
             ],
             [
              0.1111111111111111,
              "#46039f"
             ],
             [
              0.2222222222222222,
              "#7201a8"
             ],
             [
              0.3333333333333333,
              "#9c179e"
             ],
             [
              0.4444444444444444,
              "#bd3786"
             ],
             [
              0.5555555555555556,
              "#d8576b"
             ],
             [
              0.6666666666666666,
              "#ed7953"
             ],
             [
              0.7777777777777778,
              "#fb9f3a"
             ],
             [
              0.8888888888888888,
              "#fdca26"
             ],
             [
              1,
              "#f0f921"
             ]
            ],
            "type": "contour"
           }
          ],
          "contourcarpet": [
           {
            "colorbar": {
             "outlinewidth": 0,
             "ticks": ""
            },
            "type": "contourcarpet"
           }
          ],
          "heatmap": [
           {
            "colorbar": {
             "outlinewidth": 0,
             "ticks": ""
            },
            "colorscale": [
             [
              0,
              "#0d0887"
             ],
             [
              0.1111111111111111,
              "#46039f"
             ],
             [
              0.2222222222222222,
              "#7201a8"
             ],
             [
              0.3333333333333333,
              "#9c179e"
             ],
             [
              0.4444444444444444,
              "#bd3786"
             ],
             [
              0.5555555555555556,
              "#d8576b"
             ],
             [
              0.6666666666666666,
              "#ed7953"
             ],
             [
              0.7777777777777778,
              "#fb9f3a"
             ],
             [
              0.8888888888888888,
              "#fdca26"
             ],
             [
              1,
              "#f0f921"
             ]
            ],
            "type": "heatmap"
           }
          ],
          "heatmapgl": [
           {
            "colorbar": {
             "outlinewidth": 0,
             "ticks": ""
            },
            "colorscale": [
             [
              0,
              "#0d0887"
             ],
             [
              0.1111111111111111,
              "#46039f"
             ],
             [
              0.2222222222222222,
              "#7201a8"
             ],
             [
              0.3333333333333333,
              "#9c179e"
             ],
             [
              0.4444444444444444,
              "#bd3786"
             ],
             [
              0.5555555555555556,
              "#d8576b"
             ],
             [
              0.6666666666666666,
              "#ed7953"
             ],
             [
              0.7777777777777778,
              "#fb9f3a"
             ],
             [
              0.8888888888888888,
              "#fdca26"
             ],
             [
              1,
              "#f0f921"
             ]
            ],
            "type": "heatmapgl"
           }
          ],
          "histogram": [
           {
            "marker": {
             "pattern": {
              "fillmode": "overlay",
              "size": 10,
              "solidity": 0.2
             }
            },
            "type": "histogram"
           }
          ],
          "histogram2d": [
           {
            "colorbar": {
             "outlinewidth": 0,
             "ticks": ""
            },
            "colorscale": [
             [
              0,
              "#0d0887"
             ],
             [
              0.1111111111111111,
              "#46039f"
             ],
             [
              0.2222222222222222,
              "#7201a8"
             ],
             [
              0.3333333333333333,
              "#9c179e"
             ],
             [
              0.4444444444444444,
              "#bd3786"
             ],
             [
              0.5555555555555556,
              "#d8576b"
             ],
             [
              0.6666666666666666,
              "#ed7953"
             ],
             [
              0.7777777777777778,
              "#fb9f3a"
             ],
             [
              0.8888888888888888,
              "#fdca26"
             ],
             [
              1,
              "#f0f921"
             ]
            ],
            "type": "histogram2d"
           }
          ],
          "histogram2dcontour": [
           {
            "colorbar": {
             "outlinewidth": 0,
             "ticks": ""
            },
            "colorscale": [
             [
              0,
              "#0d0887"
             ],
             [
              0.1111111111111111,
              "#46039f"
             ],
             [
              0.2222222222222222,
              "#7201a8"
             ],
             [
              0.3333333333333333,
              "#9c179e"
             ],
             [
              0.4444444444444444,
              "#bd3786"
             ],
             [
              0.5555555555555556,
              "#d8576b"
             ],
             [
              0.6666666666666666,
              "#ed7953"
             ],
             [
              0.7777777777777778,
              "#fb9f3a"
             ],
             [
              0.8888888888888888,
              "#fdca26"
             ],
             [
              1,
              "#f0f921"
             ]
            ],
            "type": "histogram2dcontour"
           }
          ],
          "mesh3d": [
           {
            "colorbar": {
             "outlinewidth": 0,
             "ticks": ""
            },
            "type": "mesh3d"
           }
          ],
          "parcoords": [
           {
            "line": {
             "colorbar": {
              "outlinewidth": 0,
              "ticks": ""
             }
            },
            "type": "parcoords"
           }
          ],
          "pie": [
           {
            "automargin": true,
            "type": "pie"
           }
          ],
          "scatter": [
           {
            "marker": {
             "colorbar": {
              "outlinewidth": 0,
              "ticks": ""
             }
            },
            "type": "scatter"
           }
          ],
          "scatter3d": [
           {
            "line": {
             "colorbar": {
              "outlinewidth": 0,
              "ticks": ""
             }
            },
            "marker": {
             "colorbar": {
              "outlinewidth": 0,
              "ticks": ""
             }
            },
            "type": "scatter3d"
           }
          ],
          "scattercarpet": [
           {
            "marker": {
             "colorbar": {
              "outlinewidth": 0,
              "ticks": ""
             }
            },
            "type": "scattercarpet"
           }
          ],
          "scattergeo": [
           {
            "marker": {
             "colorbar": {
              "outlinewidth": 0,
              "ticks": ""
             }
            },
            "type": "scattergeo"
           }
          ],
          "scattergl": [
           {
            "marker": {
             "colorbar": {
              "outlinewidth": 0,
              "ticks": ""
             }
            },
            "type": "scattergl"
           }
          ],
          "scattermapbox": [
           {
            "marker": {
             "colorbar": {
              "outlinewidth": 0,
              "ticks": ""
             }
            },
            "type": "scattermapbox"
           }
          ],
          "scatterpolar": [
           {
            "marker": {
             "colorbar": {
              "outlinewidth": 0,
              "ticks": ""
             }
            },
            "type": "scatterpolar"
           }
          ],
          "scatterpolargl": [
           {
            "marker": {
             "colorbar": {
              "outlinewidth": 0,
              "ticks": ""
             }
            },
            "type": "scatterpolargl"
           }
          ],
          "scatterternary": [
           {
            "marker": {
             "colorbar": {
              "outlinewidth": 0,
              "ticks": ""
             }
            },
            "type": "scatterternary"
           }
          ],
          "surface": [
           {
            "colorbar": {
             "outlinewidth": 0,
             "ticks": ""
            },
            "colorscale": [
             [
              0,
              "#0d0887"
             ],
             [
              0.1111111111111111,
              "#46039f"
             ],
             [
              0.2222222222222222,
              "#7201a8"
             ],
             [
              0.3333333333333333,
              "#9c179e"
             ],
             [
              0.4444444444444444,
              "#bd3786"
             ],
             [
              0.5555555555555556,
              "#d8576b"
             ],
             [
              0.6666666666666666,
              "#ed7953"
             ],
             [
              0.7777777777777778,
              "#fb9f3a"
             ],
             [
              0.8888888888888888,
              "#fdca26"
             ],
             [
              1,
              "#f0f921"
             ]
            ],
            "type": "surface"
           }
          ],
          "table": [
           {
            "cells": {
             "fill": {
              "color": "#EBF0F8"
             },
             "line": {
              "color": "white"
             }
            },
            "header": {
             "fill": {
              "color": "#C8D4E3"
             },
             "line": {
              "color": "white"
             }
            },
            "type": "table"
           }
          ]
         },
         "layout": {
          "annotationdefaults": {
           "arrowcolor": "#2a3f5f",
           "arrowhead": 0,
           "arrowwidth": 1
          },
          "autotypenumbers": "strict",
          "coloraxis": {
           "colorbar": {
            "outlinewidth": 0,
            "ticks": ""
           }
          },
          "colorscale": {
           "diverging": [
            [
             0,
             "#8e0152"
            ],
            [
             0.1,
             "#c51b7d"
            ],
            [
             0.2,
             "#de77ae"
            ],
            [
             0.3,
             "#f1b6da"
            ],
            [
             0.4,
             "#fde0ef"
            ],
            [
             0.5,
             "#f7f7f7"
            ],
            [
             0.6,
             "#e6f5d0"
            ],
            [
             0.7,
             "#b8e186"
            ],
            [
             0.8,
             "#7fbc41"
            ],
            [
             0.9,
             "#4d9221"
            ],
            [
             1,
             "#276419"
            ]
           ],
           "sequential": [
            [
             0,
             "#0d0887"
            ],
            [
             0.1111111111111111,
             "#46039f"
            ],
            [
             0.2222222222222222,
             "#7201a8"
            ],
            [
             0.3333333333333333,
             "#9c179e"
            ],
            [
             0.4444444444444444,
             "#bd3786"
            ],
            [
             0.5555555555555556,
             "#d8576b"
            ],
            [
             0.6666666666666666,
             "#ed7953"
            ],
            [
             0.7777777777777778,
             "#fb9f3a"
            ],
            [
             0.8888888888888888,
             "#fdca26"
            ],
            [
             1,
             "#f0f921"
            ]
           ],
           "sequentialminus": [
            [
             0,
             "#0d0887"
            ],
            [
             0.1111111111111111,
             "#46039f"
            ],
            [
             0.2222222222222222,
             "#7201a8"
            ],
            [
             0.3333333333333333,
             "#9c179e"
            ],
            [
             0.4444444444444444,
             "#bd3786"
            ],
            [
             0.5555555555555556,
             "#d8576b"
            ],
            [
             0.6666666666666666,
             "#ed7953"
            ],
            [
             0.7777777777777778,
             "#fb9f3a"
            ],
            [
             0.8888888888888888,
             "#fdca26"
            ],
            [
             1,
             "#f0f921"
            ]
           ]
          },
          "colorway": [
           "#636efa",
           "#EF553B",
           "#00cc96",
           "#ab63fa",
           "#FFA15A",
           "#19d3f3",
           "#FF6692",
           "#B6E880",
           "#FF97FF",
           "#FECB52"
          ],
          "font": {
           "color": "#2a3f5f"
          },
          "geo": {
           "bgcolor": "white",
           "lakecolor": "white",
           "landcolor": "#E5ECF6",
           "showlakes": true,
           "showland": true,
           "subunitcolor": "white"
          },
          "hoverlabel": {
           "align": "left"
          },
          "hovermode": "closest",
          "mapbox": {
           "style": "light"
          },
          "paper_bgcolor": "white",
          "plot_bgcolor": "#E5ECF6",
          "polar": {
           "angularaxis": {
            "gridcolor": "white",
            "linecolor": "white",
            "ticks": ""
           },
           "bgcolor": "#E5ECF6",
           "radialaxis": {
            "gridcolor": "white",
            "linecolor": "white",
            "ticks": ""
           }
          },
          "scene": {
           "xaxis": {
            "backgroundcolor": "#E5ECF6",
            "gridcolor": "white",
            "gridwidth": 2,
            "linecolor": "white",
            "showbackground": true,
            "ticks": "",
            "zerolinecolor": "white"
           },
           "yaxis": {
            "backgroundcolor": "#E5ECF6",
            "gridcolor": "white",
            "gridwidth": 2,
            "linecolor": "white",
            "showbackground": true,
            "ticks": "",
            "zerolinecolor": "white"
           },
           "zaxis": {
            "backgroundcolor": "#E5ECF6",
            "gridcolor": "white",
            "gridwidth": 2,
            "linecolor": "white",
            "showbackground": true,
            "ticks": "",
            "zerolinecolor": "white"
           }
          },
          "shapedefaults": {
           "line": {
            "color": "#2a3f5f"
           }
          },
          "ternary": {
           "aaxis": {
            "gridcolor": "white",
            "linecolor": "white",
            "ticks": ""
           },
           "baxis": {
            "gridcolor": "white",
            "linecolor": "white",
            "ticks": ""
           },
           "bgcolor": "#E5ECF6",
           "caxis": {
            "gridcolor": "white",
            "linecolor": "white",
            "ticks": ""
           }
          },
          "title": {
           "x": 0.05
          },
          "xaxis": {
           "automargin": true,
           "gridcolor": "white",
           "linecolor": "white",
           "ticks": "",
           "title": {
            "standoff": 15
           },
           "zerolinecolor": "white",
           "zerolinewidth": 2
          },
          "yaxis": {
           "automargin": true,
           "gridcolor": "white",
           "linecolor": "white",
           "ticks": "",
           "title": {
            "standoff": 15
           },
           "zerolinecolor": "white",
           "zerolinewidth": 2
          }
         }
        },
        "xaxis": {
         "anchor": "y",
         "domain": [
          0,
          1
         ],
         "title": {
          "text": "sku"
         }
        },
        "yaxis": {
         "anchor": "x",
         "domain": [
          0,
          1
         ],
         "title": {
          "text": "count"
         }
        }
       }
      },
      "text/html": [
       "<div>                            <div id=\"5ce5c530-30df-4e39-8cb1-fecdda87e8e6\" class=\"plotly-graph-div\" style=\"height:525px; width:100%;\"></div>            <script type=\"text/javascript\">                require([\"plotly\"], function(Plotly) {                    window.PLOTLYENV=window.PLOTLYENV || {};                                    if (document.getElementById(\"5ce5c530-30df-4e39-8cb1-fecdda87e8e6\")) {                    Plotly.newPlot(                        \"5ce5c530-30df-4e39-8cb1-fecdda87e8e6\",                        [{\"alignmentgroup\":\"True\",\"bingroup\":\"x\",\"hovertemplate\":\"ship_state=CHANDIGARH<br>sku=%{x}<br>count=%{y}<extra></extra>\",\"legendgroup\":\"CHANDIGARH\",\"marker\":{\"color\":\"#636efa\",\"pattern\":{\"shape\":\"\"}},\"name\":\"CHANDIGARH\",\"offsetgroup\":\"CHANDIGARH\",\"orientation\":\"v\",\"showlegend\":true,\"x\":[\"SKU:  2X-3C0F-KNJE\",\"SKU:  2X-3C0F-KNJE\",\"SKU:  DN-0WDX-VYOT\"],\"xaxis\":\"x\",\"yaxis\":\"y\",\"type\":\"histogram\"},{\"alignmentgroup\":\"True\",\"bingroup\":\"x\",\"hovertemplate\":\"ship_state=ARUNACHAL PRADESH<br>sku=%{x}<br>count=%{y}<extra></extra>\",\"legendgroup\":\"ARUNACHAL PRADESH\",\"marker\":{\"color\":\"#EF553B\",\"pattern\":{\"shape\":\"\"}},\"name\":\"ARUNACHAL PRADESH\",\"offsetgroup\":\"ARUNACHAL PRADESH\",\"orientation\":\"v\",\"showlegend\":true,\"x\":[\"SKU:  DN-0WDX-VYOT\",\"SKU:  DN-0WDX-VYOT\"],\"xaxis\":\"x\",\"yaxis\":\"y\",\"type\":\"histogram\"},{\"alignmentgroup\":\"True\",\"bingroup\":\"x\",\"hovertemplate\":\"ship_state=TELANGANA<br>sku=%{x}<br>count=%{y}<extra></extra>\",\"legendgroup\":\"TELANGANA\",\"marker\":{\"color\":\"#00cc96\",\"pattern\":{\"shape\":\"\"}},\"name\":\"TELANGANA\",\"offsetgroup\":\"TELANGANA\",\"orientation\":\"v\",\"showlegend\":true,\"x\":[\"SKU:  AH-J3AO-R7DN\",\"SKU:  O9-OVS7-G9XK\",\"SKU:  DN-0WDX-VYOT\",\"SKU:  D4-UD68-TMXH\",\"SKU:  TQ-OE6K-9DIK\",\"SKU:  5B-NW9K-L3AO\",\"SKU:  5B-NW9K-L3AO\",\"SKU:  54-D265-B74K\",\"SKU:  G4-B5GQ-8V30\",\"SKU:  W4-JQ2J-ZUF2\",\"SKU:  2X-3C0F-KNJE\",\"SKU:  8V-OQ14-I63T\",\"SKU:  CR-6E69-UXFW\"],\"xaxis\":\"x\",\"yaxis\":\"y\",\"type\":\"histogram\"},{\"alignmentgroup\":\"True\",\"bingroup\":\"x\",\"hovertemplate\":\"ship_state=MAHARASHTRA<br>sku=%{x}<br>count=%{y}<extra></extra>\",\"legendgroup\":\"MAHARASHTRA\",\"marker\":{\"color\":\"#ab63fa\",\"pattern\":{\"shape\":\"\"}},\"name\":\"MAHARASHTRA\",\"offsetgroup\":\"MAHARASHTRA\",\"orientation\":\"v\",\"showlegend\":true,\"x\":[\"SKU:  KL-7WAA-Z82I\",\"SKU:  FL-4CMG-CU48\",\"SKU:  YJ-5CCT-M3PP\",\"SKU:  PG-WS6J-89DG\",\"SKU:  S1-A92Q-JU3X\",\"SKU:  AY-Z7BT-BMVM\",\"SKU:  3O-GBSM-TYZE\",\"SKU:  DN-0WDX-VYOT\",\"SKU:  CR-6E69-UXFW\",\"SKU:  DN-0WDX-VYOT\",\"SKU:  W4-JQ2J-ZUF2\",\"SKU:  DN-0WDX-VYOT\",\"SKU:  3O-GBSM-TYZE\",\"SKU:  0M-RFE6-443C\",\"SKU:  3O-GBSM-TYZE\",\"SKU:  H6-A9OJ-C0Q1\",\"SKU:  1T-RAUZ-UZKO\",\"SKU:  TY-4GPW-U54J\",\"SKU:  PG-WS6J-89DG\",\"SKU:  DN-0WDX-VYOT\",\"SKU:  O9-OVS7-G9XK\",\"SKU:  UR-WJJ0-I3TN\",\"SKU:  SB-WDQN-SDN9\",\"SKU:  DN-0WDX-VYOT\",\"SKU:  4V-I7XD-JQVR\",\"SKU:  DN-0WDX-VYOT\",\"SKU:  DN-0WDX-VYOT\",\"SKU:  5B-NW9K-L3AO\",\"SKU:  WR-ANCX-U28C\",\"SKU:  DN-0WDX-VYOT\",\"SKU:  2X-3C0F-KNJE\"],\"xaxis\":\"x\",\"yaxis\":\"y\",\"type\":\"histogram\"},{\"alignmentgroup\":\"True\",\"bingroup\":\"x\",\"hovertemplate\":\"ship_state=WEST BENGAL<br>sku=%{x}<br>count=%{y}<extra></extra>\",\"legendgroup\":\"WEST BENGAL\",\"marker\":{\"color\":\"#FFA15A\",\"pattern\":{\"shape\":\"\"}},\"name\":\"WEST BENGAL\",\"offsetgroup\":\"WEST BENGAL\",\"orientation\":\"v\",\"showlegend\":true,\"x\":[\"SKU:  HH-FOWV-5YWO\",\"SKU:  KL-7WAA-Z82I\",\"SKU:  9S-GE8P-RIR4\",\"SKU:  S1-A92Q-JU3X\",\"SKU:  86-JXO3-EJ7K\",\"SKU:  0M-RFE6-443C\",\"SKU:  DN-0WDX-VYOT\",\"SKU:  UR-WJJ0-I3TN\",\"SKU:  G4-B5GQ-8V30\",\"SKU:  P1-LF2X-L3ZC\",\"SKU:  TQ-OE6K-9DIK\",\"SKU:  NT-6I2C-2TWX\",\"SKU:  SB-WDQN-SDN9\",\"SKU:  NV-1DWM-41VX\",\"SKU:  W4-JQ2J-ZUF2\",\"SKU:  3F-4R9N-Z8NJ\",\"SKU:  3F-4R9N-Z8NJ\",\"SKU:  78-ZYA1-UMZH\",\"SKU:  N8-YFZF-P74I\"],\"xaxis\":\"x\",\"yaxis\":\"y\",\"type\":\"histogram\"},{\"alignmentgroup\":\"True\",\"bingroup\":\"x\",\"hovertemplate\":\"ship_state=UTTAR PRADESH<br>sku=%{x}<br>count=%{y}<extra></extra>\",\"legendgroup\":\"UTTAR PRADESH\",\"marker\":{\"color\":\"#19d3f3\",\"pattern\":{\"shape\":\"\"}},\"name\":\"UTTAR PRADESH\",\"offsetgroup\":\"UTTAR PRADESH\",\"orientation\":\"v\",\"showlegend\":true,\"x\":[\"SKU:  TQ-OE6K-9DIK\",\"SKU:  S1-A92Q-JU3X\",\"SKU:  DN-0WDX-VYOT\",\"SKU:  UR-WJJ0-I3TN\",\"SKU:  0M-RFE6-443C\",\"SKU:  7K-6YIU-KO0R\",\"SKU:  SB-WDQN-SDN9\",\"SKU:  NN-AGEZ-5DUM\",\"SKU:  CR-6E69-UXFW\",\"SKU:  PG-WS6J-89DG\",\"SKU:  4V-I7XD-JQVR\",\"SKU:  DN-0WDX-VYOT\"],\"xaxis\":\"x\",\"yaxis\":\"y\",\"type\":\"histogram\"},{\"alignmentgroup\":\"True\",\"bingroup\":\"x\",\"hovertemplate\":\"ship_state=KARNATAKA<br>sku=%{x}<br>count=%{y}<extra></extra>\",\"legendgroup\":\"KARNATAKA\",\"marker\":{\"color\":\"#FF6692\",\"pattern\":{\"shape\":\"\"}},\"name\":\"KARNATAKA\",\"offsetgroup\":\"KARNATAKA\",\"orientation\":\"v\",\"showlegend\":true,\"x\":[\"SKU:  3F-4R9N-Z8NJ\",\"SKU:  TQ-OE6K-9DIK\",\"SKU:  AY-Z7BT-BMVM\",\"SKU:  DN-0WDX-VYOT\",\"SKU:  3F-4R9N-Z8NJ\",\"SKU:  D9-CVL3-8JF6\",\"SKU:  NV-1DWM-41VX\",\"SKU:  54-D265-B74K\",\"SKU:  PG-WS6J-89DG\",\"SKU:  4V-I7XD-JQVR\",\"SKU:  ST-27BR-VEMQ\",\"SKU:  NV-1DWM-41VX\",\"SKU:  NN-AGEZ-5DUM\",\"SKU:  DN-0WDX-VYOT\",\"SKU:  V6-VUWR-856W\",\"SKU:  DN-0WDX-VYOT\"],\"xaxis\":\"x\",\"yaxis\":\"y\",\"type\":\"histogram\"},{\"alignmentgroup\":\"True\",\"bingroup\":\"x\",\"hovertemplate\":\"ship_state=CHHATTISGARH<br>sku=%{x}<br>count=%{y}<extra></extra>\",\"legendgroup\":\"CHHATTISGARH\",\"marker\":{\"color\":\"#B6E880\",\"pattern\":{\"shape\":\"\"}},\"name\":\"CHHATTISGARH\",\"offsetgroup\":\"CHHATTISGARH\",\"orientation\":\"v\",\"showlegend\":true,\"x\":[\"SKU:  NU-CKZ5-4O49\",\"SKU:  TY-4GPW-U54J\",\"SKU:  3O-GBSM-TYZE\",\"SKU:  0M-RFE6-443C\",\"SKU:  DN-0WDX-VYOT\",\"SKU:  SB-WDQN-SDN9\"],\"xaxis\":\"x\",\"yaxis\":\"y\",\"type\":\"histogram\"},{\"alignmentgroup\":\"True\",\"bingroup\":\"x\",\"hovertemplate\":\"ship_state=HARYANA<br>sku=%{x}<br>count=%{y}<extra></extra>\",\"legendgroup\":\"HARYANA\",\"marker\":{\"color\":\"#FF97FF\",\"pattern\":{\"shape\":\"\"}},\"name\":\"HARYANA\",\"offsetgroup\":\"HARYANA\",\"orientation\":\"v\",\"showlegend\":true,\"x\":[\"SKU:  2X-3C0F-KNJE\",\"SKU:  DN-0WDX-VYOT\",\"SKU:  DN-0WDX-VYOT\",\"SKU:  DN-0WDX-VYOT\",\"SKU:  0M-RFE6-443C\",\"SKU:  DN-0WDX-VYOT\",\"SKU:  54-D265-B74K\",\"SKU:  DN-0WDX-VYOT\"],\"xaxis\":\"x\",\"yaxis\":\"y\",\"type\":\"histogram\"},{\"alignmentgroup\":\"True\",\"bingroup\":\"x\",\"hovertemplate\":\"ship_state=TRIPURA<br>sku=%{x}<br>count=%{y}<extra></extra>\",\"legendgroup\":\"TRIPURA\",\"marker\":{\"color\":\"#FECB52\",\"pattern\":{\"shape\":\"\"}},\"name\":\"TRIPURA\",\"offsetgroup\":\"TRIPURA\",\"orientation\":\"v\",\"showlegend\":true,\"x\":[\"SKU:  DN-0WDX-VYOT\"],\"xaxis\":\"x\",\"yaxis\":\"y\",\"type\":\"histogram\"},{\"alignmentgroup\":\"True\",\"bingroup\":\"x\",\"hovertemplate\":\"ship_state=TAMIL NADU<br>sku=%{x}<br>count=%{y}<extra></extra>\",\"legendgroup\":\"TAMIL NADU\",\"marker\":{\"color\":\"#636efa\",\"pattern\":{\"shape\":\"\"}},\"name\":\"TAMIL NADU\",\"offsetgroup\":\"TAMIL NADU\",\"orientation\":\"v\",\"showlegend\":true,\"x\":[\"SKU:  94-TSV3-EIW6\",\"SKU:  0M-RFE6-443C\",\"SKU:  WR-ANCX-U28C\",\"SKU:  QV-PHXY-LGY8\",\"SKU:  CR-6E69-UXFW\",\"SKU:  GP-RMI4-GJ6L\",\"SKU:  U1-8YOK-510E\",\"SKU:  9W-AS6W-6O9X\",\"SKU:  QD-RNE2-2FH8\",\"SKU:  4H-Y62P-R483\",\"SKU:  SB-WDQN-SDN9\",\"SKU:  3F-4R9N-Z8NJ\",\"SKU:  AY-Z7BT-BMVM\",\"SKU:  G4-B5GQ-8V30\",\"SKU:  DN-0WDX-VYOT\",\"SKU:  CR-6E69-UXFW\",\"SKU:  CR-6E69-UXFW\"],\"xaxis\":\"x\",\"yaxis\":\"y\",\"type\":\"histogram\"},{\"alignmentgroup\":\"True\",\"bingroup\":\"x\",\"hovertemplate\":\"ship_state=ODISHA<br>sku=%{x}<br>count=%{y}<extra></extra>\",\"legendgroup\":\"ODISHA\",\"marker\":{\"color\":\"#EF553B\",\"pattern\":{\"shape\":\"\"}},\"name\":\"ODISHA\",\"offsetgroup\":\"ODISHA\",\"orientation\":\"v\",\"showlegend\":true,\"x\":[\"SKU:  DN-0WDX-VYOT\",\"SKU:  TQ-OE6K-9DIK\"],\"xaxis\":\"x\",\"yaxis\":\"y\",\"type\":\"histogram\"},{\"alignmentgroup\":\"True\",\"bingroup\":\"x\",\"hovertemplate\":\"ship_state=ANDHRA PRADESH<br>sku=%{x}<br>count=%{y}<extra></extra>\",\"legendgroup\":\"ANDHRA PRADESH\",\"marker\":{\"color\":\"#00cc96\",\"pattern\":{\"shape\":\"\"}},\"name\":\"ANDHRA PRADESH\",\"offsetgroup\":\"ANDHRA PRADESH\",\"orientation\":\"v\",\"showlegend\":true,\"x\":[\"SKU:  AH-J3AO-R7DN\",\"SKU:  W4-JQ2J-ZUF2\",\"SKU:  0M-RFE6-443C\"],\"xaxis\":\"x\",\"yaxis\":\"y\",\"type\":\"histogram\"},{\"alignmentgroup\":\"True\",\"bingroup\":\"x\",\"hovertemplate\":\"ship_state=DELHI<br>sku=%{x}<br>count=%{y}<extra></extra>\",\"legendgroup\":\"DELHI\",\"marker\":{\"color\":\"#ab63fa\",\"pattern\":{\"shape\":\"\"}},\"name\":\"DELHI\",\"offsetgroup\":\"DELHI\",\"orientation\":\"v\",\"showlegend\":true,\"x\":[\"SKU:  0M-RFE6-443C\",\"SKU:  54-D265-B74K\",\"SKU:  RG-29TH-MROF\",\"SKU:  D9-CVL3-8JF6\",\"SKU:  GP-RMI4-GJ6L\",\"SKU:  94-TSV3-EIW6\",\"SKU:  U1-8YOK-510E\",\"SKU:  2X-3C0F-KNJE\"],\"xaxis\":\"x\",\"yaxis\":\"y\",\"type\":\"histogram\"},{\"alignmentgroup\":\"True\",\"bingroup\":\"x\",\"hovertemplate\":\"ship_state=GOA<br>sku=%{x}<br>count=%{y}<extra></extra>\",\"legendgroup\":\"GOA\",\"marker\":{\"color\":\"#FFA15A\",\"pattern\":{\"shape\":\"\"}},\"name\":\"GOA\",\"offsetgroup\":\"GOA\",\"orientation\":\"v\",\"showlegend\":true,\"x\":[\"SKU:  DN-0WDX-VYOT\",\"SKU:  CR-6E69-UXFW\"],\"xaxis\":\"x\",\"yaxis\":\"y\",\"type\":\"histogram\"},{\"alignmentgroup\":\"True\",\"bingroup\":\"x\",\"hovertemplate\":\"ship_state=Odisha<br>sku=%{x}<br>count=%{y}<extra></extra>\",\"legendgroup\":\"Odisha\",\"marker\":{\"color\":\"#19d3f3\",\"pattern\":{\"shape\":\"\"}},\"name\":\"Odisha\",\"offsetgroup\":\"Odisha\",\"orientation\":\"v\",\"showlegend\":true,\"x\":[\"SKU:  DN-0WDX-VYOT\"],\"xaxis\":\"x\",\"yaxis\":\"y\",\"type\":\"histogram\"},{\"alignmentgroup\":\"True\",\"bingroup\":\"x\",\"hovertemplate\":\"ship_state=JAMMU & KASHMIR<br>sku=%{x}<br>count=%{y}<extra></extra>\",\"legendgroup\":\"JAMMU & KASHMIR\",\"marker\":{\"color\":\"#FF6692\",\"pattern\":{\"shape\":\"\"}},\"name\":\"JAMMU & KASHMIR\",\"offsetgroup\":\"JAMMU & KASHMIR\",\"orientation\":\"v\",\"showlegend\":true,\"x\":[\"SKU:  0M-RFE6-443C\"],\"xaxis\":\"x\",\"yaxis\":\"y\",\"type\":\"histogram\"},{\"alignmentgroup\":\"True\",\"bingroup\":\"x\",\"hovertemplate\":\"ship_state=GUJARAT<br>sku=%{x}<br>count=%{y}<extra></extra>\",\"legendgroup\":\"GUJARAT\",\"marker\":{\"color\":\"#B6E880\",\"pattern\":{\"shape\":\"\"}},\"name\":\"GUJARAT\",\"offsetgroup\":\"GUJARAT\",\"orientation\":\"v\",\"showlegend\":true,\"x\":[\"SKU:  9S-GE8P-RIR4\",\"SKU:  SB-WDQN-SDN9\",\"SKU:  3V-FKXN-C4QJ\",\"SKU:  2X-3C0F-KNJE\",\"SKU:  5B-NW9K-L3AO\",\"SKU:  S1-A92Q-JU3X\"],\"xaxis\":\"x\",\"yaxis\":\"y\",\"type\":\"histogram\"},{\"alignmentgroup\":\"True\",\"bingroup\":\"x\",\"hovertemplate\":\"ship_state=ASSAM<br>sku=%{x}<br>count=%{y}<extra></extra>\",\"legendgroup\":\"ASSAM\",\"marker\":{\"color\":\"#FF97FF\",\"pattern\":{\"shape\":\"\"}},\"name\":\"ASSAM\",\"offsetgroup\":\"ASSAM\",\"orientation\":\"v\",\"showlegend\":true,\"x\":[\"SKU:  9S-GE8P-RIR4\",\"SKU:  KL-7WAA-Z82I\",\"SKU:  I1-AWVT-2QOL\",\"SKU:  TQ-OE6K-9DIK\"],\"xaxis\":\"x\",\"yaxis\":\"y\",\"type\":\"histogram\"},{\"alignmentgroup\":\"True\",\"bingroup\":\"x\",\"hovertemplate\":\"ship_state=KERALA<br>sku=%{x}<br>count=%{y}<extra></extra>\",\"legendgroup\":\"KERALA\",\"marker\":{\"color\":\"#FECB52\",\"pattern\":{\"shape\":\"\"}},\"name\":\"KERALA\",\"offsetgroup\":\"KERALA\",\"orientation\":\"v\",\"showlegend\":true,\"x\":[\"SKU:  NU-CKZ5-4O49\",\"SKU:  9S-GE8P-RIR4\",\"SKU:  S1-A92Q-JU3X\",\"SKU:  V6-KQJX-XGP2\"],\"xaxis\":\"x\",\"yaxis\":\"y\",\"type\":\"histogram\"},{\"alignmentgroup\":\"True\",\"bingroup\":\"x\",\"hovertemplate\":\"ship_state=Maharashtra<br>sku=%{x}<br>count=%{y}<extra></extra>\",\"legendgroup\":\"Maharashtra\",\"marker\":{\"color\":\"#636efa\",\"pattern\":{\"shape\":\"\"}},\"name\":\"Maharashtra\",\"offsetgroup\":\"Maharashtra\",\"orientation\":\"v\",\"showlegend\":true,\"x\":[\"SKU:  0M-RFE6-443C\"],\"xaxis\":\"x\",\"yaxis\":\"y\",\"type\":\"histogram\"},{\"alignmentgroup\":\"True\",\"bingroup\":\"x\",\"hovertemplate\":\"ship_state=PUNJAB<br>sku=%{x}<br>count=%{y}<extra></extra>\",\"legendgroup\":\"PUNJAB\",\"marker\":{\"color\":\"#EF553B\",\"pattern\":{\"shape\":\"\"}},\"name\":\"PUNJAB\",\"offsetgroup\":\"PUNJAB\",\"orientation\":\"v\",\"showlegend\":true,\"x\":[\"SKU:  DN-0WDX-VYOT\"],\"xaxis\":\"x\",\"yaxis\":\"y\",\"type\":\"histogram\"},{\"alignmentgroup\":\"True\",\"bingroup\":\"x\",\"hovertemplate\":\"ship_state=RAJASTHAN<br>sku=%{x}<br>count=%{y}<extra></extra>\",\"legendgroup\":\"RAJASTHAN\",\"marker\":{\"color\":\"#00cc96\",\"pattern\":{\"shape\":\"\"}},\"name\":\"RAJASTHAN\",\"offsetgroup\":\"RAJASTHAN\",\"orientation\":\"v\",\"showlegend\":true,\"x\":[\"SKU:  SB-WDQN-SDN9\",\"SKU:  DN-0WDX-VYOT\",\"SKU:  DN-0WDX-VYOT\"],\"xaxis\":\"x\",\"yaxis\":\"y\",\"type\":\"histogram\"},{\"alignmentgroup\":\"True\",\"bingroup\":\"x\",\"hovertemplate\":\"ship_state=CHANDIGARH,<br>sku=%{x}<br>count=%{y}<extra></extra>\",\"legendgroup\":\"CHANDIGARH,\",\"marker\":{\"color\":\"#ab63fa\",\"pattern\":{\"shape\":\"\"}},\"name\":\"CHANDIGARH,\",\"offsetgroup\":\"CHANDIGARH,\",\"orientation\":\"v\",\"showlegend\":true,\"x\":[\"SKU:  54-D265-B74K\"],\"xaxis\":\"x\",\"yaxis\":\"y\",\"type\":\"histogram\"},{\"alignmentgroup\":\"True\",\"bingroup\":\"x\",\"hovertemplate\":\"ship_state=BIHAR<br>sku=%{x}<br>count=%{y}<extra></extra>\",\"legendgroup\":\"BIHAR\",\"marker\":{\"color\":\"#FFA15A\",\"pattern\":{\"shape\":\"\"}},\"name\":\"BIHAR\",\"offsetgroup\":\"BIHAR\",\"orientation\":\"v\",\"showlegend\":true,\"x\":[\"SKU:  X2-PMD5-PL2D\"],\"xaxis\":\"x\",\"yaxis\":\"y\",\"type\":\"histogram\"},{\"alignmentgroup\":\"True\",\"bingroup\":\"x\",\"hovertemplate\":\"ship_state=MADHYA Pradesh<br>sku=%{x}<br>count=%{y}<extra></extra>\",\"legendgroup\":\"MADHYA Pradesh\",\"marker\":{\"color\":\"#19d3f3\",\"pattern\":{\"shape\":\"\"}},\"name\":\"MADHYA Pradesh\",\"offsetgroup\":\"MADHYA Pradesh\",\"orientation\":\"v\",\"showlegend\":true,\"x\":[\"SKU:  CR-6E69-UXFW\"],\"xaxis\":\"x\",\"yaxis\":\"y\",\"type\":\"histogram\"},{\"alignmentgroup\":\"True\",\"bingroup\":\"x\",\"hovertemplate\":\"ship_state=MOHALI,<br>sku=%{x}<br>count=%{y}<extra></extra>\",\"legendgroup\":\"MOHALI,\",\"marker\":{\"color\":\"#FF6692\",\"pattern\":{\"shape\":\"\"}},\"name\":\"MOHALI,\",\"offsetgroup\":\"MOHALI,\",\"orientation\":\"v\",\"showlegend\":true,\"x\":[\"SKU:  DN-0WDX-VYOT\"],\"xaxis\":\"x\",\"yaxis\":\"y\",\"type\":\"histogram\"},{\"alignmentgroup\":\"True\",\"bingroup\":\"x\",\"hovertemplate\":\"ship_state=Andhra Pradesh<br>sku=%{x}<br>count=%{y}<extra></extra>\",\"legendgroup\":\"Andhra Pradesh\",\"marker\":{\"color\":\"#B6E880\",\"pattern\":{\"shape\":\"\"}},\"name\":\"Andhra Pradesh\",\"offsetgroup\":\"Andhra Pradesh\",\"orientation\":\"v\",\"showlegend\":true,\"x\":[\"SKU:  3F-4R9N-Z8NJ\"],\"xaxis\":\"x\",\"yaxis\":\"y\",\"type\":\"histogram\"},{\"alignmentgroup\":\"True\",\"bingroup\":\"x\",\"hovertemplate\":\"ship_state=Himachal Pradesh<br>sku=%{x}<br>count=%{y}<extra></extra>\",\"legendgroup\":\"Himachal Pradesh\",\"marker\":{\"color\":\"#FF97FF\",\"pattern\":{\"shape\":\"\"}},\"name\":\"Himachal Pradesh\",\"offsetgroup\":\"Himachal Pradesh\",\"orientation\":\"v\",\"showlegend\":true,\"x\":[\"SKU:  S1-A92Q-JU3X\"],\"xaxis\":\"x\",\"yaxis\":\"y\",\"type\":\"histogram\"},{\"alignmentgroup\":\"True\",\"bingroup\":\"x\",\"hovertemplate\":\"ship_state=UTTARAKHAND<br>sku=%{x}<br>count=%{y}<extra></extra>\",\"legendgroup\":\"UTTARAKHAND\",\"marker\":{\"color\":\"#FECB52\",\"pattern\":{\"shape\":\"\"}},\"name\":\"UTTARAKHAND\",\"offsetgroup\":\"UTTARAKHAND\",\"orientation\":\"v\",\"showlegend\":true,\"x\":[\"SKU:  SB-WDQN-SDN9\"],\"xaxis\":\"x\",\"yaxis\":\"y\",\"type\":\"histogram\"}],                        {\"template\":{\"data\":{\"bar\":[{\"error_x\":{\"color\":\"#2a3f5f\"},\"error_y\":{\"color\":\"#2a3f5f\"},\"marker\":{\"line\":{\"color\":\"#E5ECF6\",\"width\":0.5},\"pattern\":{\"fillmode\":\"overlay\",\"size\":10,\"solidity\":0.2}},\"type\":\"bar\"}],\"barpolar\":[{\"marker\":{\"line\":{\"color\":\"#E5ECF6\",\"width\":0.5},\"pattern\":{\"fillmode\":\"overlay\",\"size\":10,\"solidity\":0.2}},\"type\":\"barpolar\"}],\"carpet\":[{\"aaxis\":{\"endlinecolor\":\"#2a3f5f\",\"gridcolor\":\"white\",\"linecolor\":\"white\",\"minorgridcolor\":\"white\",\"startlinecolor\":\"#2a3f5f\"},\"baxis\":{\"endlinecolor\":\"#2a3f5f\",\"gridcolor\":\"white\",\"linecolor\":\"white\",\"minorgridcolor\":\"white\",\"startlinecolor\":\"#2a3f5f\"},\"type\":\"carpet\"}],\"choropleth\":[{\"colorbar\":{\"outlinewidth\":0,\"ticks\":\"\"},\"type\":\"choropleth\"}],\"contour\":[{\"colorbar\":{\"outlinewidth\":0,\"ticks\":\"\"},\"colorscale\":[[0.0,\"#0d0887\"],[0.1111111111111111,\"#46039f\"],[0.2222222222222222,\"#7201a8\"],[0.3333333333333333,\"#9c179e\"],[0.4444444444444444,\"#bd3786\"],[0.5555555555555556,\"#d8576b\"],[0.6666666666666666,\"#ed7953\"],[0.7777777777777778,\"#fb9f3a\"],[0.8888888888888888,\"#fdca26\"],[1.0,\"#f0f921\"]],\"type\":\"contour\"}],\"contourcarpet\":[{\"colorbar\":{\"outlinewidth\":0,\"ticks\":\"\"},\"type\":\"contourcarpet\"}],\"heatmap\":[{\"colorbar\":{\"outlinewidth\":0,\"ticks\":\"\"},\"colorscale\":[[0.0,\"#0d0887\"],[0.1111111111111111,\"#46039f\"],[0.2222222222222222,\"#7201a8\"],[0.3333333333333333,\"#9c179e\"],[0.4444444444444444,\"#bd3786\"],[0.5555555555555556,\"#d8576b\"],[0.6666666666666666,\"#ed7953\"],[0.7777777777777778,\"#fb9f3a\"],[0.8888888888888888,\"#fdca26\"],[1.0,\"#f0f921\"]],\"type\":\"heatmap\"}],\"heatmapgl\":[{\"colorbar\":{\"outlinewidth\":0,\"ticks\":\"\"},\"colorscale\":[[0.0,\"#0d0887\"],[0.1111111111111111,\"#46039f\"],[0.2222222222222222,\"#7201a8\"],[0.3333333333333333,\"#9c179e\"],[0.4444444444444444,\"#bd3786\"],[0.5555555555555556,\"#d8576b\"],[0.6666666666666666,\"#ed7953\"],[0.7777777777777778,\"#fb9f3a\"],[0.8888888888888888,\"#fdca26\"],[1.0,\"#f0f921\"]],\"type\":\"heatmapgl\"}],\"histogram\":[{\"marker\":{\"pattern\":{\"fillmode\":\"overlay\",\"size\":10,\"solidity\":0.2}},\"type\":\"histogram\"}],\"histogram2d\":[{\"colorbar\":{\"outlinewidth\":0,\"ticks\":\"\"},\"colorscale\":[[0.0,\"#0d0887\"],[0.1111111111111111,\"#46039f\"],[0.2222222222222222,\"#7201a8\"],[0.3333333333333333,\"#9c179e\"],[0.4444444444444444,\"#bd3786\"],[0.5555555555555556,\"#d8576b\"],[0.6666666666666666,\"#ed7953\"],[0.7777777777777778,\"#fb9f3a\"],[0.8888888888888888,\"#fdca26\"],[1.0,\"#f0f921\"]],\"type\":\"histogram2d\"}],\"histogram2dcontour\":[{\"colorbar\":{\"outlinewidth\":0,\"ticks\":\"\"},\"colorscale\":[[0.0,\"#0d0887\"],[0.1111111111111111,\"#46039f\"],[0.2222222222222222,\"#7201a8\"],[0.3333333333333333,\"#9c179e\"],[0.4444444444444444,\"#bd3786\"],[0.5555555555555556,\"#d8576b\"],[0.6666666666666666,\"#ed7953\"],[0.7777777777777778,\"#fb9f3a\"],[0.8888888888888888,\"#fdca26\"],[1.0,\"#f0f921\"]],\"type\":\"histogram2dcontour\"}],\"mesh3d\":[{\"colorbar\":{\"outlinewidth\":0,\"ticks\":\"\"},\"type\":\"mesh3d\"}],\"parcoords\":[{\"line\":{\"colorbar\":{\"outlinewidth\":0,\"ticks\":\"\"}},\"type\":\"parcoords\"}],\"pie\":[{\"automargin\":true,\"type\":\"pie\"}],\"scatter\":[{\"marker\":{\"colorbar\":{\"outlinewidth\":0,\"ticks\":\"\"}},\"type\":\"scatter\"}],\"scatter3d\":[{\"line\":{\"colorbar\":{\"outlinewidth\":0,\"ticks\":\"\"}},\"marker\":{\"colorbar\":{\"outlinewidth\":0,\"ticks\":\"\"}},\"type\":\"scatter3d\"}],\"scattercarpet\":[{\"marker\":{\"colorbar\":{\"outlinewidth\":0,\"ticks\":\"\"}},\"type\":\"scattercarpet\"}],\"scattergeo\":[{\"marker\":{\"colorbar\":{\"outlinewidth\":0,\"ticks\":\"\"}},\"type\":\"scattergeo\"}],\"scattergl\":[{\"marker\":{\"colorbar\":{\"outlinewidth\":0,\"ticks\":\"\"}},\"type\":\"scattergl\"}],\"scattermapbox\":[{\"marker\":{\"colorbar\":{\"outlinewidth\":0,\"ticks\":\"\"}},\"type\":\"scattermapbox\"}],\"scatterpolar\":[{\"marker\":{\"colorbar\":{\"outlinewidth\":0,\"ticks\":\"\"}},\"type\":\"scatterpolar\"}],\"scatterpolargl\":[{\"marker\":{\"colorbar\":{\"outlinewidth\":0,\"ticks\":\"\"}},\"type\":\"scatterpolargl\"}],\"scatterternary\":[{\"marker\":{\"colorbar\":{\"outlinewidth\":0,\"ticks\":\"\"}},\"type\":\"scatterternary\"}],\"surface\":[{\"colorbar\":{\"outlinewidth\":0,\"ticks\":\"\"},\"colorscale\":[[0.0,\"#0d0887\"],[0.1111111111111111,\"#46039f\"],[0.2222222222222222,\"#7201a8\"],[0.3333333333333333,\"#9c179e\"],[0.4444444444444444,\"#bd3786\"],[0.5555555555555556,\"#d8576b\"],[0.6666666666666666,\"#ed7953\"],[0.7777777777777778,\"#fb9f3a\"],[0.8888888888888888,\"#fdca26\"],[1.0,\"#f0f921\"]],\"type\":\"surface\"}],\"table\":[{\"cells\":{\"fill\":{\"color\":\"#EBF0F8\"},\"line\":{\"color\":\"white\"}},\"header\":{\"fill\":{\"color\":\"#C8D4E3\"},\"line\":{\"color\":\"white\"}},\"type\":\"table\"}]},\"layout\":{\"annotationdefaults\":{\"arrowcolor\":\"#2a3f5f\",\"arrowhead\":0,\"arrowwidth\":1},\"autotypenumbers\":\"strict\",\"coloraxis\":{\"colorbar\":{\"outlinewidth\":0,\"ticks\":\"\"}},\"colorscale\":{\"diverging\":[[0,\"#8e0152\"],[0.1,\"#c51b7d\"],[0.2,\"#de77ae\"],[0.3,\"#f1b6da\"],[0.4,\"#fde0ef\"],[0.5,\"#f7f7f7\"],[0.6,\"#e6f5d0\"],[0.7,\"#b8e186\"],[0.8,\"#7fbc41\"],[0.9,\"#4d9221\"],[1,\"#276419\"]],\"sequential\":[[0.0,\"#0d0887\"],[0.1111111111111111,\"#46039f\"],[0.2222222222222222,\"#7201a8\"],[0.3333333333333333,\"#9c179e\"],[0.4444444444444444,\"#bd3786\"],[0.5555555555555556,\"#d8576b\"],[0.6666666666666666,\"#ed7953\"],[0.7777777777777778,\"#fb9f3a\"],[0.8888888888888888,\"#fdca26\"],[1.0,\"#f0f921\"]],\"sequentialminus\":[[0.0,\"#0d0887\"],[0.1111111111111111,\"#46039f\"],[0.2222222222222222,\"#7201a8\"],[0.3333333333333333,\"#9c179e\"],[0.4444444444444444,\"#bd3786\"],[0.5555555555555556,\"#d8576b\"],[0.6666666666666666,\"#ed7953\"],[0.7777777777777778,\"#fb9f3a\"],[0.8888888888888888,\"#fdca26\"],[1.0,\"#f0f921\"]]},\"colorway\":[\"#636efa\",\"#EF553B\",\"#00cc96\",\"#ab63fa\",\"#FFA15A\",\"#19d3f3\",\"#FF6692\",\"#B6E880\",\"#FF97FF\",\"#FECB52\"],\"font\":{\"color\":\"#2a3f5f\"},\"geo\":{\"bgcolor\":\"white\",\"lakecolor\":\"white\",\"landcolor\":\"#E5ECF6\",\"showlakes\":true,\"showland\":true,\"subunitcolor\":\"white\"},\"hoverlabel\":{\"align\":\"left\"},\"hovermode\":\"closest\",\"mapbox\":{\"style\":\"light\"},\"paper_bgcolor\":\"white\",\"plot_bgcolor\":\"#E5ECF6\",\"polar\":{\"angularaxis\":{\"gridcolor\":\"white\",\"linecolor\":\"white\",\"ticks\":\"\"},\"bgcolor\":\"#E5ECF6\",\"radialaxis\":{\"gridcolor\":\"white\",\"linecolor\":\"white\",\"ticks\":\"\"}},\"scene\":{\"xaxis\":{\"backgroundcolor\":\"#E5ECF6\",\"gridcolor\":\"white\",\"gridwidth\":2,\"linecolor\":\"white\",\"showbackground\":true,\"ticks\":\"\",\"zerolinecolor\":\"white\"},\"yaxis\":{\"backgroundcolor\":\"#E5ECF6\",\"gridcolor\":\"white\",\"gridwidth\":2,\"linecolor\":\"white\",\"showbackground\":true,\"ticks\":\"\",\"zerolinecolor\":\"white\"},\"zaxis\":{\"backgroundcolor\":\"#E5ECF6\",\"gridcolor\":\"white\",\"gridwidth\":2,\"linecolor\":\"white\",\"showbackground\":true,\"ticks\":\"\",\"zerolinecolor\":\"white\"}},\"shapedefaults\":{\"line\":{\"color\":\"#2a3f5f\"}},\"ternary\":{\"aaxis\":{\"gridcolor\":\"white\",\"linecolor\":\"white\",\"ticks\":\"\"},\"baxis\":{\"gridcolor\":\"white\",\"linecolor\":\"white\",\"ticks\":\"\"},\"bgcolor\":\"#E5ECF6\",\"caxis\":{\"gridcolor\":\"white\",\"linecolor\":\"white\",\"ticks\":\"\"}},\"title\":{\"x\":0.05},\"xaxis\":{\"automargin\":true,\"gridcolor\":\"white\",\"linecolor\":\"white\",\"ticks\":\"\",\"title\":{\"standoff\":15},\"zerolinecolor\":\"white\",\"zerolinewidth\":2},\"yaxis\":{\"automargin\":true,\"gridcolor\":\"white\",\"linecolor\":\"white\",\"ticks\":\"\",\"title\":{\"standoff\":15},\"zerolinecolor\":\"white\",\"zerolinewidth\":2}}},\"xaxis\":{\"anchor\":\"y\",\"domain\":[0.0,1.0],\"title\":{\"text\":\"sku\"}},\"yaxis\":{\"anchor\":\"x\",\"domain\":[0.0,1.0],\"title\":{\"text\":\"count\"}},\"legend\":{\"title\":{\"text\":\"ship_state\"},\"tracegroupgap\":0},\"margin\":{\"t\":60},\"barmode\":\"relative\"},                        {\"responsive\": true}                    ).then(function(){\n",
       "                            \n",
       "var gd = document.getElementById('5ce5c530-30df-4e39-8cb1-fecdda87e8e6');\n",
       "var x = new MutationObserver(function (mutations, observer) {{\n",
       "        var display = window.getComputedStyle(gd).display;\n",
       "        if (!display || display === 'none') {{\n",
       "            console.log([gd, 'removed!']);\n",
       "            Plotly.purge(gd);\n",
       "            observer.disconnect();\n",
       "        }}\n",
       "}});\n",
       "\n",
       "// Listen for the removal of the full notebook cells\n",
       "var notebookContainer = gd.closest('#notebook-container');\n",
       "if (notebookContainer) {{\n",
       "    x.observe(notebookContainer, {childList: true});\n",
       "}}\n",
       "\n",
       "// Listen for the clearing of the current output cell\n",
       "var outputEl = gd.closest('.output');\n",
       "if (outputEl) {{\n",
       "    x.observe(outputEl, {childList: true});\n",
       "}}\n",
       "\n",
       "                        })                };                });            </script>        </div>"
      ]
     },
     "metadata": {},
     "output_type": "display_data"
    }
   ],
   "source": [
    "import plotly.express as px\n",
    "\n",
    "graficos = px.histogram(dados, x =\"item_total\",color = \"ship_state\")\n",
    "graficos.show()\n",
    "graficos = px.histogram(dados, x =\"quantity\",color = \"ship_state\")\n",
    "graficos.show()\n",
    "graficos = px.histogram(dados, x =\"sku\",color = \"ship_state\")\n",
    "graficos.show()"
   ]
  },
  {
   "cell_type": "code",
   "execution_count": null,
   "id": "f6dbc22a",
   "metadata": {},
   "outputs": [],
   "source": []
  }
 ],
 "metadata": {
  "kernelspec": {
   "display_name": "Python 3 (ipykernel)",
   "language": "python",
   "name": "python3"
  },
  "language_info": {
   "codemirror_mode": {
    "name": "ipython",
    "version": 3
   },
   "file_extension": ".py",
   "mimetype": "text/x-python",
   "name": "python",
   "nbconvert_exporter": "python",
   "pygments_lexer": "ipython3",
   "version": "3.9.7"
  }
 },
 "nbformat": 4,
 "nbformat_minor": 5
}
